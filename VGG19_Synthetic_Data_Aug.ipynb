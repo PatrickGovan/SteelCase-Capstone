{
 "cells": [
  {
   "cell_type": "code",
   "execution_count": 1,
   "id": "5ed64389-cd7f-4385-ae7b-2f111414929b",
   "metadata": {},
   "outputs": [],
   "source": [
    "import pandas as pd\n",
    "import numpy as np\n",
    "import seaborn as sns\n",
    "import matplotlib.pyplot as plt\n",
    "from PIL import Image\n",
    "import os\n",
    "import pickle"
   ]
  },
  {
   "cell_type": "markdown",
   "id": "4c6cdafd-4664-47f1-bcbc-1515d5f7b236",
   "metadata": {},
   "source": [
    "## Loading Synthetic Data"
   ]
  },
  {
   "cell_type": "code",
   "execution_count": 2,
   "id": "06e263fc-604c-464a-959d-2be837c8e706",
   "metadata": {},
   "outputs": [
    {
     "data": {
      "text/html": [
       "<div>\n",
       "<style scoped>\n",
       "    .dataframe tbody tr th:only-of-type {\n",
       "        vertical-align: middle;\n",
       "    }\n",
       "\n",
       "    .dataframe tbody tr th {\n",
       "        vertical-align: top;\n",
       "    }\n",
       "\n",
       "    .dataframe thead th {\n",
       "        text-align: right;\n",
       "    }\n",
       "</style>\n",
       "<table border=\"1\" class=\"dataframe\">\n",
       "  <thead>\n",
       "    <tr style=\"text-align: right;\">\n",
       "      <th></th>\n",
       "      <th>key</th>\n",
       "      <th>label</th>\n",
       "      <th>image_path</th>\n",
       "    </tr>\n",
       "  </thead>\n",
       "  <tbody>\n",
       "    <tr>\n",
       "      <th>0</th>\n",
       "      <td>006a2d3bb2b7435fb6d96e7f320efe42_wout_0_Top.png</td>\n",
       "      <td>0</td>\n",
       "      <td>synth_renders/invalid_floorplans/006a2d3bb2b74...</td>\n",
       "    </tr>\n",
       "    <tr>\n",
       "      <th>1</th>\n",
       "      <td>006a2d3bb2b7435fb6d96e7f320efe42_wout_10_Top.png</td>\n",
       "      <td>0</td>\n",
       "      <td>synth_renders/invalid_floorplans/006a2d3bb2b74...</td>\n",
       "    </tr>\n",
       "    <tr>\n",
       "      <th>2</th>\n",
       "      <td>006a2d3bb2b7435fb6d96e7f320efe42_wout_11_Top.png</td>\n",
       "      <td>0</td>\n",
       "      <td>synth_renders/invalid_floorplans/006a2d3bb2b74...</td>\n",
       "    </tr>\n",
       "    <tr>\n",
       "      <th>3</th>\n",
       "      <td>006a2d3bb2b7435fb6d96e7f320efe42_wout_12_Top.png</td>\n",
       "      <td>0</td>\n",
       "      <td>synth_renders/invalid_floorplans/006a2d3bb2b74...</td>\n",
       "    </tr>\n",
       "    <tr>\n",
       "      <th>4</th>\n",
       "      <td>006a2d3bb2b7435fb6d96e7f320efe42_wout_13_Top.png</td>\n",
       "      <td>0</td>\n",
       "      <td>synth_renders/invalid_floorplans/006a2d3bb2b74...</td>\n",
       "    </tr>\n",
       "    <tr>\n",
       "      <th>...</th>\n",
       "      <td>...</td>\n",
       "      <td>...</td>\n",
       "      <td>...</td>\n",
       "    </tr>\n",
       "    <tr>\n",
       "      <th>645</th>\n",
       "      <td>1c0e78764f794b88922ea3e511446274_wout_5_Top.png</td>\n",
       "      <td>0</td>\n",
       "      <td>synth_renders/invalid_floorplans/1c0e78764f794...</td>\n",
       "    </tr>\n",
       "    <tr>\n",
       "      <th>646</th>\n",
       "      <td>1c0e78764f794b88922ea3e511446274_wout_6_Top.png</td>\n",
       "      <td>0</td>\n",
       "      <td>synth_renders/invalid_floorplans/1c0e78764f794...</td>\n",
       "    </tr>\n",
       "    <tr>\n",
       "      <th>647</th>\n",
       "      <td>1c0e78764f794b88922ea3e511446274_wout_7_Top.png</td>\n",
       "      <td>0</td>\n",
       "      <td>synth_renders/invalid_floorplans/1c0e78764f794...</td>\n",
       "    </tr>\n",
       "    <tr>\n",
       "      <th>648</th>\n",
       "      <td>1c0e78764f794b88922ea3e511446274_wout_8_Top.png</td>\n",
       "      <td>0</td>\n",
       "      <td>synth_renders/invalid_floorplans/1c0e78764f794...</td>\n",
       "    </tr>\n",
       "    <tr>\n",
       "      <th>649</th>\n",
       "      <td>1c0e78764f794b88922ea3e511446274_wout_9_Top.png</td>\n",
       "      <td>0</td>\n",
       "      <td>synth_renders/invalid_floorplans/1c0e78764f794...</td>\n",
       "    </tr>\n",
       "  </tbody>\n",
       "</table>\n",
       "<p>650 rows × 3 columns</p>\n",
       "</div>"
      ],
      "text/plain": [
       "                                                  key  label  \\\n",
       "0     006a2d3bb2b7435fb6d96e7f320efe42_wout_0_Top.png      0   \n",
       "1    006a2d3bb2b7435fb6d96e7f320efe42_wout_10_Top.png      0   \n",
       "2    006a2d3bb2b7435fb6d96e7f320efe42_wout_11_Top.png      0   \n",
       "3    006a2d3bb2b7435fb6d96e7f320efe42_wout_12_Top.png      0   \n",
       "4    006a2d3bb2b7435fb6d96e7f320efe42_wout_13_Top.png      0   \n",
       "..                                                ...    ...   \n",
       "645   1c0e78764f794b88922ea3e511446274_wout_5_Top.png      0   \n",
       "646   1c0e78764f794b88922ea3e511446274_wout_6_Top.png      0   \n",
       "647   1c0e78764f794b88922ea3e511446274_wout_7_Top.png      0   \n",
       "648   1c0e78764f794b88922ea3e511446274_wout_8_Top.png      0   \n",
       "649   1c0e78764f794b88922ea3e511446274_wout_9_Top.png      0   \n",
       "\n",
       "                                            image_path  \n",
       "0    synth_renders/invalid_floorplans/006a2d3bb2b74...  \n",
       "1    synth_renders/invalid_floorplans/006a2d3bb2b74...  \n",
       "2    synth_renders/invalid_floorplans/006a2d3bb2b74...  \n",
       "3    synth_renders/invalid_floorplans/006a2d3bb2b74...  \n",
       "4    synth_renders/invalid_floorplans/006a2d3bb2b74...  \n",
       "..                                                 ...  \n",
       "645  synth_renders/invalid_floorplans/1c0e78764f794...  \n",
       "646  synth_renders/invalid_floorplans/1c0e78764f794...  \n",
       "647  synth_renders/invalid_floorplans/1c0e78764f794...  \n",
       "648  synth_renders/invalid_floorplans/1c0e78764f794...  \n",
       "649  synth_renders/invalid_floorplans/1c0e78764f794...  \n",
       "\n",
       "[650 rows x 3 columns]"
      ]
     },
     "execution_count": 2,
     "metadata": {},
     "output_type": "execute_result"
    }
   ],
   "source": [
    "data1 = pd.DataFrame()\n",
    "\n",
    "file_path = 'synth_renders/invalid_floorplans.txt'\n",
    "\n",
    "with open(file_path, 'r') as file:\n",
    "    content_list = file.read().splitlines()\n",
    "\n",
    "data1['key'] = content_list\n",
    "data1['label'] = 0\n",
    "\n",
    "def image_path(key):\n",
    "    return f\"synth_renders/invalid_floorplans/{key}\"\n",
    "\n",
    "data1['image_path'] = data1['key'].apply(image_path)\n",
    "\n",
    "data1"
   ]
  },
  {
   "cell_type": "code",
   "execution_count": 3,
   "id": "43c245af-7ebd-4fe0-8b53-4fb8c62f048f",
   "metadata": {},
   "outputs": [
    {
     "data": {
      "text/html": [
       "<div>\n",
       "<style scoped>\n",
       "    .dataframe tbody tr th:only-of-type {\n",
       "        vertical-align: middle;\n",
       "    }\n",
       "\n",
       "    .dataframe tbody tr th {\n",
       "        vertical-align: top;\n",
       "    }\n",
       "\n",
       "    .dataframe thead th {\n",
       "        text-align: right;\n",
       "    }\n",
       "</style>\n",
       "<table border=\"1\" class=\"dataframe\">\n",
       "  <thead>\n",
       "    <tr style=\"text-align: right;\">\n",
       "      <th></th>\n",
       "      <th>key</th>\n",
       "      <th>label</th>\n",
       "      <th>image_path</th>\n",
       "    </tr>\n",
       "  </thead>\n",
       "  <tbody>\n",
       "    <tr>\n",
       "      <th>0</th>\n",
       "      <td>006a2d3bb2b7435fb6d96e7f320efe42_wout_1_Top.png</td>\n",
       "      <td>1</td>\n",
       "      <td>synth_renders/valid_floorplans/006a2d3bb2b7435...</td>\n",
       "    </tr>\n",
       "    <tr>\n",
       "      <th>1</th>\n",
       "      <td>006a2d3bb2b7435fb6d96e7f320efe42_wout_27_Top.png</td>\n",
       "      <td>1</td>\n",
       "      <td>synth_renders/valid_floorplans/006a2d3bb2b7435...</td>\n",
       "    </tr>\n",
       "    <tr>\n",
       "      <th>2</th>\n",
       "      <td>006a2d3bb2b7435fb6d96e7f320efe42_wout_2_Top.png</td>\n",
       "      <td>1</td>\n",
       "      <td>synth_renders/valid_floorplans/006a2d3bb2b7435...</td>\n",
       "    </tr>\n",
       "    <tr>\n",
       "      <th>3</th>\n",
       "      <td>006a2d3bb2b7435fb6d96e7f320efe42_wout_44_Top.png</td>\n",
       "      <td>1</td>\n",
       "      <td>synth_renders/valid_floorplans/006a2d3bb2b7435...</td>\n",
       "    </tr>\n",
       "    <tr>\n",
       "      <th>4</th>\n",
       "      <td>006a2d3bb2b7435fb6d96e7f320efe42_wout_48_Top.png</td>\n",
       "      <td>1</td>\n",
       "      <td>synth_renders/valid_floorplans/006a2d3bb2b7435...</td>\n",
       "    </tr>\n",
       "    <tr>\n",
       "      <th>...</th>\n",
       "      <td>...</td>\n",
       "      <td>...</td>\n",
       "      <td>...</td>\n",
       "    </tr>\n",
       "    <tr>\n",
       "      <th>640</th>\n",
       "      <td>bfb7f53ccc0242588a8f6898e502d10f_wout_6_Top.png</td>\n",
       "      <td>1</td>\n",
       "      <td>synth_renders/valid_floorplans/bfb7f53ccc02425...</td>\n",
       "    </tr>\n",
       "    <tr>\n",
       "      <th>641</th>\n",
       "      <td>bfb7f53ccc0242588a8f6898e502d10f_wout_7_Top.png</td>\n",
       "      <td>1</td>\n",
       "      <td>synth_renders/valid_floorplans/bfb7f53ccc02425...</td>\n",
       "    </tr>\n",
       "    <tr>\n",
       "      <th>642</th>\n",
       "      <td>bfc0d80669bf40fd9c001975e31c56ce_wout_0_Top.png</td>\n",
       "      <td>1</td>\n",
       "      <td>synth_renders/valid_floorplans/bfc0d80669bf40f...</td>\n",
       "    </tr>\n",
       "    <tr>\n",
       "      <th>643</th>\n",
       "      <td>bfc0d80669bf40fd9c001975e31c56ce_wout_1_Top.png</td>\n",
       "      <td>1</td>\n",
       "      <td>synth_renders/valid_floorplans/bfc0d80669bf40f...</td>\n",
       "    </tr>\n",
       "    <tr>\n",
       "      <th>644</th>\n",
       "      <td>bfc0d80669bf40fd9c001975e31c56ce_wout_2_Top.png</td>\n",
       "      <td>1</td>\n",
       "      <td>synth_renders/valid_floorplans/bfc0d80669bf40f...</td>\n",
       "    </tr>\n",
       "  </tbody>\n",
       "</table>\n",
       "<p>645 rows × 3 columns</p>\n",
       "</div>"
      ],
      "text/plain": [
       "                                                  key  label  \\\n",
       "0     006a2d3bb2b7435fb6d96e7f320efe42_wout_1_Top.png      1   \n",
       "1    006a2d3bb2b7435fb6d96e7f320efe42_wout_27_Top.png      1   \n",
       "2     006a2d3bb2b7435fb6d96e7f320efe42_wout_2_Top.png      1   \n",
       "3    006a2d3bb2b7435fb6d96e7f320efe42_wout_44_Top.png      1   \n",
       "4    006a2d3bb2b7435fb6d96e7f320efe42_wout_48_Top.png      1   \n",
       "..                                                ...    ...   \n",
       "640   bfb7f53ccc0242588a8f6898e502d10f_wout_6_Top.png      1   \n",
       "641   bfb7f53ccc0242588a8f6898e502d10f_wout_7_Top.png      1   \n",
       "642   bfc0d80669bf40fd9c001975e31c56ce_wout_0_Top.png      1   \n",
       "643   bfc0d80669bf40fd9c001975e31c56ce_wout_1_Top.png      1   \n",
       "644   bfc0d80669bf40fd9c001975e31c56ce_wout_2_Top.png      1   \n",
       "\n",
       "                                            image_path  \n",
       "0    synth_renders/valid_floorplans/006a2d3bb2b7435...  \n",
       "1    synth_renders/valid_floorplans/006a2d3bb2b7435...  \n",
       "2    synth_renders/valid_floorplans/006a2d3bb2b7435...  \n",
       "3    synth_renders/valid_floorplans/006a2d3bb2b7435...  \n",
       "4    synth_renders/valid_floorplans/006a2d3bb2b7435...  \n",
       "..                                                 ...  \n",
       "640  synth_renders/valid_floorplans/bfb7f53ccc02425...  \n",
       "641  synth_renders/valid_floorplans/bfb7f53ccc02425...  \n",
       "642  synth_renders/valid_floorplans/bfc0d80669bf40f...  \n",
       "643  synth_renders/valid_floorplans/bfc0d80669bf40f...  \n",
       "644  synth_renders/valid_floorplans/bfc0d80669bf40f...  \n",
       "\n",
       "[645 rows x 3 columns]"
      ]
     },
     "execution_count": 3,
     "metadata": {},
     "output_type": "execute_result"
    }
   ],
   "source": [
    "data2 = pd.DataFrame()\n",
    "\n",
    "file_path = 'synth_renders/valid_floorplans.txt'\n",
    "\n",
    "with open(file_path, 'r') as file:\n",
    "    content_list = file.read().splitlines()\n",
    "\n",
    "data2['key'] = content_list\n",
    "data2['label'] = 1\n",
    "\n",
    "def image_path(key):\n",
    "    return f\"synth_renders/valid_floorplans/{key}\"\n",
    "\n",
    "data2['image_path'] = data2['key'].apply(image_path)\n",
    "\n",
    "data2"
   ]
  },
  {
   "cell_type": "code",
   "execution_count": 4,
   "id": "22c45c63-f371-41f1-9596-2544e0dcf1cb",
   "metadata": {},
   "outputs": [
    {
     "data": {
      "text/html": [
       "<div>\n",
       "<style scoped>\n",
       "    .dataframe tbody tr th:only-of-type {\n",
       "        vertical-align: middle;\n",
       "    }\n",
       "\n",
       "    .dataframe tbody tr th {\n",
       "        vertical-align: top;\n",
       "    }\n",
       "\n",
       "    .dataframe thead th {\n",
       "        text-align: right;\n",
       "    }\n",
       "</style>\n",
       "<table border=\"1\" class=\"dataframe\">\n",
       "  <thead>\n",
       "    <tr style=\"text-align: right;\">\n",
       "      <th></th>\n",
       "      <th>key</th>\n",
       "      <th>label</th>\n",
       "      <th>image_path</th>\n",
       "    </tr>\n",
       "  </thead>\n",
       "  <tbody>\n",
       "    <tr>\n",
       "      <th>0</th>\n",
       "      <td>01c1ac1113dc4770a2690dc9e7218859_wout_16_Top.png</td>\n",
       "      <td>1</td>\n",
       "      <td>synth_renders/valid_floorplans/01c1ac1113dc477...</td>\n",
       "    </tr>\n",
       "    <tr>\n",
       "      <th>1</th>\n",
       "      <td>03ce3a320471444f9258505270f12002_wout_1_Top.png</td>\n",
       "      <td>0</td>\n",
       "      <td>synth_renders/invalid_floorplans/03ce3a3204714...</td>\n",
       "    </tr>\n",
       "    <tr>\n",
       "      <th>2</th>\n",
       "      <td>bfc0d80669bf40fd9c001975e31c56ce_wout_2_Top.png</td>\n",
       "      <td>1</td>\n",
       "      <td>synth_renders/valid_floorplans/bfc0d80669bf40f...</td>\n",
       "    </tr>\n",
       "    <tr>\n",
       "      <th>3</th>\n",
       "      <td>118e326a8dea480d80369a9c9d88eeb3_wout_7_Top.png</td>\n",
       "      <td>0</td>\n",
       "      <td>synth_renders/invalid_floorplans/118e326a8dea4...</td>\n",
       "    </tr>\n",
       "    <tr>\n",
       "      <th>4</th>\n",
       "      <td>3ef8723922e94b65bb200cfa7baf5d0b_wout_16_Top.png</td>\n",
       "      <td>1</td>\n",
       "      <td>synth_renders/valid_floorplans/3ef8723922e94b6...</td>\n",
       "    </tr>\n",
       "    <tr>\n",
       "      <th>...</th>\n",
       "      <td>...</td>\n",
       "      <td>...</td>\n",
       "      <td>...</td>\n",
       "    </tr>\n",
       "    <tr>\n",
       "      <th>1290</th>\n",
       "      <td>05b8e14c1cbc48f3b50491c0597f3e28_wout_31_Top.png</td>\n",
       "      <td>0</td>\n",
       "      <td>synth_renders/invalid_floorplans/05b8e14c1cbc4...</td>\n",
       "    </tr>\n",
       "    <tr>\n",
       "      <th>1291</th>\n",
       "      <td>1bad7affe06c42788ec433197efd2c40_wout_16_Top.png</td>\n",
       "      <td>0</td>\n",
       "      <td>synth_renders/invalid_floorplans/1bad7affe06c4...</td>\n",
       "    </tr>\n",
       "    <tr>\n",
       "      <th>1292</th>\n",
       "      <td>180722ee3fb649519d8b6d79271bdc25_wout_7_Top.png</td>\n",
       "      <td>0</td>\n",
       "      <td>synth_renders/invalid_floorplans/180722ee3fb64...</td>\n",
       "    </tr>\n",
       "    <tr>\n",
       "      <th>1293</th>\n",
       "      <td>63a17b60623c4e5e84361e06a61b8f3d_wout_2_Top.png</td>\n",
       "      <td>1</td>\n",
       "      <td>synth_renders/valid_floorplans/63a17b60623c4e5...</td>\n",
       "    </tr>\n",
       "    <tr>\n",
       "      <th>1294</th>\n",
       "      <td>83eb8938beb349acbfd7c8c687ee0bc0_wout_7_Top.png</td>\n",
       "      <td>1</td>\n",
       "      <td>synth_renders/valid_floorplans/83eb8938beb349a...</td>\n",
       "    </tr>\n",
       "  </tbody>\n",
       "</table>\n",
       "<p>1295 rows × 3 columns</p>\n",
       "</div>"
      ],
      "text/plain": [
       "                                                   key  label  \\\n",
       "0     01c1ac1113dc4770a2690dc9e7218859_wout_16_Top.png      1   \n",
       "1      03ce3a320471444f9258505270f12002_wout_1_Top.png      0   \n",
       "2      bfc0d80669bf40fd9c001975e31c56ce_wout_2_Top.png      1   \n",
       "3      118e326a8dea480d80369a9c9d88eeb3_wout_7_Top.png      0   \n",
       "4     3ef8723922e94b65bb200cfa7baf5d0b_wout_16_Top.png      1   \n",
       "...                                                ...    ...   \n",
       "1290  05b8e14c1cbc48f3b50491c0597f3e28_wout_31_Top.png      0   \n",
       "1291  1bad7affe06c42788ec433197efd2c40_wout_16_Top.png      0   \n",
       "1292   180722ee3fb649519d8b6d79271bdc25_wout_7_Top.png      0   \n",
       "1293   63a17b60623c4e5e84361e06a61b8f3d_wout_2_Top.png      1   \n",
       "1294   83eb8938beb349acbfd7c8c687ee0bc0_wout_7_Top.png      1   \n",
       "\n",
       "                                             image_path  \n",
       "0     synth_renders/valid_floorplans/01c1ac1113dc477...  \n",
       "1     synth_renders/invalid_floorplans/03ce3a3204714...  \n",
       "2     synth_renders/valid_floorplans/bfc0d80669bf40f...  \n",
       "3     synth_renders/invalid_floorplans/118e326a8dea4...  \n",
       "4     synth_renders/valid_floorplans/3ef8723922e94b6...  \n",
       "...                                                 ...  \n",
       "1290  synth_renders/invalid_floorplans/05b8e14c1cbc4...  \n",
       "1291  synth_renders/invalid_floorplans/1bad7affe06c4...  \n",
       "1292  synth_renders/invalid_floorplans/180722ee3fb64...  \n",
       "1293  synth_renders/valid_floorplans/63a17b60623c4e5...  \n",
       "1294  synth_renders/valid_floorplans/83eb8938beb349a...  \n",
       "\n",
       "[1295 rows x 3 columns]"
      ]
     },
     "execution_count": 4,
     "metadata": {},
     "output_type": "execute_result"
    }
   ],
   "source": [
    "data = pd.concat([data1, data2], ignore_index=True)\n",
    "data = data.sample(frac=1).reset_index(drop=True)\n",
    "data "
   ]
  },
  {
   "cell_type": "code",
   "execution_count": 5,
   "id": "edbee60a-8548-41bf-882f-3989a0e23b2c",
   "metadata": {},
   "outputs": [],
   "source": [
    "data['image'] = data['image_path'].map(lambda x: np.asarray(Image.open(x).resize((224,224)).convert('RGB'))) "
   ]
  },
  {
   "cell_type": "code",
   "execution_count": 6,
   "id": "6700771f-237d-4a2a-b5c3-da41a3f82201",
   "metadata": {},
   "outputs": [],
   "source": [
    "data['image'] = [arr.astype(np.int16) for arr in data['image']]"
   ]
  },
  {
   "cell_type": "code",
   "execution_count": 7,
   "id": "b542a4ce-2bf7-47ef-bb66-0839e8ed57b5",
   "metadata": {},
   "outputs": [
    {
     "data": {
      "text/plain": [
       "<matplotlib.image.AxesImage at 0x1520695d0>"
      ]
     },
     "execution_count": 7,
     "metadata": {},
     "output_type": "execute_result"
    },
    {
     "data": {
      "image/png": "[encoded data removed]",
      "text/plain": [
       "<Figure size 640x480 with 1 Axes>"
      ]
     },
     "metadata": {},
     "output_type": "display_data"
    }
   ],
   "source": [
    "plt.imshow(data.image[24])"
   ]
  },
  {
   "cell_type": "markdown",
   "id": "430bec40-2512-4e9e-b4fc-41d2d7d32814",
   "metadata": {},
   "source": [
    "## VGG19 Model"
   ]
  },
  {
   "cell_type": "code",
   "execution_count": 8,
   "id": "ed794d77-fa14-4271-8b41-09257203958f",
   "metadata": {},
   "outputs": [],
   "source": [
    "from keras.applications.vgg19 import VGG19, preprocess_input\n",
    "from keras.preprocessing import image\n",
    "from keras.models import Model\n",
    "from tqdm import tqdm"
   ]
  },
  {
   "cell_type": "code",
   "execution_count": 9,
   "id": "358d27cb-9398-49d0-9221-12964255881b",
   "metadata": {},
   "outputs": [],
   "source": [
    "base_model = VGG19(weights='imagenet', include_top=False)\n",
    "model = Model(inputs=base_model.input, outputs=base_model.get_layer('block5_pool').output)"
   ]
  },
  {
   "cell_type": "code",
   "execution_count": 10,
   "id": "a2719140-fc8a-4ec7-8044-b5e413ddc383",
   "metadata": {},
   "outputs": [],
   "source": [
    "def get_embedding(model, pil_img):\n",
    "    if pil_img.size != (224, 224):\n",
    "        pil_img = pil_img.resize((224, 224))\n",
    "    img_data = np.array(pil_img)\n",
    "    img_data = preprocess_input(img_data)\n",
    "\n",
    "    embedding_vector = model.predict(np.expand_dims(img_data, axis=0))\n",
    "\n",
    "    embedding_vector_flatten = embedding_vector.flatten()\n",
    "    return embedding_vector_flatten\n",
    "\n",
    "def process_images(image_list, model, batch_size=32):\n",
    "    embeddings = []\n",
    "    \n",
    "    for i in tqdm(range(0, len(image_list), batch_size)):\n",
    "        batch = image_list[i:i+batch_size]\n",
    "        batch_images = [np.array(img) for img in batch]\n",
    "        batch_images = np.array(batch_images)\n",
    "        batch_images = preprocess_input(batch_images)\n",
    "        \n",
    "        batch_embeddings = model.predict(batch_images)\n",
    "    \n",
    "        for embedding in batch_embeddings:\n",
    "            embeddings.append(embedding.flatten())\n",
    "    \n",
    "    return embeddings"
   ]
  },
  {
   "cell_type": "markdown",
   "id": "c6cbf2b7-f84f-4132-acec-31f2b83cd306",
   "metadata": {},
   "source": [
    "## Data Augmentation"
   ]
  },
  {
   "cell_type": "code",
   "execution_count": 13,
   "id": "97f1426f-788a-4ac5-a627-c3237f6f85ae",
   "metadata": {},
   "outputs": [],
   "source": [
    "from tensorflow.keras.preprocessing.image import ImageDataGenerator\n",
    "ADG_im = list(data.image)\n",
    "ADG_lb = list(data.label)"
   ]
  },
  {
   "cell_type": "code",
   "execution_count": 15,
   "id": "2f24d12b-df08-43a9-9c0a-3c1ba28ec493",
   "metadata": {},
   "outputs": [],
   "source": [
    "datagen = ImageDataGenerator(\n",
    "    rescale=1./255,\n",
    "    rotation_range=20,\n",
    "    width_shift_range=0.2,\n",
    "    height_shift_range=0.2,\n",
    "    shear_range=0.2,\n",
    "    zoom_range=0.1,\n",
    "    horizontal_flip=True,\n",
    "    fill_mode='nearest'\n",
    ")\n",
    "\n",
    "image_arrays = np.array([np.array(img) for img in data['image']])\n",
    "\n",
    "batch_size = 32\n",
    "augmented_generator = datagen.flow(\n",
    "    x=image_arrays,\n",
    "    y=data.label,  \n",
    "    batch_size=batch_size,\n",
    "    shuffle=True, \n",
    ")\n",
    "\n",
    "num_samples = len(data) \n",
    "\n",
    "num_batches = num_samples // batch_size\n",
    "for kl in range(num_batches):\n",
    "    batch_images, batch_labels = augmented_generator.next()\n",
    "    for i in range(batch_size):\n",
    "        \n",
    "        ADG_im.append(batch_images[i])\n",
    "        ADG_lb.append(batch_labels[i])"
   ]
  },
  {
   "cell_type": "code",
   "execution_count": 16,
   "id": "b6f33960-ca8f-437a-8cb0-679f60258a44",
   "metadata": {},
   "outputs": [],
   "source": [
    "ADG_im = np.asarray(ADG_im)"
   ]
  },
  {
   "cell_type": "code",
   "execution_count": 18,
   "id": "a211bfd9-c503-4d8f-9442-25e5649d3ec1",
   "metadata": {
    "scrolled": true
   },
   "outputs": [
    {
     "name": "stderr",
     "output_type": "stream",
     "text": [
      "  0%|                                                   | 0/121 [00:00<?, ?it/s]"
     ]
    },
    {
     "name": "stdout",
     "output_type": "stream",
     "text": [
      "1/1 [==============================] - 2s 2s/step\n"
     ]
    },
    {
     "name": "stderr",
     "output_type": "stream",
     "text": [
      "  1%|▎                                          | 1/121 [00:02<05:00,  2.50s/it]"
     ]
    },
    {
     "name": "stdout",
     "output_type": "stream",
     "text": [
      "1/1 [==============================] - 2s 2s/step\n"
     ]
    },
    {
     "name": "stderr",
     "output_type": "stream",
     "text": [
      "  2%|▋                                          | 2/121 [00:04<04:49,  2.43s/it]"
     ]
    },
    {
     "name": "stdout",
     "output_type": "stream",
     "text": [
      "1/1 [==============================] - 2s 2s/step\n"
     ]
    },
    {
     "name": "stderr",
     "output_type": "stream",
     "text": [
      "  2%|█                                          | 3/121 [00:07<04:44,  2.41s/it]"
     ]
    },
    {
     "name": "stdout",
     "output_type": "stream",
     "text": [
      "1/1 [==============================] - 2s 2s/step\n"
     ]
    },
    {
     "name": "stderr",
     "output_type": "stream",
     "text": [
      "  3%|█▍                                         | 4/121 [00:09<04:40,  2.40s/it]"
     ]
    },
    {
     "name": "stdout",
     "output_type": "stream",
     "text": [
      "1/1 [==============================] - 2s 2s/step\n"
     ]
    },
    {
     "name": "stderr",
     "output_type": "stream",
     "text": [
      "  4%|█▊                                         | 5/121 [00:12<04:37,  2.39s/it]"
     ]
    },
    {
     "name": "stdout",
     "output_type": "stream",
     "text": [
      "1/1 [==============================] - 2s 2s/step\n"
     ]
    },
    {
     "name": "stderr",
     "output_type": "stream",
     "text": [
      "  5%|██▏                                        | 6/121 [00:14<04:36,  2.40s/it]"
     ]
    },
    {
     "name": "stdout",
     "output_type": "stream",
     "text": [
      "1/1 [==============================] - 2s 2s/step\n"
     ]
    },
    {
     "name": "stderr",
     "output_type": "stream",
     "text": [
      "  6%|██▍                                        | 7/121 [00:16<04:36,  2.43s/it]"
     ]
    },
    {
     "name": "stdout",
     "output_type": "stream",
     "text": [
      "1/1 [==============================] - 2s 2s/step\n"
     ]
    },
    {
     "name": "stderr",
     "output_type": "stream",
     "text": [
      "  7%|██▊                                        | 8/121 [00:19<04:37,  2.45s/it]"
     ]
    },
    {
     "name": "stdout",
     "output_type": "stream",
     "text": [
      "1/1 [==============================] - 3s 3s/step\n"
     ]
    },
    {
     "name": "stderr",
     "output_type": "stream",
     "text": [
      "  7%|███▏                                       | 9/121 [00:21<04:37,  2.48s/it]"
     ]
    },
    {
     "name": "stdout",
     "output_type": "stream",
     "text": [
      "1/1 [==============================] - 3s 3s/step\n"
     ]
    },
    {
     "name": "stderr",
     "output_type": "stream",
     "text": [
      "  8%|███▍                                      | 10/121 [00:24<04:39,  2.52s/it]"
     ]
    },
    {
     "name": "stdout",
     "output_type": "stream",
     "text": [
      "1/1 [==============================] - 3s 3s/step\n"
     ]
    },
    {
     "name": "stderr",
     "output_type": "stream",
     "text": [
      "  9%|███▊                                      | 11/121 [00:27<04:38,  2.53s/it]"
     ]
    },
    {
     "name": "stdout",
     "output_type": "stream",
     "text": [
      "1/1 [==============================] - 3s 3s/step\n"
     ]
    },
    {
     "name": "stderr",
     "output_type": "stream",
     "text": [
      " 10%|████▏                                     | 12/121 [00:29<04:38,  2.56s/it]"
     ]
    },
    {
     "name": "stdout",
     "output_type": "stream",
     "text": [
      "1/1 [==============================] - 3s 3s/step\n"
     ]
    },
    {
     "name": "stderr",
     "output_type": "stream",
     "text": [
      " 11%|████▌                                     | 13/121 [00:32<04:41,  2.60s/it]"
     ]
    },
    {
     "name": "stdout",
     "output_type": "stream",
     "text": [
      "1/1 [==============================] - 3s 3s/step\n"
     ]
    },
    {
     "name": "stderr",
     "output_type": "stream",
     "text": [
      " 12%|████▊                                     | 14/121 [00:35<04:41,  2.63s/it]"
     ]
    },
    {
     "name": "stdout",
     "output_type": "stream",
     "text": [
      "1/1 [==============================] - 3s 3s/step\n"
     ]
    },
    {
     "name": "stderr",
     "output_type": "stream",
     "text": [
      " 12%|█████▏                                    | 15/121 [00:37<04:40,  2.65s/it]"
     ]
    },
    {
     "name": "stdout",
     "output_type": "stream",
     "text": [
      "1/1 [==============================] - 3s 3s/step\n"
     ]
    },
    {
     "name": "stderr",
     "output_type": "stream",
     "text": [
      " 13%|█████▌                                    | 16/121 [00:40<04:38,  2.65s/it]"
     ]
    },
    {
     "name": "stdout",
     "output_type": "stream",
     "text": [
      "1/1 [==============================] - 3s 3s/step\n"
     ]
    },
    {
     "name": "stderr",
     "output_type": "stream",
     "text": [
      " 14%|█████▉                                    | 17/121 [00:43<04:37,  2.67s/it]"
     ]
    },
    {
     "name": "stdout",
     "output_type": "stream",
     "text": [
      "1/1 [==============================] - 3s 3s/step\n"
     ]
    },
    {
     "name": "stderr",
     "output_type": "stream",
     "text": [
      " 15%|██████▏                                   | 18/121 [00:45<04:35,  2.67s/it]"
     ]
    },
    {
     "name": "stdout",
     "output_type": "stream",
     "text": [
      "1/1 [==============================] - 3s 3s/step\n"
     ]
    },
    {
     "name": "stderr",
     "output_type": "stream",
     "text": [
      " 16%|██████▌                                   | 19/121 [00:48<04:31,  2.66s/it]"
     ]
    },
    {
     "name": "stdout",
     "output_type": "stream",
     "text": [
      "1/1 [==============================] - 3s 3s/step\n"
     ]
    },
    {
     "name": "stderr",
     "output_type": "stream",
     "text": [
      " 17%|██████▉                                   | 20/121 [00:51<04:28,  2.66s/it]"
     ]
    },
    {
     "name": "stdout",
     "output_type": "stream",
     "text": [
      "1/1 [==============================] - 3s 3s/step\n"
     ]
    },
    {
     "name": "stderr",
     "output_type": "stream",
     "text": [
      " 17%|███████▎                                  | 21/121 [00:53<04:24,  2.65s/it]"
     ]
    },
    {
     "name": "stdout",
     "output_type": "stream",
     "text": [
      "1/1 [==============================] - 3s 3s/step\n"
     ]
    },
    {
     "name": "stderr",
     "output_type": "stream",
     "text": [
      " 18%|███████▋                                  | 22/121 [00:56<04:21,  2.64s/it]"
     ]
    },
    {
     "name": "stdout",
     "output_type": "stream",
     "text": [
      "1/1 [==============================] - 3s 3s/step\n"
     ]
    },
    {
     "name": "stderr",
     "output_type": "stream",
     "text": [
      " 19%|███████▉                                  | 23/121 [00:59<04:18,  2.64s/it]"
     ]
    },
    {
     "name": "stdout",
     "output_type": "stream",
     "text": [
      "1/1 [==============================] - 3s 3s/step\n"
     ]
    },
    {
     "name": "stderr",
     "output_type": "stream",
     "text": [
      " 20%|████████▎                                 | 24/121 [01:01<04:16,  2.65s/it]"
     ]
    },
    {
     "name": "stdout",
     "output_type": "stream",
     "text": [
      "1/1 [==============================] - 3s 3s/step\n"
     ]
    },
    {
     "name": "stderr",
     "output_type": "stream",
     "text": [
      " 21%|████████▋                                 | 25/121 [01:04<04:14,  2.65s/it]"
     ]
    },
    {
     "name": "stdout",
     "output_type": "stream",
     "text": [
      "1/1 [==============================] - 3s 3s/step\n"
     ]
    },
    {
     "name": "stderr",
     "output_type": "stream",
     "text": [
      " 21%|█████████                                 | 26/121 [01:07<04:12,  2.66s/it]"
     ]
    },
    {
     "name": "stdout",
     "output_type": "stream",
     "text": [
      "1/1 [==============================] - 3s 3s/step\n"
     ]
    },
    {
     "name": "stderr",
     "output_type": "stream",
     "text": [
      " 22%|█████████▎                                | 27/121 [01:09<04:11,  2.68s/it]"
     ]
    },
    {
     "name": "stdout",
     "output_type": "stream",
     "text": [
      "1/1 [==============================] - 3s 3s/step\n"
     ]
    },
    {
     "name": "stderr",
     "output_type": "stream",
     "text": [
      " 23%|█████████▋                                | 28/121 [01:12<04:08,  2.68s/it]"
     ]
    },
    {
     "name": "stdout",
     "output_type": "stream",
     "text": [
      "1/1 [==============================] - 3s 3s/step\n"
     ]
    },
    {
     "name": "stderr",
     "output_type": "stream",
     "text": [
      " 24%|██████████                                | 29/121 [01:15<04:05,  2.66s/it]"
     ]
    },
    {
     "name": "stdout",
     "output_type": "stream",
     "text": [
      "1/1 [==============================] - 3s 3s/step\n"
     ]
    },
    {
     "name": "stderr",
     "output_type": "stream",
     "text": [
      " 25%|██████████▍                               | 30/121 [01:17<04:01,  2.66s/it]"
     ]
    },
    {
     "name": "stdout",
     "output_type": "stream",
     "text": [
      "1/1 [==============================] - 3s 3s/step\n"
     ]
    },
    {
     "name": "stderr",
     "output_type": "stream",
     "text": [
      " 26%|██████████▊                               | 31/121 [01:20<03:58,  2.65s/it]"
     ]
    },
    {
     "name": "stdout",
     "output_type": "stream",
     "text": [
      "1/1 [==============================] - 3s 3s/step\n"
     ]
    },
    {
     "name": "stderr",
     "output_type": "stream",
     "text": [
      " 26%|███████████                               | 32/121 [01:23<03:55,  2.65s/it]"
     ]
    },
    {
     "name": "stdout",
     "output_type": "stream",
     "text": [
      "1/1 [==============================] - 3s 3s/step\n"
     ]
    },
    {
     "name": "stderr",
     "output_type": "stream",
     "text": [
      " 27%|███████████▍                              | 33/121 [01:25<03:52,  2.64s/it]"
     ]
    },
    {
     "name": "stdout",
     "output_type": "stream",
     "text": [
      "1/1 [==============================] - 3s 3s/step\n"
     ]
    },
    {
     "name": "stderr",
     "output_type": "stream",
     "text": [
      " 28%|███████████▊                              | 34/121 [01:28<03:49,  2.64s/it]"
     ]
    },
    {
     "name": "stdout",
     "output_type": "stream",
     "text": [
      "1/1 [==============================] - 3s 3s/step\n"
     ]
    },
    {
     "name": "stderr",
     "output_type": "stream",
     "text": [
      " 29%|████████████▏                             | 35/121 [01:30<03:46,  2.63s/it]"
     ]
    },
    {
     "name": "stdout",
     "output_type": "stream",
     "text": [
      "1/1 [==============================] - 3s 3s/step\n"
     ]
    },
    {
     "name": "stderr",
     "output_type": "stream",
     "text": [
      " 30%|████████████▍                             | 36/121 [01:33<03:44,  2.64s/it]"
     ]
    },
    {
     "name": "stdout",
     "output_type": "stream",
     "text": [
      "1/1 [==============================] - 3s 3s/step\n"
     ]
    },
    {
     "name": "stderr",
     "output_type": "stream",
     "text": [
      " 31%|████████████▊                             | 37/121 [01:36<03:41,  2.64s/it]"
     ]
    },
    {
     "name": "stdout",
     "output_type": "stream",
     "text": [
      "1/1 [==============================] - 3s 3s/step\n"
     ]
    },
    {
     "name": "stderr",
     "output_type": "stream",
     "text": [
      " 31%|█████████████▏                            | 38/121 [01:38<03:38,  2.63s/it]"
     ]
    },
    {
     "name": "stdout",
     "output_type": "stream",
     "text": [
      "1/1 [==============================] - 3s 3s/step\n"
     ]
    },
    {
     "name": "stderr",
     "output_type": "stream",
     "text": [
      " 32%|█████████████▌                            | 39/121 [01:41<03:36,  2.63s/it]"
     ]
    },
    {
     "name": "stdout",
     "output_type": "stream",
     "text": [
      "1/1 [==============================] - 3s 3s/step\n"
     ]
    },
    {
     "name": "stderr",
     "output_type": "stream",
     "text": [
      " 33%|█████████████▉                            | 40/121 [01:44<03:32,  2.63s/it]"
     ]
    },
    {
     "name": "stdout",
     "output_type": "stream",
     "text": [
      "1/1 [==============================] - 3s 3s/step\n"
     ]
    },
    {
     "name": "stderr",
     "output_type": "stream",
     "text": [
      " 34%|██████████████▏                           | 41/121 [01:46<03:30,  2.63s/it]"
     ]
    },
    {
     "name": "stdout",
     "output_type": "stream",
     "text": [
      "1/1 [==============================] - 3s 3s/step\n"
     ]
    },
    {
     "name": "stderr",
     "output_type": "stream",
     "text": [
      " 35%|██████████████▌                           | 42/121 [01:49<03:27,  2.63s/it]"
     ]
    },
    {
     "name": "stdout",
     "output_type": "stream",
     "text": [
      "1/1 [==============================] - 3s 3s/step\n"
     ]
    },
    {
     "name": "stderr",
     "output_type": "stream",
     "text": [
      " 36%|██████████████▉                           | 43/121 [01:51<03:24,  2.63s/it]"
     ]
    },
    {
     "name": "stdout",
     "output_type": "stream",
     "text": [
      "1/1 [==============================] - 3s 3s/step\n"
     ]
    },
    {
     "name": "stderr",
     "output_type": "stream",
     "text": [
      " 36%|███████████████▎                          | 44/121 [01:54<03:22,  2.63s/it]"
     ]
    },
    {
     "name": "stdout",
     "output_type": "stream",
     "text": [
      "1/1 [==============================] - 3s 3s/step\n"
     ]
    },
    {
     "name": "stderr",
     "output_type": "stream",
     "text": [
      " 37%|███████████████▌                          | 45/121 [01:57<03:22,  2.66s/it]"
     ]
    },
    {
     "name": "stdout",
     "output_type": "stream",
     "text": [
      "1/1 [==============================] - 3s 3s/step\n"
     ]
    },
    {
     "name": "stderr",
     "output_type": "stream",
     "text": [
      " 38%|███████████████▉                          | 46/121 [01:59<03:19,  2.66s/it]"
     ]
    },
    {
     "name": "stdout",
     "output_type": "stream",
     "text": [
      "1/1 [==============================] - 3s 3s/step\n"
     ]
    },
    {
     "name": "stderr",
     "output_type": "stream",
     "text": [
      " 39%|████████████████▎                         | 47/121 [02:02<03:16,  2.65s/it]"
     ]
    },
    {
     "name": "stdout",
     "output_type": "stream",
     "text": [
      "1/1 [==============================] - 3s 3s/step\n"
     ]
    },
    {
     "name": "stderr",
     "output_type": "stream",
     "text": [
      " 40%|████████████████▋                         | 48/121 [02:05<03:15,  2.68s/it]"
     ]
    },
    {
     "name": "stdout",
     "output_type": "stream",
     "text": [
      "1/1 [==============================] - 3s 3s/step\n"
     ]
    },
    {
     "name": "stderr",
     "output_type": "stream",
     "text": [
      " 40%|█████████████████                         | 49/121 [02:08<03:13,  2.69s/it]"
     ]
    },
    {
     "name": "stdout",
     "output_type": "stream",
     "text": [
      "1/1 [==============================] - 3s 3s/step\n"
     ]
    },
    {
     "name": "stderr",
     "output_type": "stream",
     "text": [
      " 41%|█████████████████▎                        | 50/121 [02:10<03:10,  2.68s/it]"
     ]
    },
    {
     "name": "stdout",
     "output_type": "stream",
     "text": [
      "1/1 [==============================] - 3s 3s/step\n"
     ]
    },
    {
     "name": "stderr",
     "output_type": "stream",
     "text": [
      " 42%|█████████████████▋                        | 51/121 [02:13<03:06,  2.66s/it]"
     ]
    },
    {
     "name": "stdout",
     "output_type": "stream",
     "text": [
      "1/1 [==============================] - 3s 3s/step\n"
     ]
    },
    {
     "name": "stderr",
     "output_type": "stream",
     "text": [
      " 43%|██████████████████                        | 52/121 [02:15<03:02,  2.65s/it]"
     ]
    },
    {
     "name": "stdout",
     "output_type": "stream",
     "text": [
      "1/1 [==============================] - 3s 3s/step\n"
     ]
    },
    {
     "name": "stderr",
     "output_type": "stream",
     "text": [
      " 44%|██████████████████▍                       | 53/121 [02:18<02:59,  2.64s/it]"
     ]
    },
    {
     "name": "stdout",
     "output_type": "stream",
     "text": [
      "1/1 [==============================] - 3s 3s/step\n"
     ]
    },
    {
     "name": "stderr",
     "output_type": "stream",
     "text": [
      " 45%|██████████████████▋                       | 54/121 [02:21<02:56,  2.64s/it]"
     ]
    },
    {
     "name": "stdout",
     "output_type": "stream",
     "text": [
      "1/1 [==============================] - 3s 3s/step\n"
     ]
    },
    {
     "name": "stderr",
     "output_type": "stream",
     "text": [
      " 45%|███████████████████                       | 55/121 [02:23<02:53,  2.63s/it]"
     ]
    },
    {
     "name": "stdout",
     "output_type": "stream",
     "text": [
      "1/1 [==============================] - 3s 3s/step\n"
     ]
    },
    {
     "name": "stderr",
     "output_type": "stream",
     "text": [
      " 46%|███████████████████▍                      | 56/121 [02:26<02:51,  2.63s/it]"
     ]
    },
    {
     "name": "stdout",
     "output_type": "stream",
     "text": [
      "1/1 [==============================] - 3s 3s/step\n"
     ]
    },
    {
     "name": "stderr",
     "output_type": "stream",
     "text": [
      " 47%|███████████████████▊                      | 57/121 [02:29<02:48,  2.63s/it]"
     ]
    },
    {
     "name": "stdout",
     "output_type": "stream",
     "text": [
      "1/1 [==============================] - 3s 3s/step\n"
     ]
    },
    {
     "name": "stderr",
     "output_type": "stream",
     "text": [
      " 48%|████████████████████▏                     | 58/121 [02:31<02:45,  2.63s/it]"
     ]
    },
    {
     "name": "stdout",
     "output_type": "stream",
     "text": [
      "1/1 [==============================] - 3s 3s/step\n"
     ]
    },
    {
     "name": "stderr",
     "output_type": "stream",
     "text": [
      " 49%|████████████████████▍                     | 59/121 [02:34<02:42,  2.63s/it]"
     ]
    },
    {
     "name": "stdout",
     "output_type": "stream",
     "text": [
      "1/1 [==============================] - 3s 3s/step\n"
     ]
    },
    {
     "name": "stderr",
     "output_type": "stream",
     "text": [
      " 50%|████████████████████▊                     | 60/121 [02:36<02:40,  2.64s/it]"
     ]
    },
    {
     "name": "stdout",
     "output_type": "stream",
     "text": [
      "1/1 [==============================] - 3s 3s/step\n"
     ]
    },
    {
     "name": "stderr",
     "output_type": "stream",
     "text": [
      " 50%|█████████████████████▏                    | 61/121 [02:39<02:38,  2.64s/it]"
     ]
    },
    {
     "name": "stdout",
     "output_type": "stream",
     "text": [
      "1/1 [==============================] - 3s 3s/step\n"
     ]
    },
    {
     "name": "stderr",
     "output_type": "stream",
     "text": [
      " 51%|█████████████████████▌                    | 62/121 [02:42<02:35,  2.64s/it]"
     ]
    },
    {
     "name": "stdout",
     "output_type": "stream",
     "text": [
      "1/1 [==============================] - 3s 3s/step\n"
     ]
    },
    {
     "name": "stderr",
     "output_type": "stream",
     "text": [
      " 52%|█████████████████████▊                    | 63/121 [02:44<02:32,  2.64s/it]"
     ]
    },
    {
     "name": "stdout",
     "output_type": "stream",
     "text": [
      "1/1 [==============================] - 3s 3s/step\n"
     ]
    },
    {
     "name": "stderr",
     "output_type": "stream",
     "text": [
      " 53%|██████████████████████▏                   | 64/121 [02:47<02:30,  2.63s/it]"
     ]
    },
    {
     "name": "stdout",
     "output_type": "stream",
     "text": [
      "1/1 [==============================] - 3s 3s/step\n"
     ]
    },
    {
     "name": "stderr",
     "output_type": "stream",
     "text": [
      " 54%|██████████████████████▌                   | 65/121 [02:50<02:27,  2.63s/it]"
     ]
    },
    {
     "name": "stdout",
     "output_type": "stream",
     "text": [
      "1/1 [==============================] - 3s 3s/step\n"
     ]
    },
    {
     "name": "stderr",
     "output_type": "stream",
     "text": [
      " 55%|██████████████████████▉                   | 66/121 [02:52<02:24,  2.63s/it]"
     ]
    },
    {
     "name": "stdout",
     "output_type": "stream",
     "text": [
      "1/1 [==============================] - 3s 3s/step\n"
     ]
    },
    {
     "name": "stderr",
     "output_type": "stream",
     "text": [
      " 55%|███████████████████████▎                  | 67/121 [02:55<02:22,  2.63s/it]"
     ]
    },
    {
     "name": "stdout",
     "output_type": "stream",
     "text": [
      "1/1 [==============================] - 3s 3s/step\n"
     ]
    },
    {
     "name": "stderr",
     "output_type": "stream",
     "text": [
      " 56%|███████████████████████▌                  | 68/121 [02:58<02:19,  2.63s/it]"
     ]
    },
    {
     "name": "stdout",
     "output_type": "stream",
     "text": [
      "1/1 [==============================] - 3s 3s/step\n"
     ]
    },
    {
     "name": "stderr",
     "output_type": "stream",
     "text": [
      " 57%|███████████████████████▉                  | 69/121 [03:00<02:16,  2.63s/it]"
     ]
    },
    {
     "name": "stdout",
     "output_type": "stream",
     "text": [
      "1/1 [==============================] - 3s 3s/step\n"
     ]
    },
    {
     "name": "stderr",
     "output_type": "stream",
     "text": [
      " 58%|████████████████████████▎                 | 70/121 [03:03<02:14,  2.63s/it]"
     ]
    },
    {
     "name": "stdout",
     "output_type": "stream",
     "text": [
      "1/1 [==============================] - 3s 3s/step\n"
     ]
    },
    {
     "name": "stderr",
     "output_type": "stream",
     "text": [
      " 59%|████████████████████████▋                 | 71/121 [03:05<02:11,  2.63s/it]"
     ]
    },
    {
     "name": "stdout",
     "output_type": "stream",
     "text": [
      "1/1 [==============================] - 3s 3s/step\n"
     ]
    },
    {
     "name": "stderr",
     "output_type": "stream",
     "text": [
      " 60%|████████████████████████▉                 | 72/121 [03:08<02:09,  2.63s/it]"
     ]
    },
    {
     "name": "stdout",
     "output_type": "stream",
     "text": [
      "1/1 [==============================] - 3s 3s/step\n"
     ]
    },
    {
     "name": "stderr",
     "output_type": "stream",
     "text": [
      " 60%|█████████████████████████▎                | 73/121 [03:11<02:06,  2.63s/it]"
     ]
    },
    {
     "name": "stdout",
     "output_type": "stream",
     "text": [
      "1/1 [==============================] - 3s 3s/step\n"
     ]
    },
    {
     "name": "stderr",
     "output_type": "stream",
     "text": [
      " 61%|█████████████████████████▋                | 74/121 [03:13<02:03,  2.63s/it]"
     ]
    },
    {
     "name": "stdout",
     "output_type": "stream",
     "text": [
      "1/1 [==============================] - 3s 3s/step\n"
     ]
    },
    {
     "name": "stderr",
     "output_type": "stream",
     "text": [
      " 62%|██████████████████████████                | 75/121 [03:16<02:00,  2.62s/it]"
     ]
    },
    {
     "name": "stdout",
     "output_type": "stream",
     "text": [
      "1/1 [==============================] - 3s 3s/step\n"
     ]
    },
    {
     "name": "stderr",
     "output_type": "stream",
     "text": [
      " 63%|██████████████████████████▍               | 76/121 [03:19<01:58,  2.63s/it]"
     ]
    },
    {
     "name": "stdout",
     "output_type": "stream",
     "text": [
      "1/1 [==============================] - 3s 3s/step\n"
     ]
    },
    {
     "name": "stderr",
     "output_type": "stream",
     "text": [
      " 64%|██████████████████████████▋               | 77/121 [03:21<01:55,  2.63s/it]"
     ]
    },
    {
     "name": "stdout",
     "output_type": "stream",
     "text": [
      "1/1 [==============================] - 3s 3s/step\n"
     ]
    },
    {
     "name": "stderr",
     "output_type": "stream",
     "text": [
      " 64%|███████████████████████████               | 78/121 [03:24<01:53,  2.63s/it]"
     ]
    },
    {
     "name": "stdout",
     "output_type": "stream",
     "text": [
      "1/1 [==============================] - 3s 3s/step\n"
     ]
    },
    {
     "name": "stderr",
     "output_type": "stream",
     "text": [
      " 65%|███████████████████████████▍              | 79/121 [03:26<01:50,  2.63s/it]"
     ]
    },
    {
     "name": "stdout",
     "output_type": "stream",
     "text": [
      "1/1 [==============================] - 3s 3s/step\n"
     ]
    },
    {
     "name": "stderr",
     "output_type": "stream",
     "text": [
      " 66%|███████████████████████████▊              | 80/121 [03:29<01:47,  2.63s/it]"
     ]
    },
    {
     "name": "stdout",
     "output_type": "stream",
     "text": [
      "1/1 [==============================] - 3s 3s/step\n"
     ]
    },
    {
     "name": "stderr",
     "output_type": "stream",
     "text": [
      " 67%|████████████████████████████              | 81/121 [03:32<01:45,  2.63s/it]"
     ]
    },
    {
     "name": "stdout",
     "output_type": "stream",
     "text": [
      "1/1 [==============================] - 3s 3s/step\n"
     ]
    },
    {
     "name": "stderr",
     "output_type": "stream",
     "text": [
      " 68%|████████████████████████████▍             | 82/121 [03:34<01:42,  2.62s/it]"
     ]
    },
    {
     "name": "stdout",
     "output_type": "stream",
     "text": [
      "1/1 [==============================] - 3s 3s/step\n"
     ]
    },
    {
     "name": "stderr",
     "output_type": "stream",
     "text": [
      " 69%|████████████████████████████▊             | 83/121 [03:37<01:39,  2.62s/it]"
     ]
    },
    {
     "name": "stdout",
     "output_type": "stream",
     "text": [
      "1/1 [==============================] - 3s 3s/step\n"
     ]
    },
    {
     "name": "stderr",
     "output_type": "stream",
     "text": [
      " 69%|█████████████████████████████▏            | 84/121 [03:40<01:37,  2.63s/it]"
     ]
    },
    {
     "name": "stdout",
     "output_type": "stream",
     "text": [
      "1/1 [==============================] - 3s 3s/step\n"
     ]
    },
    {
     "name": "stderr",
     "output_type": "stream",
     "text": [
      " 70%|█████████████████████████████▌            | 85/121 [03:42<01:34,  2.63s/it]"
     ]
    },
    {
     "name": "stdout",
     "output_type": "stream",
     "text": [
      "1/1 [==============================] - 3s 3s/step\n"
     ]
    },
    {
     "name": "stderr",
     "output_type": "stream",
     "text": [
      " 71%|█████████████████████████████▊            | 86/121 [03:45<01:31,  2.63s/it]"
     ]
    },
    {
     "name": "stdout",
     "output_type": "stream",
     "text": [
      "1/1 [==============================] - 3s 3s/step\n"
     ]
    },
    {
     "name": "stderr",
     "output_type": "stream",
     "text": [
      " 72%|██████████████████████████████▏           | 87/121 [03:47<01:29,  2.63s/it]"
     ]
    },
    {
     "name": "stdout",
     "output_type": "stream",
     "text": [
      "1/1 [==============================] - 3s 3s/step\n"
     ]
    },
    {
     "name": "stderr",
     "output_type": "stream",
     "text": [
      " 73%|██████████████████████████████▌           | 88/121 [03:50<01:26,  2.62s/it]"
     ]
    },
    {
     "name": "stdout",
     "output_type": "stream",
     "text": [
      "1/1 [==============================] - 3s 3s/step\n"
     ]
    },
    {
     "name": "stderr",
     "output_type": "stream",
     "text": [
      " 74%|██████████████████████████████▉           | 89/121 [03:53<01:24,  2.63s/it]"
     ]
    },
    {
     "name": "stdout",
     "output_type": "stream",
     "text": [
      "1/1 [==============================] - 3s 3s/step\n"
     ]
    },
    {
     "name": "stderr",
     "output_type": "stream",
     "text": [
      " 74%|███████████████████████████████▏          | 90/121 [03:55<01:21,  2.63s/it]"
     ]
    },
    {
     "name": "stdout",
     "output_type": "stream",
     "text": [
      "1/1 [==============================] - 3s 3s/step\n"
     ]
    },
    {
     "name": "stderr",
     "output_type": "stream",
     "text": [
      " 75%|███████████████████████████████▌          | 91/121 [03:58<01:18,  2.62s/it]"
     ]
    },
    {
     "name": "stdout",
     "output_type": "stream",
     "text": [
      "1/1 [==============================] - 3s 3s/step\n"
     ]
    },
    {
     "name": "stderr",
     "output_type": "stream",
     "text": [
      " 76%|███████████████████████████████▉          | 92/121 [04:01<01:16,  2.62s/it]"
     ]
    },
    {
     "name": "stdout",
     "output_type": "stream",
     "text": [
      "1/1 [==============================] - 3s 3s/step\n"
     ]
    },
    {
     "name": "stderr",
     "output_type": "stream",
     "text": [
      " 77%|████████████████████████████████▎         | 93/121 [04:03<01:13,  2.62s/it]"
     ]
    },
    {
     "name": "stdout",
     "output_type": "stream",
     "text": [
      "1/1 [==============================] - 3s 3s/step\n"
     ]
    },
    {
     "name": "stderr",
     "output_type": "stream",
     "text": [
      " 78%|████████████████████████████████▋         | 94/121 [04:06<01:10,  2.63s/it]"
     ]
    },
    {
     "name": "stdout",
     "output_type": "stream",
     "text": [
      "1/1 [==============================] - 3s 3s/step\n"
     ]
    },
    {
     "name": "stderr",
     "output_type": "stream",
     "text": [
      " 79%|████████████████████████████████▉         | 95/121 [04:08<01:08,  2.62s/it]"
     ]
    },
    {
     "name": "stdout",
     "output_type": "stream",
     "text": [
      "1/1 [==============================] - 3s 3s/step\n"
     ]
    },
    {
     "name": "stderr",
     "output_type": "stream",
     "text": [
      " 79%|█████████████████████████████████▎        | 96/121 [04:11<01:05,  2.63s/it]"
     ]
    },
    {
     "name": "stdout",
     "output_type": "stream",
     "text": [
      "1/1 [==============================] - 3s 3s/step\n"
     ]
    },
    {
     "name": "stderr",
     "output_type": "stream",
     "text": [
      " 80%|█████████████████████████████████▋        | 97/121 [04:14<01:03,  2.63s/it]"
     ]
    },
    {
     "name": "stdout",
     "output_type": "stream",
     "text": [
      "1/1 [==============================] - 3s 3s/step\n"
     ]
    },
    {
     "name": "stderr",
     "output_type": "stream",
     "text": [
      " 81%|██████████████████████████████████        | 98/121 [04:16<01:00,  2.64s/it]"
     ]
    },
    {
     "name": "stdout",
     "output_type": "stream",
     "text": [
      "1/1 [==============================] - 3s 3s/step\n"
     ]
    },
    {
     "name": "stderr",
     "output_type": "stream",
     "text": [
      " 82%|██████████████████████████████████▎       | 99/121 [04:19<00:57,  2.63s/it]"
     ]
    },
    {
     "name": "stdout",
     "output_type": "stream",
     "text": [
      "1/1 [==============================] - 3s 3s/step\n"
     ]
    },
    {
     "name": "stderr",
     "output_type": "stream",
     "text": [
      " 83%|█████████████████████████████████▉       | 100/121 [04:22<00:55,  2.63s/it]"
     ]
    },
    {
     "name": "stdout",
     "output_type": "stream",
     "text": [
      "1/1 [==============================] - 3s 3s/step\n"
     ]
    },
    {
     "name": "stderr",
     "output_type": "stream",
     "text": [
      " 83%|██████████████████████████████████▏      | 101/121 [04:24<00:52,  2.63s/it]"
     ]
    },
    {
     "name": "stdout",
     "output_type": "stream",
     "text": [
      "1/1 [==============================] - 3s 3s/step\n"
     ]
    },
    {
     "name": "stderr",
     "output_type": "stream",
     "text": [
      " 84%|██████████████████████████████████▌      | 102/121 [04:27<00:49,  2.63s/it]"
     ]
    },
    {
     "name": "stdout",
     "output_type": "stream",
     "text": [
      "1/1 [==============================] - 3s 3s/step\n"
     ]
    },
    {
     "name": "stderr",
     "output_type": "stream",
     "text": [
      " 85%|██████████████████████████████████▉      | 103/121 [04:30<00:47,  2.62s/it]"
     ]
    },
    {
     "name": "stdout",
     "output_type": "stream",
     "text": [
      "1/1 [==============================] - 3s 3s/step\n"
     ]
    },
    {
     "name": "stderr",
     "output_type": "stream",
     "text": [
      " 86%|███████████████████████████████████▏     | 104/121 [04:32<00:44,  2.62s/it]"
     ]
    },
    {
     "name": "stdout",
     "output_type": "stream",
     "text": [
      "1/1 [==============================] - 3s 3s/step\n"
     ]
    },
    {
     "name": "stderr",
     "output_type": "stream",
     "text": [
      " 87%|███████████████████████████████████▌     | 105/121 [04:35<00:42,  2.63s/it]"
     ]
    },
    {
     "name": "stdout",
     "output_type": "stream",
     "text": [
      "1/1 [==============================] - 3s 3s/step\n"
     ]
    },
    {
     "name": "stderr",
     "output_type": "stream",
     "text": [
      " 88%|███████████████████████████████████▉     | 106/121 [04:37<00:39,  2.62s/it]"
     ]
    },
    {
     "name": "stdout",
     "output_type": "stream",
     "text": [
      "1/1 [==============================] - 3s 3s/step\n"
     ]
    },
    {
     "name": "stderr",
     "output_type": "stream",
     "text": [
      " 88%|████████████████████████████████████▎    | 107/121 [04:40<00:36,  2.62s/it]"
     ]
    },
    {
     "name": "stdout",
     "output_type": "stream",
     "text": [
      "1/1 [==============================] - 3s 3s/step\n"
     ]
    },
    {
     "name": "stderr",
     "output_type": "stream",
     "text": [
      " 89%|████████████████████████████████████▌    | 108/121 [04:43<00:34,  2.63s/it]"
     ]
    },
    {
     "name": "stdout",
     "output_type": "stream",
     "text": [
      "1/1 [==============================] - 3s 3s/step\n"
     ]
    },
    {
     "name": "stderr",
     "output_type": "stream",
     "text": [
      " 90%|████████████████████████████████████▉    | 109/121 [04:45<00:31,  2.63s/it]"
     ]
    },
    {
     "name": "stdout",
     "output_type": "stream",
     "text": [
      "1/1 [==============================] - 3s 3s/step\n"
     ]
    },
    {
     "name": "stderr",
     "output_type": "stream",
     "text": [
      " 91%|█████████████████████████████████████▎   | 110/121 [04:48<00:28,  2.63s/it]"
     ]
    },
    {
     "name": "stdout",
     "output_type": "stream",
     "text": [
      "1/1 [==============================] - 3s 3s/step\n"
     ]
    },
    {
     "name": "stderr",
     "output_type": "stream",
     "text": [
      " 92%|█████████████████████████████████████▌   | 111/121 [04:51<00:26,  2.63s/it]"
     ]
    },
    {
     "name": "stdout",
     "output_type": "stream",
     "text": [
      "1/1 [==============================] - 3s 3s/step\n"
     ]
    },
    {
     "name": "stderr",
     "output_type": "stream",
     "text": [
      " 93%|█████████████████████████████████████▉   | 112/121 [04:53<00:23,  2.63s/it]"
     ]
    },
    {
     "name": "stdout",
     "output_type": "stream",
     "text": [
      "1/1 [==============================] - 3s 3s/step\n"
     ]
    },
    {
     "name": "stderr",
     "output_type": "stream",
     "text": [
      " 93%|██████████████████████████████████████▎  | 113/121 [04:56<00:21,  2.63s/it]"
     ]
    },
    {
     "name": "stdout",
     "output_type": "stream",
     "text": [
      "1/1 [==============================] - 3s 3s/step\n"
     ]
    },
    {
     "name": "stderr",
     "output_type": "stream",
     "text": [
      " 94%|██████████████████████████████████████▋  | 114/121 [04:58<00:18,  2.63s/it]"
     ]
    },
    {
     "name": "stdout",
     "output_type": "stream",
     "text": [
      "1/1 [==============================] - 3s 3s/step\n"
     ]
    },
    {
     "name": "stderr",
     "output_type": "stream",
     "text": [
      " 95%|██████████████████████████████████████▉  | 115/121 [05:01<00:15,  2.63s/it]"
     ]
    },
    {
     "name": "stdout",
     "output_type": "stream",
     "text": [
      "1/1 [==============================] - 3s 3s/step\n"
     ]
    },
    {
     "name": "stderr",
     "output_type": "stream",
     "text": [
      " 96%|███████████████████████████████████████▎ | 116/121 [05:04<00:13,  2.63s/it]"
     ]
    },
    {
     "name": "stdout",
     "output_type": "stream",
     "text": [
      "1/1 [==============================] - 3s 3s/step\n"
     ]
    },
    {
     "name": "stderr",
     "output_type": "stream",
     "text": [
      " 97%|███████████████████████████████████████▋ | 117/121 [05:06<00:10,  2.63s/it]"
     ]
    },
    {
     "name": "stdout",
     "output_type": "stream",
     "text": [
      "1/1 [==============================] - 3s 3s/step\n"
     ]
    },
    {
     "name": "stderr",
     "output_type": "stream",
     "text": [
      " 98%|███████████████████████████████████████▉ | 118/121 [05:09<00:07,  2.63s/it]"
     ]
    },
    {
     "name": "stdout",
     "output_type": "stream",
     "text": [
      "1/1 [==============================] - 3s 3s/step\n"
     ]
    },
    {
     "name": "stderr",
     "output_type": "stream",
     "text": [
      " 98%|████████████████████████████████████████▎| 119/121 [05:12<00:05,  2.63s/it]"
     ]
    },
    {
     "name": "stdout",
     "output_type": "stream",
     "text": [
      "1/1 [==============================] - 3s 3s/step\n"
     ]
    },
    {
     "name": "stderr",
     "output_type": "stream",
     "text": [
      " 99%|████████████████████████████████████████▋| 120/121 [05:14<00:02,  2.64s/it]"
     ]
    },
    {
     "name": "stdout",
     "output_type": "stream",
     "text": [
      "1/1 [==============================] - 2s 2s/step\n"
     ]
    },
    {
     "name": "stderr",
     "output_type": "stream",
     "text": [
      "100%|█████████████████████████████████████████| 121/121 [05:17<00:00,  2.62s/it]\n"
     ]
    }
   ],
   "source": [
    "embeddings = process_images(ADG_im, model, batch_size=32)"
   ]
  },
  {
   "cell_type": "markdown",
   "id": "b04c2913-8e89-48a6-be39-807dd3c29d29",
   "metadata": {},
   "source": [
    "## KNN Classifier"
   ]
  },
  {
   "cell_type": "code",
   "execution_count": 19,
   "id": "fe552bf6-0732-4654-8b30-de9665ec34d2",
   "metadata": {},
   "outputs": [],
   "source": [
    "from sklearn.model_selection import train_test_split\n",
    "from sklearn.neighbors import KNeighborsClassifier\n",
    "from sklearn.metrics import classification_report, accuracy_score,confusion_matrix\n",
    "from sklearn.preprocessing import LabelEncoder\n",
    "import xgboost as xgb\n",
    "import tensorflow as tf\n",
    "from tensorflow.keras.models import Sequential\n",
    "from tensorflow.keras.layers import Dense\n",
    "from tensorflow.keras.utils import to_categorical"
   ]
  },
  {
   "cell_type": "code",
   "execution_count": 21,
   "id": "b4de917b-0a95-4aef-98e8-e62f71eedf09",
   "metadata": {},
   "outputs": [],
   "source": [
    "embeddings = np.array(embeddings)\n",
    "label_int = np.array(ADG_lb)"
   ]
  },
  {
   "cell_type": "code",
   "execution_count": 22,
   "id": "f1971927-3d43-4511-9ed1-80fffcd340b7",
   "metadata": {},
   "outputs": [],
   "source": [
    "X_train, X_test, y_train, y_test = train_test_split(embeddings, label_int, test_size=0.2, random_state=42)"
   ]
  },
  {
   "cell_type": "code",
   "execution_count": 31,
   "id": "a0840ac7-5c99-46e5-8903-9f84e392dc38",
   "metadata": {},
   "outputs": [
    {
     "name": "stdout",
     "output_type": "stream",
     "text": [
      "              precision    recall  f1-score   support\n",
      "\n",
      "           0       0.88      0.95      0.91       404\n",
      "           1       0.94      0.86      0.89       370\n",
      "\n",
      "    accuracy                           0.90       774\n",
      "   macro avg       0.91      0.90      0.90       774\n",
      "weighted avg       0.91      0.90      0.90       774\n",
      "\n",
      "Accuracy: 0.9031007751937985\n"
     ]
    }
   ],
   "source": [
    "k = 2\n",
    "knn = KNeighborsClassifier(n_neighbors=k)\n",
    "knn.fit(X_train, y_train)\n",
    "y_pred = knn.predict(X_test)\n",
    "\n",
    "print(classification_report(y_test, y_pred))\n",
    "print(f\"Accuracy: {accuracy_score(y_test, y_pred)}\")"
   ]
  },
  {
   "cell_type": "markdown",
   "id": "546a69ea-0754-4b08-8ea7-672883c693f8",
   "metadata": {},
   "source": [
    "## XGBoost Classifier"
   ]
  },
  {
   "cell_type": "code",
   "execution_count": 32,
   "id": "3338f605-9a96-43a4-8bf9-af32a46c95a7",
   "metadata": {},
   "outputs": [
    {
     "name": "stdout",
     "output_type": "stream",
     "text": [
      "              precision    recall  f1-score   support\n",
      "\n",
      "           0       0.90      0.91      0.91       404\n",
      "           1       0.90      0.89      0.90       370\n",
      "\n",
      "    accuracy                           0.90       774\n",
      "   macro avg       0.90      0.90      0.90       774\n",
      "weighted avg       0.90      0.90      0.90       774\n",
      "\n",
      "Accuracy: 0.9031007751937985\n"
     ]
    }
   ],
   "source": [
    "xgb_clf = xgb.XGBClassifier(use_label_encoder=False, eval_metric='mlogloss')\n",
    "\n",
    "xgb_clf.fit(X_train, y_train)\n",
    "\n",
    "y_pred = xgb_clf.predict(X_test)\n",
    "\n",
    "print(classification_report(y_test, y_pred))\n",
    "print(f\"Accuracy: {accuracy_score(y_test, y_pred)}\")"
   ]
  },
  {
   "cell_type": "markdown",
   "id": "6880c63b-879a-4fbc-b24a-8bdd44c7d48c",
   "metadata": {},
   "source": [
    "## FFN "
   ]
  },
  {
   "cell_type": "code",
   "execution_count": 37,
   "id": "93262f60-7f0e-4de3-812b-7190d8086084",
   "metadata": {},
   "outputs": [
    {
     "name": "stdout",
     "output_type": "stream",
     "text": [
      "Epoch 1/50\n",
      "175/175 [==============================] - 1s 3ms/step - loss: 1.2044 - accuracy: 0.6569 - val_loss: 0.8890 - val_accuracy: 0.6516\n",
      "Epoch 2/50\n",
      "175/175 [==============================] - 0s 2ms/step - loss: 0.6564 - accuracy: 0.6813 - val_loss: 0.7958 - val_accuracy: 0.6065\n",
      "Epoch 3/50\n",
      "175/175 [==============================] - 0s 2ms/step - loss: 0.6009 - accuracy: 0.6913 - val_loss: 0.5800 - val_accuracy: 0.6194\n",
      "Epoch 4/50\n",
      "175/175 [==============================] - 0s 2ms/step - loss: 0.5482 - accuracy: 0.6967 - val_loss: 0.5059 - val_accuracy: 0.6806\n",
      "Epoch 5/50\n",
      "175/175 [==============================] - 0s 2ms/step - loss: 0.4731 - accuracy: 0.6981 - val_loss: 0.5432 - val_accuracy: 0.6226\n",
      "Epoch 6/50\n",
      "175/175 [==============================] - 0s 2ms/step - loss: 0.4566 - accuracy: 0.7358 - val_loss: 0.4392 - val_accuracy: 0.8516\n",
      "Epoch 7/50\n",
      "175/175 [==============================] - 0s 2ms/step - loss: 0.4446 - accuracy: 0.7627 - val_loss: 0.4744 - val_accuracy: 0.6194\n",
      "Epoch 8/50\n",
      "175/175 [==============================] - 0s 2ms/step - loss: 0.4370 - accuracy: 0.7620 - val_loss: 0.5085 - val_accuracy: 0.6194\n",
      "Epoch 9/50\n",
      "175/175 [==============================] - 0s 2ms/step - loss: 0.4133 - accuracy: 0.7771 - val_loss: 0.4015 - val_accuracy: 0.8710\n",
      "Epoch 10/50\n",
      "175/175 [==============================] - 0s 2ms/step - loss: 0.3824 - accuracy: 0.8062 - val_loss: 0.5090 - val_accuracy: 0.6161\n",
      "Epoch 11/50\n",
      "175/175 [==============================] - 0s 2ms/step - loss: 0.3884 - accuracy: 0.7979 - val_loss: 0.4411 - val_accuracy: 0.7581\n",
      "Epoch 12/50\n",
      "175/175 [==============================] - 0s 2ms/step - loss: 0.3699 - accuracy: 0.8155 - val_loss: 0.3564 - val_accuracy: 0.8742\n",
      "Epoch 13/50\n",
      "175/175 [==============================] - 0s 2ms/step - loss: 0.3928 - accuracy: 0.8108 - val_loss: 0.3593 - val_accuracy: 0.8548\n",
      "Epoch 14/50\n",
      "175/175 [==============================] - 0s 2ms/step - loss: 0.3643 - accuracy: 0.8212 - val_loss: 0.4581 - val_accuracy: 0.8161\n",
      "Epoch 15/50\n",
      "175/175 [==============================] - 0s 2ms/step - loss: 0.3706 - accuracy: 0.8230 - val_loss: 0.5039 - val_accuracy: 0.7032\n",
      "Epoch 16/50\n",
      "175/175 [==============================] - 0s 2ms/step - loss: 0.3691 - accuracy: 0.8191 - val_loss: 0.3982 - val_accuracy: 0.8774\n",
      "Epoch 17/50\n",
      "175/175 [==============================] - 0s 2ms/step - loss: 0.3518 - accuracy: 0.8274 - val_loss: 0.3552 - val_accuracy: 0.8387\n",
      "Epoch 18/50\n",
      "175/175 [==============================] - 0s 2ms/step - loss: 0.3691 - accuracy: 0.8184 - val_loss: 0.3948 - val_accuracy: 0.7903\n",
      "Epoch 19/50\n",
      "175/175 [==============================] - 0s 2ms/step - loss: 0.3312 - accuracy: 0.8388 - val_loss: 0.3407 - val_accuracy: 0.8548\n",
      "Epoch 20/50\n",
      "175/175 [==============================] - 0s 2ms/step - loss: 0.3271 - accuracy: 0.8467 - val_loss: 0.3480 - val_accuracy: 0.8774\n",
      "Epoch 21/50\n",
      "175/175 [==============================] - 0s 2ms/step - loss: 0.3326 - accuracy: 0.8449 - val_loss: 0.3406 - val_accuracy: 0.8581\n",
      "Epoch 22/50\n",
      "175/175 [==============================] - 0s 2ms/step - loss: 0.3325 - accuracy: 0.8460 - val_loss: 0.4057 - val_accuracy: 0.7903\n",
      "Epoch 23/50\n",
      "175/175 [==============================] - 0s 2ms/step - loss: 0.3326 - accuracy: 0.8453 - val_loss: 0.3586 - val_accuracy: 0.8806\n",
      "Epoch 24/50\n",
      "175/175 [==============================] - 0s 2ms/step - loss: 0.3368 - accuracy: 0.8396 - val_loss: 0.3505 - val_accuracy: 0.8677\n",
      "Epoch 25/50\n",
      "175/175 [==============================] - 0s 3ms/step - loss: 0.3297 - accuracy: 0.8435 - val_loss: 0.3560 - val_accuracy: 0.8871\n",
      "Epoch 26/50\n",
      "175/175 [==============================] - 0s 2ms/step - loss: 0.3299 - accuracy: 0.8521 - val_loss: 0.3416 - val_accuracy: 0.8677\n",
      "Epoch 27/50\n",
      "175/175 [==============================] - 0s 2ms/step - loss: 0.3350 - accuracy: 0.8406 - val_loss: 0.3294 - val_accuracy: 0.8516\n",
      "Epoch 28/50\n",
      "175/175 [==============================] - 0s 3ms/step - loss: 0.3258 - accuracy: 0.8428 - val_loss: 0.3335 - val_accuracy: 0.8806\n",
      "Epoch 29/50\n",
      "175/175 [==============================] - 0s 2ms/step - loss: 0.3247 - accuracy: 0.8446 - val_loss: 0.3296 - val_accuracy: 0.8710\n",
      "Epoch 30/50\n",
      "175/175 [==============================] - 0s 2ms/step - loss: 0.3037 - accuracy: 0.8586 - val_loss: 0.3313 - val_accuracy: 0.8806\n",
      "Epoch 31/50\n",
      "175/175 [==============================] - 0s 2ms/step - loss: 0.3142 - accuracy: 0.8543 - val_loss: 0.3783 - val_accuracy: 0.8742\n",
      "Epoch 32/50\n",
      "175/175 [==============================] - 0s 2ms/step - loss: 0.3369 - accuracy: 0.8417 - val_loss: 0.3693 - val_accuracy: 0.8774\n",
      "Epoch 33/50\n",
      "175/175 [==============================] - 0s 2ms/step - loss: 0.3393 - accuracy: 0.8345 - val_loss: 0.3943 - val_accuracy: 0.7935\n",
      "Epoch 34/50\n",
      "175/175 [==============================] - 0s 2ms/step - loss: 0.3133 - accuracy: 0.8500 - val_loss: 0.3711 - val_accuracy: 0.7968\n",
      "Epoch 35/50\n",
      "175/175 [==============================] - 0s 2ms/step - loss: 0.3210 - accuracy: 0.8500 - val_loss: 0.3431 - val_accuracy: 0.8839\n",
      "Epoch 36/50\n",
      "175/175 [==============================] - 0s 2ms/step - loss: 0.3184 - accuracy: 0.8467 - val_loss: 0.3404 - val_accuracy: 0.8258\n",
      "Epoch 37/50\n",
      "175/175 [==============================] - 0s 2ms/step - loss: 0.3278 - accuracy: 0.8518 - val_loss: 0.3387 - val_accuracy: 0.8645\n",
      "Epoch 38/50\n",
      "175/175 [==============================] - 0s 2ms/step - loss: 0.3336 - accuracy: 0.8496 - val_loss: 0.3806 - val_accuracy: 0.7968\n",
      "Epoch 39/50\n",
      "175/175 [==============================] - 1s 3ms/step - loss: 0.3260 - accuracy: 0.8442 - val_loss: 0.3573 - val_accuracy: 0.8871\n",
      "Epoch 40/50\n",
      "175/175 [==============================] - 0s 2ms/step - loss: 0.3152 - accuracy: 0.8507 - val_loss: 0.3483 - val_accuracy: 0.8161\n",
      "Epoch 41/50\n",
      "175/175 [==============================] - 0s 2ms/step - loss: 0.3441 - accuracy: 0.8327 - val_loss: 0.3915 - val_accuracy: 0.7871\n",
      "Epoch 42/50\n",
      "175/175 [==============================] - 0s 2ms/step - loss: 0.3020 - accuracy: 0.8543 - val_loss: 0.4002 - val_accuracy: 0.7903\n",
      "Epoch 43/50\n",
      "175/175 [==============================] - 0s 2ms/step - loss: 0.3218 - accuracy: 0.8536 - val_loss: 0.3393 - val_accuracy: 0.8581\n",
      "Epoch 44/50\n",
      "175/175 [==============================] - 0s 2ms/step - loss: 0.6315 - accuracy: 0.8403 - val_loss: 1.0234 - val_accuracy: 0.7935\n",
      "Epoch 45/50\n",
      "175/175 [==============================] - 0s 3ms/step - loss: 0.7939 - accuracy: 0.8177 - val_loss: 0.6540 - val_accuracy: 0.7935\n",
      "Epoch 46/50\n",
      "175/175 [==============================] - 0s 3ms/step - loss: 0.3484 - accuracy: 0.8449 - val_loss: 0.4401 - val_accuracy: 0.8613\n",
      "Epoch 47/50\n",
      "175/175 [==============================] - 0s 2ms/step - loss: 0.3162 - accuracy: 0.8571 - val_loss: 0.5390 - val_accuracy: 0.7903\n",
      "Epoch 48/50\n",
      "175/175 [==============================] - 0s 2ms/step - loss: 0.3371 - accuracy: 0.8352 - val_loss: 0.4771 - val_accuracy: 0.8742\n",
      "Epoch 49/50\n",
      "175/175 [==============================] - 0s 3ms/step - loss: 0.3147 - accuracy: 0.8521 - val_loss: 0.4669 - val_accuracy: 0.8806\n",
      "Epoch 50/50\n",
      "175/175 [==============================] - 0s 2ms/step - loss: 0.3172 - accuracy: 0.8525 - val_loss: 0.4490 - val_accuracy: 0.8323\n",
      "25/25 [==============================] - 0s 1ms/step\n",
      "              precision    recall  f1-score   support\n",
      "\n",
      "           0       0.81      0.89      0.85       404\n",
      "           1       0.87      0.78      0.82       370\n",
      "\n",
      "    accuracy                           0.84       774\n",
      "   macro avg       0.84      0.83      0.84       774\n",
      "weighted avg       0.84      0.84      0.84       774\n",
      "\n",
      "Accuracy: 0.8372092843055725\n"
     ]
    }
   ],
   "source": [
    "encoder = LabelEncoder()\n",
    "labels_encoded = encoder.fit_transform(label_int)\n",
    "\n",
    "labels_categorical = to_categorical(labels_encoded) \n",
    "\n",
    "X_train1, X_test1, y_train1, y_test1 = train_test_split(embeddings, labels_categorical, test_size=0.2, random_state=42)\n",
    "\n",
    "model = Sequential()\n",
    "model.add(Dense(128, input_dim=X_train1.shape[1], activation='relu')) \n",
    "model.add(Dense(64, activation='relu')) \n",
    "model.add(Dense(y_train1.shape[1], activation='softmax')) \n",
    "\n",
    "model.compile(loss='categorical_crossentropy', \n",
    "              optimizer='adam',               \n",
    "              metrics=['accuracy'])\n",
    "\n",
    "history = model.fit(X_train1, y_train1, epochs=50, batch_size=16, verbose=1, validation_split=0.1)\n",
    "\n",
    "scores = model.evaluate(X_test1, y_test1, verbose=0)\n",
    "y_pred = model.predict(X_test1)\n",
    "y_pred_classes = np.argmax(y_pred, axis=1)\n",
    "y_true_classes = np.argmax(y_test1, axis=1)\n",
    "\n",
    "print(classification_report(y_true_classes, y_pred_classes))\n",
    "print(f\"Accuracy: {scores[1]}\")"
   ]
  },
  {
   "cell_type": "markdown",
   "id": "befd3835-37e1-4686-bf02-57282f3072c5",
   "metadata": {},
   "source": [
    "## Lasso Feature Selection"
   ]
  },
  {
   "cell_type": "code",
   "execution_count": 197,
   "id": "7b9fb079-41a6-4d25-b7d1-cc7472bc48bd",
   "metadata": {},
   "outputs": [
    {
     "name": "stderr",
     "output_type": "stream",
     "text": [
      "/Users/harishneelam/anaconda3/lib/python3.11/site-packages/sklearn/linear_model/_coordinate_descent.py:628: ConvergenceWarning: Objective did not converge. You might want to increase the number of iterations, check the scale of the features or consider increasing regularisation. Duality gap: 3.769e-01, tolerance: 2.590e-02\n",
      "  model = cd_fast.enet_coordinate_descent(\n"
     ]
    }
   ],
   "source": [
    "from sklearn.linear_model import Lasso\n",
    "\n",
    "alpha = 0.01 \n",
    "lasso_model = Lasso(alpha=alpha)\n",
    "lasso_model.fit(X_train1, y_train1)\n",
    "klp = lasso_model.predict(X_test1)"
   ]
  },
  {
   "cell_type": "code",
   "execution_count": 198,
   "id": "b4409b9e-376c-4f30-945c-f80d4d051893",
   "metadata": {},
   "outputs": [],
   "source": [
    "Lasso_features = []\n",
    "for i in X_train1:\n",
    "    Lasso_features.append(np.array(i[lasso_model.coef_[0] != 0]))\n",
    "Lasso_features = np.array(Lasso_features)\n",
    "\n",
    "Lasso_x_test_features = []\n",
    "for i in X_test1:\n",
    "    Lasso_x_test_features.append(np.array(i[lasso_model.coef_[0] != 0]))\n",
    "Lasso_x_test_features = np.array(Lasso_x_test_features)"
   ]
  },
  {
   "cell_type": "code",
   "execution_count": 199,
   "id": "c8736cd0-c03f-4bcf-a25c-b1ead7e87564",
   "metadata": {},
   "outputs": [
    {
     "name": "stdout",
     "output_type": "stream",
     "text": [
      "25088,247\n"
     ]
    }
   ],
   "source": [
    "print(f'{len(X_train[0])},{len(Lasso_features[0])}')"
   ]
  },
  {
   "cell_type": "code",
   "execution_count": 200,
   "id": "c1205d7c-0348-48a6-84f4-59533b09182d",
   "metadata": {},
   "outputs": [
    {
     "name": "stdout",
     "output_type": "stream",
     "text": [
      "0.9420849420849421\n",
      "              precision    recall  f1-score   support\n",
      "\n",
      "           0       0.93      0.95      0.94       127\n",
      "           1       0.95      0.93      0.94       132\n",
      "\n",
      "   micro avg       0.94      0.94      0.94       259\n",
      "   macro avg       0.94      0.94      0.94       259\n",
      "weighted avg       0.94      0.94      0.94       259\n",
      " samples avg       0.94      0.94      0.94       259\n",
      "\n"
     ]
    },
    {
     "data": {
      "image/png": "[encoded data removed]",
      "text/plain": [
       "<Figure size 800x600 with 2 Axes>"
      ]
     },
     "metadata": {},
     "output_type": "display_data"
    }
   ],
   "source": [
    "knn_model = KNeighborsClassifier(n_neighbors=3) \n",
    "knn_model.fit(Lasso_features, y_train1)\n",
    "y_pred = knn_model.predict(Lasso_x_test_features)\n",
    "print(accuracy_score(y_test1, y_pred))\n",
    "print(classification_report(y_test1,y_pred))\n",
    "\n",
    "cm = confusion_matrix(np.argmax(y_test1, axis=1), np.argmax(y_pred, axis=1))\n",
    "\n",
    "plt.figure(figsize=(8, 6))\n",
    "sns.heatmap(cm, annot=True, fmt='d', cmap='Blues')\n",
    "plt.show()"
   ]
  },
  {
   "cell_type": "code",
   "execution_count": 201,
   "id": "660d01e8-f999-40dc-8aad-786410dbbec5",
   "metadata": {},
   "outputs": [
    {
     "name": "stdout",
     "output_type": "stream",
     "text": [
      "              precision    recall  f1-score   support\n",
      "\n",
      "           0       0.94      0.92      0.93       127\n",
      "           1       0.93      0.95      0.94       132\n",
      "\n",
      "   micro avg       0.93      0.93      0.93       259\n",
      "   macro avg       0.93      0.93      0.93       259\n",
      "weighted avg       0.93      0.93      0.93       259\n",
      " samples avg       0.93      0.93      0.93       259\n",
      "\n",
      "Accuracy: 0.9343629343629344\n"
     ]
    }
   ],
   "source": [
    "xgb_clf = xgb.XGBClassifier(use_label_encoder=False, eval_metric='mlogloss')\n",
    "\n",
    "xgb_clf.fit(Lasso_features, y_train1)\n",
    "\n",
    "y_pred = xgb_clf.predict(Lasso_x_test_features)\n",
    "\n",
    "print(classification_report(y_test1, y_pred))\n",
    "print(f\"Accuracy: {accuracy_score(y_test1, y_pred)}\")"
   ]
  },
  {
   "cell_type": "code",
   "execution_count": 207,
   "id": "affb5789-6bda-4056-93e6-c7b1f5de88e9",
   "metadata": {},
   "outputs": [
    {
     "name": "stdout",
     "output_type": "stream",
     "text": [
      "Epoch 1/50\n",
      "7/7 [==============================] - 0s 9ms/step - loss: 4.0702 - accuracy: 0.5676 - val_loss: 0.6309 - val_accuracy: 0.8846\n",
      "Epoch 2/50\n",
      "7/7 [==============================] - 0s 3ms/step - loss: 0.5915 - accuracy: 0.9203 - val_loss: 0.5818 - val_accuracy: 0.9087\n",
      "Epoch 3/50\n",
      "7/7 [==============================] - 0s 3ms/step - loss: 0.4613 - accuracy: 0.9396 - val_loss: 0.1352 - val_accuracy: 0.9615\n",
      "Epoch 4/50\n",
      "7/7 [==============================] - 0s 2ms/step - loss: 0.1860 - accuracy: 0.9312 - val_loss: 0.2317 - val_accuracy: 0.9519\n",
      "Epoch 5/50\n",
      "7/7 [==============================] - 0s 2ms/step - loss: 0.2057 - accuracy: 0.9638 - val_loss: 0.1636 - val_accuracy: 0.9567\n",
      "Epoch 6/50\n",
      "7/7 [==============================] - 0s 2ms/step - loss: 0.1098 - accuracy: 0.9481 - val_loss: 0.1504 - val_accuracy: 0.9567\n",
      "Epoch 7/50\n",
      "7/7 [==============================] - 0s 2ms/step - loss: 0.1241 - accuracy: 0.9686 - val_loss: 0.1133 - val_accuracy: 0.9519\n",
      "Epoch 8/50\n",
      "7/7 [==============================] - 0s 2ms/step - loss: 0.1018 - accuracy: 0.9493 - val_loss: 0.1297 - val_accuracy: 0.9519\n",
      "Epoch 9/50\n",
      "7/7 [==============================] - 0s 2ms/step - loss: 0.0783 - accuracy: 0.9638 - val_loss: 0.1119 - val_accuracy: 0.9519\n",
      "Epoch 10/50\n",
      "7/7 [==============================] - 0s 2ms/step - loss: 0.0845 - accuracy: 0.9662 - val_loss: 0.1462 - val_accuracy: 0.9087\n",
      "Epoch 11/50\n",
      "7/7 [==============================] - 0s 2ms/step - loss: 0.0745 - accuracy: 0.9662 - val_loss: 0.1128 - val_accuracy: 0.9567\n",
      "Epoch 12/50\n",
      "7/7 [==============================] - 0s 2ms/step - loss: 0.0811 - accuracy: 0.9529 - val_loss: 0.1103 - val_accuracy: 0.9567\n",
      "Epoch 13/50\n",
      "7/7 [==============================] - 0s 2ms/step - loss: 0.0928 - accuracy: 0.9601 - val_loss: 0.1092 - val_accuracy: 0.9471\n",
      "Epoch 14/50\n",
      "7/7 [==============================] - 0s 2ms/step - loss: 0.0734 - accuracy: 0.9662 - val_loss: 0.1656 - val_accuracy: 0.9087\n",
      "Epoch 15/50\n",
      "7/7 [==============================] - 0s 2ms/step - loss: 0.0833 - accuracy: 0.9577 - val_loss: 0.1272 - val_accuracy: 0.9471\n",
      "Epoch 16/50\n",
      "7/7 [==============================] - 0s 2ms/step - loss: 0.0755 - accuracy: 0.9601 - val_loss: 0.1058 - val_accuracy: 0.9615\n",
      "Epoch 17/50\n",
      "7/7 [==============================] - 0s 2ms/step - loss: 0.0786 - accuracy: 0.9601 - val_loss: 0.1143 - val_accuracy: 0.9567\n",
      "Epoch 18/50\n",
      "7/7 [==============================] - 0s 2ms/step - loss: 0.0718 - accuracy: 0.9638 - val_loss: 0.1329 - val_accuracy: 0.9375\n",
      "Epoch 19/50\n",
      "7/7 [==============================] - 0s 2ms/step - loss: 0.0761 - accuracy: 0.9650 - val_loss: 0.1570 - val_accuracy: 0.9135\n",
      "Epoch 20/50\n",
      "7/7 [==============================] - 0s 2ms/step - loss: 0.0795 - accuracy: 0.9589 - val_loss: 0.1488 - val_accuracy: 0.9567\n",
      "Epoch 21/50\n",
      "7/7 [==============================] - 0s 2ms/step - loss: 0.0842 - accuracy: 0.9601 - val_loss: 0.1147 - val_accuracy: 0.9423\n",
      "Epoch 22/50\n",
      "7/7 [==============================] - 0s 2ms/step - loss: 0.0735 - accuracy: 0.9686 - val_loss: 0.1417 - val_accuracy: 0.9038\n",
      "Epoch 23/50\n",
      "7/7 [==============================] - 0s 2ms/step - loss: 0.0653 - accuracy: 0.9638 - val_loss: 0.1186 - val_accuracy: 0.9519\n",
      "Epoch 24/50\n",
      "7/7 [==============================] - 0s 2ms/step - loss: 0.0801 - accuracy: 0.9517 - val_loss: 0.1302 - val_accuracy: 0.9567\n",
      "Epoch 25/50\n",
      "7/7 [==============================] - 0s 2ms/step - loss: 0.0827 - accuracy: 0.9650 - val_loss: 0.1998 - val_accuracy: 0.8894\n",
      "Epoch 26/50\n",
      "7/7 [==============================] - 0s 2ms/step - loss: 0.0832 - accuracy: 0.9601 - val_loss: 0.1206 - val_accuracy: 0.9567\n",
      "Epoch 27/50\n",
      "7/7 [==============================] - 0s 2ms/step - loss: 0.0873 - accuracy: 0.9601 - val_loss: 0.1219 - val_accuracy: 0.9471\n",
      "Epoch 28/50\n",
      "7/7 [==============================] - 0s 2ms/step - loss: 0.0718 - accuracy: 0.9589 - val_loss: 0.1319 - val_accuracy: 0.9615\n",
      "Epoch 29/50\n",
      "7/7 [==============================] - 0s 2ms/step - loss: 0.0805 - accuracy: 0.9638 - val_loss: 0.1211 - val_accuracy: 0.9471\n",
      "Epoch 30/50\n",
      "7/7 [==============================] - 0s 2ms/step - loss: 0.0978 - accuracy: 0.9662 - val_loss: 0.1429 - val_accuracy: 0.9183\n",
      "Epoch 31/50\n",
      "7/7 [==============================] - 0s 2ms/step - loss: 0.1169 - accuracy: 0.9517 - val_loss: 0.1317 - val_accuracy: 0.9519\n",
      "Epoch 32/50\n",
      "7/7 [==============================] - 0s 2ms/step - loss: 0.1180 - accuracy: 0.9481 - val_loss: 0.1776 - val_accuracy: 0.9567\n",
      "Epoch 33/50\n",
      "7/7 [==============================] - 0s 2ms/step - loss: 0.1533 - accuracy: 0.9698 - val_loss: 0.1205 - val_accuracy: 0.9567\n",
      "Epoch 34/50\n",
      "7/7 [==============================] - 0s 2ms/step - loss: 0.0849 - accuracy: 0.9553 - val_loss: 0.1711 - val_accuracy: 0.9519\n",
      "Epoch 35/50\n",
      "7/7 [==============================] - 0s 2ms/step - loss: 0.1376 - accuracy: 0.9686 - val_loss: 0.1286 - val_accuracy: 0.9471\n",
      "Epoch 36/50\n",
      "7/7 [==============================] - 0s 2ms/step - loss: 0.0826 - accuracy: 0.9553 - val_loss: 0.1335 - val_accuracy: 0.9567\n",
      "Epoch 37/50\n",
      "7/7 [==============================] - 0s 2ms/step - loss: 0.0745 - accuracy: 0.9638 - val_loss: 0.1393 - val_accuracy: 0.9183\n",
      "Epoch 38/50\n",
      "7/7 [==============================] - 0s 2ms/step - loss: 0.0792 - accuracy: 0.9650 - val_loss: 0.1234 - val_accuracy: 0.9471\n",
      "Epoch 39/50\n",
      "7/7 [==============================] - 0s 2ms/step - loss: 0.0613 - accuracy: 0.9674 - val_loss: 0.1199 - val_accuracy: 0.9567\n",
      "Epoch 40/50\n",
      "7/7 [==============================] - 0s 2ms/step - loss: 0.0681 - accuracy: 0.9614 - val_loss: 0.1194 - val_accuracy: 0.9567\n",
      "Epoch 41/50\n",
      "7/7 [==============================] - 0s 2ms/step - loss: 0.0648 - accuracy: 0.9710 - val_loss: 0.1486 - val_accuracy: 0.9183\n",
      "Epoch 42/50\n",
      "7/7 [==============================] - 0s 2ms/step - loss: 0.0815 - accuracy: 0.9565 - val_loss: 0.1819 - val_accuracy: 0.9519\n",
      "Epoch 43/50\n",
      "7/7 [==============================] - 0s 2ms/step - loss: 0.1288 - accuracy: 0.9674 - val_loss: 0.1296 - val_accuracy: 0.9375\n",
      "Epoch 44/50\n",
      "7/7 [==============================] - 0s 2ms/step - loss: 0.0913 - accuracy: 0.9481 - val_loss: 0.1590 - val_accuracy: 0.9615\n",
      "Epoch 45/50\n",
      "7/7 [==============================] - 0s 2ms/step - loss: 0.1313 - accuracy: 0.9698 - val_loss: 0.1183 - val_accuracy: 0.9471\n",
      "Epoch 46/50\n",
      "7/7 [==============================] - 0s 2ms/step - loss: 0.0714 - accuracy: 0.9553 - val_loss: 0.1193 - val_accuracy: 0.9567\n",
      "Epoch 47/50\n",
      "7/7 [==============================] - 0s 2ms/step - loss: 0.0666 - accuracy: 0.9662 - val_loss: 0.1357 - val_accuracy: 0.9423\n",
      "Epoch 48/50\n",
      "7/7 [==============================] - 0s 2ms/step - loss: 0.0738 - accuracy: 0.9662 - val_loss: 0.1382 - val_accuracy: 0.9231\n",
      "Epoch 49/50\n",
      "7/7 [==============================] - 0s 2ms/step - loss: 0.0726 - accuracy: 0.9662 - val_loss: 0.1188 - val_accuracy: 0.9567\n",
      "Epoch 50/50\n",
      "7/7 [==============================] - 0s 2ms/step - loss: 0.0646 - accuracy: 0.9601 - val_loss: 0.1247 - val_accuracy: 0.9471\n",
      "9/9 [==============================] - 0s 513us/step\n",
      "              precision    recall  f1-score   support\n",
      "\n",
      "           0       0.92      0.98      0.95       130\n",
      "           1       0.98      0.91      0.94       129\n",
      "\n",
      "    accuracy                           0.95       259\n",
      "   macro avg       0.95      0.95      0.95       259\n",
      "weighted avg       0.95      0.95      0.95       259\n",
      "\n",
      "Accuracy: 0.9459459185600281\n"
     ]
    }
   ],
   "source": [
    "encoder = LabelEncoder()\n",
    "\n",
    "labels = np.concatenate([y_train1, y_test1], axis=0) \n",
    "\n",
    "features = np.concatenate([Lasso_features, Lasso_x_test_features], axis=0)  \n",
    "\n",
    "\n",
    "\n",
    "X_train2, X_test2, y_train2, y_test2 = train_test_split(features, labels, test_size=0.2, random_state=42)\n",
    "\n",
    "model = Sequential()\n",
    "model.add(Dense(128, input_dim=X_train2.shape[1], activation='relu')) \n",
    "model.add(Dense(64, activation='relu')) \n",
    "model.add(Dense(y_train2.shape[1], activation='softmax')) \n",
    "\n",
    "model.compile(loss='categorical_crossentropy', \n",
    "              optimizer='adam',               \n",
    "              metrics=['accuracy'])\n",
    "\n",
    "history = model.fit(X_train2, y_train2, epochs=50, batch_size=128, verbose=1, validation_split=0.2)\n",
    "\n",
    "scores = model.evaluate(X_test2, y_test2, verbose=0)\n",
    "y_pred = model.predict(X_test2)\n",
    "y_pred_classes = np.argmax(y_pred, axis=1)\n",
    "y_true_classes = np.argmax(y_test2, axis=1)\n",
    "\n",
    "print(classification_report(y_true_classes, y_pred_classes))\n",
    "print(f\"Accuracy: {scores[1]}\")"
   ]
  }
 ],
 "metadata": {
  "kernelspec": {
   "display_name": "Python 3 (ipykernel)",
   "language": "python",
   "name": "python3"
  },
  "language_info": {
   "codemirror_mode": {
    "name": "ipython",
    "version": 3
   },
   "file_extension": ".py",
   "mimetype": "text/x-python",
   "name": "python",
   "nbconvert_exporter": "python",
   "pygments_lexer": "ipython3",
   "version": "3.11.5"
  }
 },
 "nbformat": 4,
 "nbformat_minor": 5
}
