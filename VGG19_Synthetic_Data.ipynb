{
 "cells": [
  {
   "cell_type": "code",
   "execution_count": 7,
   "id": "5ed64389-cd7f-4385-ae7b-2f111414929b",
   "metadata": {},
   "outputs": [],
   "source": [
    "import pandas as pd\n",
    "import numpy as np\n",
    "import seaborn as sns\n",
    "import matplotlib.pyplot as plt\n",
    "from PIL import Image\n",
    "import os\n",
    "import pickle"
   ]
  },
  {
   "cell_type": "markdown",
   "id": "cffeb46a-79d5-4eeb-ba32-680714e7b34d",
   "metadata": {},
   "source": [
    "## Loading Synthetic Data"
   ]
  },
  {
   "cell_type": "code",
   "execution_count": 8,
   "id": "06e263fc-604c-464a-959d-2be837c8e706",
   "metadata": {},
   "outputs": [
    {
     "data": {
      "text/html": [
       "<div>\n",
       "<style scoped>\n",
       "    .dataframe tbody tr th:only-of-type {\n",
       "        vertical-align: middle;\n",
       "    }\n",
       "\n",
       "    .dataframe tbody tr th {\n",
       "        vertical-align: top;\n",
       "    }\n",
       "\n",
       "    .dataframe thead th {\n",
       "        text-align: right;\n",
       "    }\n",
       "</style>\n",
       "<table border=\"1\" class=\"dataframe\">\n",
       "  <thead>\n",
       "    <tr style=\"text-align: right;\">\n",
       "      <th></th>\n",
       "      <th>key</th>\n",
       "      <th>label</th>\n",
       "      <th>image_path</th>\n",
       "    </tr>\n",
       "  </thead>\n",
       "  <tbody>\n",
       "    <tr>\n",
       "      <th>0</th>\n",
       "      <td>006a2d3bb2b7435fb6d96e7f320efe42_wout_0_Top.png</td>\n",
       "      <td>0</td>\n",
       "      <td>synth_renders/invalid_floorplans/006a2d3bb2b74...</td>\n",
       "    </tr>\n",
       "    <tr>\n",
       "      <th>1</th>\n",
       "      <td>006a2d3bb2b7435fb6d96e7f320efe42_wout_10_Top.png</td>\n",
       "      <td>0</td>\n",
       "      <td>synth_renders/invalid_floorplans/006a2d3bb2b74...</td>\n",
       "    </tr>\n",
       "    <tr>\n",
       "      <th>2</th>\n",
       "      <td>006a2d3bb2b7435fb6d96e7f320efe42_wout_11_Top.png</td>\n",
       "      <td>0</td>\n",
       "      <td>synth_renders/invalid_floorplans/006a2d3bb2b74...</td>\n",
       "    </tr>\n",
       "    <tr>\n",
       "      <th>3</th>\n",
       "      <td>006a2d3bb2b7435fb6d96e7f320efe42_wout_12_Top.png</td>\n",
       "      <td>0</td>\n",
       "      <td>synth_renders/invalid_floorplans/006a2d3bb2b74...</td>\n",
       "    </tr>\n",
       "    <tr>\n",
       "      <th>4</th>\n",
       "      <td>006a2d3bb2b7435fb6d96e7f320efe42_wout_13_Top.png</td>\n",
       "      <td>0</td>\n",
       "      <td>synth_renders/invalid_floorplans/006a2d3bb2b74...</td>\n",
       "    </tr>\n",
       "    <tr>\n",
       "      <th>...</th>\n",
       "      <td>...</td>\n",
       "      <td>...</td>\n",
       "      <td>...</td>\n",
       "    </tr>\n",
       "    <tr>\n",
       "      <th>645</th>\n",
       "      <td>1c0e78764f794b88922ea3e511446274_wout_5_Top.png</td>\n",
       "      <td>0</td>\n",
       "      <td>synth_renders/invalid_floorplans/1c0e78764f794...</td>\n",
       "    </tr>\n",
       "    <tr>\n",
       "      <th>646</th>\n",
       "      <td>1c0e78764f794b88922ea3e511446274_wout_6_Top.png</td>\n",
       "      <td>0</td>\n",
       "      <td>synth_renders/invalid_floorplans/1c0e78764f794...</td>\n",
       "    </tr>\n",
       "    <tr>\n",
       "      <th>647</th>\n",
       "      <td>1c0e78764f794b88922ea3e511446274_wout_7_Top.png</td>\n",
       "      <td>0</td>\n",
       "      <td>synth_renders/invalid_floorplans/1c0e78764f794...</td>\n",
       "    </tr>\n",
       "    <tr>\n",
       "      <th>648</th>\n",
       "      <td>1c0e78764f794b88922ea3e511446274_wout_8_Top.png</td>\n",
       "      <td>0</td>\n",
       "      <td>synth_renders/invalid_floorplans/1c0e78764f794...</td>\n",
       "    </tr>\n",
       "    <tr>\n",
       "      <th>649</th>\n",
       "      <td>1c0e78764f794b88922ea3e511446274_wout_9_Top.png</td>\n",
       "      <td>0</td>\n",
       "      <td>synth_renders/invalid_floorplans/1c0e78764f794...</td>\n",
       "    </tr>\n",
       "  </tbody>\n",
       "</table>\n",
       "<p>650 rows × 3 columns</p>\n",
       "</div>"
      ],
      "text/plain": [
       "                                                  key  label  \\\n",
       "0     006a2d3bb2b7435fb6d96e7f320efe42_wout_0_Top.png      0   \n",
       "1    006a2d3bb2b7435fb6d96e7f320efe42_wout_10_Top.png      0   \n",
       "2    006a2d3bb2b7435fb6d96e7f320efe42_wout_11_Top.png      0   \n",
       "3    006a2d3bb2b7435fb6d96e7f320efe42_wout_12_Top.png      0   \n",
       "4    006a2d3bb2b7435fb6d96e7f320efe42_wout_13_Top.png      0   \n",
       "..                                                ...    ...   \n",
       "645   1c0e78764f794b88922ea3e511446274_wout_5_Top.png      0   \n",
       "646   1c0e78764f794b88922ea3e511446274_wout_6_Top.png      0   \n",
       "647   1c0e78764f794b88922ea3e511446274_wout_7_Top.png      0   \n",
       "648   1c0e78764f794b88922ea3e511446274_wout_8_Top.png      0   \n",
       "649   1c0e78764f794b88922ea3e511446274_wout_9_Top.png      0   \n",
       "\n",
       "                                            image_path  \n",
       "0    synth_renders/invalid_floorplans/006a2d3bb2b74...  \n",
       "1    synth_renders/invalid_floorplans/006a2d3bb2b74...  \n",
       "2    synth_renders/invalid_floorplans/006a2d3bb2b74...  \n",
       "3    synth_renders/invalid_floorplans/006a2d3bb2b74...  \n",
       "4    synth_renders/invalid_floorplans/006a2d3bb2b74...  \n",
       "..                                                 ...  \n",
       "645  synth_renders/invalid_floorplans/1c0e78764f794...  \n",
       "646  synth_renders/invalid_floorplans/1c0e78764f794...  \n",
       "647  synth_renders/invalid_floorplans/1c0e78764f794...  \n",
       "648  synth_renders/invalid_floorplans/1c0e78764f794...  \n",
       "649  synth_renders/invalid_floorplans/1c0e78764f794...  \n",
       "\n",
       "[650 rows x 3 columns]"
      ]
     },
     "execution_count": 8,
     "metadata": {},
     "output_type": "execute_result"
    }
   ],
   "source": [
    "data1 = pd.DataFrame()\n",
    "\n",
    "file_path = 'synth_renders/invalid_floorplans.txt'\n",
    "\n",
    "with open(file_path, 'r') as file:\n",
    "    content_list = file.read().splitlines()\n",
    "\n",
    "data1['key'] = content_list\n",
    "data1['label'] = 0\n",
    "\n",
    "def image_path(key):\n",
    "    return f\"synth_renders/invalid_floorplans/{key}\"\n",
    "\n",
    "data1['image_path'] = data1['key'].apply(image_path)\n",
    "\n",
    "data1"
   ]
  },
  {
   "cell_type": "code",
   "execution_count": 9,
   "id": "43c245af-7ebd-4fe0-8b53-4fb8c62f048f",
   "metadata": {},
   "outputs": [
    {
     "data": {
      "text/html": [
       "<div>\n",
       "<style scoped>\n",
       "    .dataframe tbody tr th:only-of-type {\n",
       "        vertical-align: middle;\n",
       "    }\n",
       "\n",
       "    .dataframe tbody tr th {\n",
       "        vertical-align: top;\n",
       "    }\n",
       "\n",
       "    .dataframe thead th {\n",
       "        text-align: right;\n",
       "    }\n",
       "</style>\n",
       "<table border=\"1\" class=\"dataframe\">\n",
       "  <thead>\n",
       "    <tr style=\"text-align: right;\">\n",
       "      <th></th>\n",
       "      <th>key</th>\n",
       "      <th>label</th>\n",
       "      <th>image_path</th>\n",
       "    </tr>\n",
       "  </thead>\n",
       "  <tbody>\n",
       "    <tr>\n",
       "      <th>0</th>\n",
       "      <td>006a2d3bb2b7435fb6d96e7f320efe42_wout_1_Top.png</td>\n",
       "      <td>1</td>\n",
       "      <td>synth_renders/valid_floorplans/006a2d3bb2b7435...</td>\n",
       "    </tr>\n",
       "    <tr>\n",
       "      <th>1</th>\n",
       "      <td>006a2d3bb2b7435fb6d96e7f320efe42_wout_27_Top.png</td>\n",
       "      <td>1</td>\n",
       "      <td>synth_renders/valid_floorplans/006a2d3bb2b7435...</td>\n",
       "    </tr>\n",
       "    <tr>\n",
       "      <th>2</th>\n",
       "      <td>006a2d3bb2b7435fb6d96e7f320efe42_wout_2_Top.png</td>\n",
       "      <td>1</td>\n",
       "      <td>synth_renders/valid_floorplans/006a2d3bb2b7435...</td>\n",
       "    </tr>\n",
       "    <tr>\n",
       "      <th>3</th>\n",
       "      <td>006a2d3bb2b7435fb6d96e7f320efe42_wout_44_Top.png</td>\n",
       "      <td>1</td>\n",
       "      <td>synth_renders/valid_floorplans/006a2d3bb2b7435...</td>\n",
       "    </tr>\n",
       "    <tr>\n",
       "      <th>4</th>\n",
       "      <td>006a2d3bb2b7435fb6d96e7f320efe42_wout_48_Top.png</td>\n",
       "      <td>1</td>\n",
       "      <td>synth_renders/valid_floorplans/006a2d3bb2b7435...</td>\n",
       "    </tr>\n",
       "    <tr>\n",
       "      <th>...</th>\n",
       "      <td>...</td>\n",
       "      <td>...</td>\n",
       "      <td>...</td>\n",
       "    </tr>\n",
       "    <tr>\n",
       "      <th>640</th>\n",
       "      <td>bfb7f53ccc0242588a8f6898e502d10f_wout_6_Top.png</td>\n",
       "      <td>1</td>\n",
       "      <td>synth_renders/valid_floorplans/bfb7f53ccc02425...</td>\n",
       "    </tr>\n",
       "    <tr>\n",
       "      <th>641</th>\n",
       "      <td>bfb7f53ccc0242588a8f6898e502d10f_wout_7_Top.png</td>\n",
       "      <td>1</td>\n",
       "      <td>synth_renders/valid_floorplans/bfb7f53ccc02425...</td>\n",
       "    </tr>\n",
       "    <tr>\n",
       "      <th>642</th>\n",
       "      <td>bfc0d80669bf40fd9c001975e31c56ce_wout_0_Top.png</td>\n",
       "      <td>1</td>\n",
       "      <td>synth_renders/valid_floorplans/bfc0d80669bf40f...</td>\n",
       "    </tr>\n",
       "    <tr>\n",
       "      <th>643</th>\n",
       "      <td>bfc0d80669bf40fd9c001975e31c56ce_wout_1_Top.png</td>\n",
       "      <td>1</td>\n",
       "      <td>synth_renders/valid_floorplans/bfc0d80669bf40f...</td>\n",
       "    </tr>\n",
       "    <tr>\n",
       "      <th>644</th>\n",
       "      <td>bfc0d80669bf40fd9c001975e31c56ce_wout_2_Top.png</td>\n",
       "      <td>1</td>\n",
       "      <td>synth_renders/valid_floorplans/bfc0d80669bf40f...</td>\n",
       "    </tr>\n",
       "  </tbody>\n",
       "</table>\n",
       "<p>645 rows × 3 columns</p>\n",
       "</div>"
      ],
      "text/plain": [
       "                                                  key  label  \\\n",
       "0     006a2d3bb2b7435fb6d96e7f320efe42_wout_1_Top.png      1   \n",
       "1    006a2d3bb2b7435fb6d96e7f320efe42_wout_27_Top.png      1   \n",
       "2     006a2d3bb2b7435fb6d96e7f320efe42_wout_2_Top.png      1   \n",
       "3    006a2d3bb2b7435fb6d96e7f320efe42_wout_44_Top.png      1   \n",
       "4    006a2d3bb2b7435fb6d96e7f320efe42_wout_48_Top.png      1   \n",
       "..                                                ...    ...   \n",
       "640   bfb7f53ccc0242588a8f6898e502d10f_wout_6_Top.png      1   \n",
       "641   bfb7f53ccc0242588a8f6898e502d10f_wout_7_Top.png      1   \n",
       "642   bfc0d80669bf40fd9c001975e31c56ce_wout_0_Top.png      1   \n",
       "643   bfc0d80669bf40fd9c001975e31c56ce_wout_1_Top.png      1   \n",
       "644   bfc0d80669bf40fd9c001975e31c56ce_wout_2_Top.png      1   \n",
       "\n",
       "                                            image_path  \n",
       "0    synth_renders/valid_floorplans/006a2d3bb2b7435...  \n",
       "1    synth_renders/valid_floorplans/006a2d3bb2b7435...  \n",
       "2    synth_renders/valid_floorplans/006a2d3bb2b7435...  \n",
       "3    synth_renders/valid_floorplans/006a2d3bb2b7435...  \n",
       "4    synth_renders/valid_floorplans/006a2d3bb2b7435...  \n",
       "..                                                 ...  \n",
       "640  synth_renders/valid_floorplans/bfb7f53ccc02425...  \n",
       "641  synth_renders/valid_floorplans/bfb7f53ccc02425...  \n",
       "642  synth_renders/valid_floorplans/bfc0d80669bf40f...  \n",
       "643  synth_renders/valid_floorplans/bfc0d80669bf40f...  \n",
       "644  synth_renders/valid_floorplans/bfc0d80669bf40f...  \n",
       "\n",
       "[645 rows x 3 columns]"
      ]
     },
     "execution_count": 9,
     "metadata": {},
     "output_type": "execute_result"
    }
   ],
   "source": [
    "data2 = pd.DataFrame()\n",
    "\n",
    "file_path = 'synth_renders/valid_floorplans.txt'\n",
    "\n",
    "with open(file_path, 'r') as file:\n",
    "    content_list = file.read().splitlines()\n",
    "\n",
    "data2['key'] = content_list\n",
    "data2['label'] = 1\n",
    "\n",
    "def image_path(key):\n",
    "    return f\"synth_renders/valid_floorplans/{key}\"\n",
    "\n",
    "data2['image_path'] = data2['key'].apply(image_path)\n",
    "\n",
    "data2"
   ]
  },
  {
   "cell_type": "code",
   "execution_count": 10,
   "id": "22c45c63-f371-41f1-9596-2544e0dcf1cb",
   "metadata": {},
   "outputs": [
    {
     "data": {
      "text/html": [
       "<div>\n",
       "<style scoped>\n",
       "    .dataframe tbody tr th:only-of-type {\n",
       "        vertical-align: middle;\n",
       "    }\n",
       "\n",
       "    .dataframe tbody tr th {\n",
       "        vertical-align: top;\n",
       "    }\n",
       "\n",
       "    .dataframe thead th {\n",
       "        text-align: right;\n",
       "    }\n",
       "</style>\n",
       "<table border=\"1\" class=\"dataframe\">\n",
       "  <thead>\n",
       "    <tr style=\"text-align: right;\">\n",
       "      <th></th>\n",
       "      <th>key</th>\n",
       "      <th>label</th>\n",
       "      <th>image_path</th>\n",
       "    </tr>\n",
       "  </thead>\n",
       "  <tbody>\n",
       "    <tr>\n",
       "      <th>0</th>\n",
       "      <td>01c1ac1113dc4770a2690dc9e7218859_wout_11_Top.png</td>\n",
       "      <td>0</td>\n",
       "      <td>synth_renders/invalid_floorplans/01c1ac1113dc4...</td>\n",
       "    </tr>\n",
       "    <tr>\n",
       "      <th>1</th>\n",
       "      <td>5d581aebeb4a4b5bb50d2f3391f3dda0_wout_0_Top.png</td>\n",
       "      <td>1</td>\n",
       "      <td>synth_renders/valid_floorplans/5d581aebeb4a4b5...</td>\n",
       "    </tr>\n",
       "    <tr>\n",
       "      <th>2</th>\n",
       "      <td>6adaf6ab2daa43ee9a87f3571060828f_wout_9_Top.png</td>\n",
       "      <td>1</td>\n",
       "      <td>synth_renders/valid_floorplans/6adaf6ab2daa43e...</td>\n",
       "    </tr>\n",
       "    <tr>\n",
       "      <th>3</th>\n",
       "      <td>05ba138f134a49fc8a3dcac6d26fb024_wout_14_Top.png</td>\n",
       "      <td>1</td>\n",
       "      <td>synth_renders/valid_floorplans/05ba138f134a49f...</td>\n",
       "    </tr>\n",
       "    <tr>\n",
       "      <th>4</th>\n",
       "      <td>0cfd5f8329e44d9d9836f05113fe8710_wout_1_Top.png</td>\n",
       "      <td>0</td>\n",
       "      <td>synth_renders/invalid_floorplans/0cfd5f8329e44...</td>\n",
       "    </tr>\n",
       "    <tr>\n",
       "      <th>...</th>\n",
       "      <td>...</td>\n",
       "      <td>...</td>\n",
       "      <td>...</td>\n",
       "    </tr>\n",
       "    <tr>\n",
       "      <th>1290</th>\n",
       "      <td>05b8e14c1cbc48f3b50491c0597f3e28_wout_2_Top.png</td>\n",
       "      <td>0</td>\n",
       "      <td>synth_renders/invalid_floorplans/05b8e14c1cbc4...</td>\n",
       "    </tr>\n",
       "    <tr>\n",
       "      <th>1291</th>\n",
       "      <td>5d581aebeb4a4b5bb50d2f3391f3dda0_wout_25_Top.png</td>\n",
       "      <td>1</td>\n",
       "      <td>synth_renders/valid_floorplans/5d581aebeb4a4b5...</td>\n",
       "    </tr>\n",
       "    <tr>\n",
       "      <th>1292</th>\n",
       "      <td>15c7ad147902490fbed1d1cac5539c27_wout_14_Top.png</td>\n",
       "      <td>0</td>\n",
       "      <td>synth_renders/invalid_floorplans/15c7ad1479024...</td>\n",
       "    </tr>\n",
       "    <tr>\n",
       "      <th>1293</th>\n",
       "      <td>106fdea4566442fcb3cafcabbcf636e6_wout_3_Top.png</td>\n",
       "      <td>0</td>\n",
       "      <td>synth_renders/invalid_floorplans/106fdea456644...</td>\n",
       "    </tr>\n",
       "    <tr>\n",
       "      <th>1294</th>\n",
       "      <td>180722ee3fb649519d8b6d79271bdc25_wout_12_Top.png</td>\n",
       "      <td>0</td>\n",
       "      <td>synth_renders/invalid_floorplans/180722ee3fb64...</td>\n",
       "    </tr>\n",
       "  </tbody>\n",
       "</table>\n",
       "<p>1295 rows × 3 columns</p>\n",
       "</div>"
      ],
      "text/plain": [
       "                                                   key  label  \\\n",
       "0     01c1ac1113dc4770a2690dc9e7218859_wout_11_Top.png      0   \n",
       "1      5d581aebeb4a4b5bb50d2f3391f3dda0_wout_0_Top.png      1   \n",
       "2      6adaf6ab2daa43ee9a87f3571060828f_wout_9_Top.png      1   \n",
       "3     05ba138f134a49fc8a3dcac6d26fb024_wout_14_Top.png      1   \n",
       "4      0cfd5f8329e44d9d9836f05113fe8710_wout_1_Top.png      0   \n",
       "...                                                ...    ...   \n",
       "1290   05b8e14c1cbc48f3b50491c0597f3e28_wout_2_Top.png      0   \n",
       "1291  5d581aebeb4a4b5bb50d2f3391f3dda0_wout_25_Top.png      1   \n",
       "1292  15c7ad147902490fbed1d1cac5539c27_wout_14_Top.png      0   \n",
       "1293   106fdea4566442fcb3cafcabbcf636e6_wout_3_Top.png      0   \n",
       "1294  180722ee3fb649519d8b6d79271bdc25_wout_12_Top.png      0   \n",
       "\n",
       "                                             image_path  \n",
       "0     synth_renders/invalid_floorplans/01c1ac1113dc4...  \n",
       "1     synth_renders/valid_floorplans/5d581aebeb4a4b5...  \n",
       "2     synth_renders/valid_floorplans/6adaf6ab2daa43e...  \n",
       "3     synth_renders/valid_floorplans/05ba138f134a49f...  \n",
       "4     synth_renders/invalid_floorplans/0cfd5f8329e44...  \n",
       "...                                                 ...  \n",
       "1290  synth_renders/invalid_floorplans/05b8e14c1cbc4...  \n",
       "1291  synth_renders/valid_floorplans/5d581aebeb4a4b5...  \n",
       "1292  synth_renders/invalid_floorplans/15c7ad1479024...  \n",
       "1293  synth_renders/invalid_floorplans/106fdea456644...  \n",
       "1294  synth_renders/invalid_floorplans/180722ee3fb64...  \n",
       "\n",
       "[1295 rows x 3 columns]"
      ]
     },
     "execution_count": 10,
     "metadata": {},
     "output_type": "execute_result"
    }
   ],
   "source": [
    "data = pd.concat([data1, data2], ignore_index=True)\n",
    "data = data.sample(frac=1).reset_index(drop=True)\n",
    "data "
   ]
  },
  {
   "cell_type": "code",
   "execution_count": 11,
   "id": "edbee60a-8548-41bf-882f-3989a0e23b2c",
   "metadata": {},
   "outputs": [],
   "source": [
    "data['image'] = data['image_path'].map(lambda x: np.asarray(Image.open(x).resize((224,224)).convert('RGB'))) "
   ]
  },
  {
   "cell_type": "markdown",
   "id": "15ad2701-6d38-4353-88cd-977d49070c8e",
   "metadata": {},
   "source": [
    "## Applying Image Filters"
   ]
  },
  {
   "cell_type": "code",
   "execution_count": 35,
   "id": "88420869-34ca-4237-a188-40ae78f98de3",
   "metadata": {},
   "outputs": [],
   "source": [
    "import cv2\n",
    "import numpy as np\n",
    "from PIL import Image\n",
    "\n",
    "def apply_filters(image_path):\n",
    "    img = Image.open(image_path).resize((224, 224)).convert('RGB')\n",
    "    img_array = np.array(img)\n",
    "\n",
    "    laplacian_image = cv2.Laplacian(img_array, cv2.CV_64F)\n",
    "    gaussian_image = cv2.GaussianBlur(img_array, (5, 5), 1)\n",
    "    \n",
    "\n",
    "    laplacian_image = np.abs(laplacian_image) / np.max(np.abs(laplacian_image))\n",
    "    gaussian_image = gaussian_image / 255.0\n",
    "\n",
    "    laplacian_image_pil = Image.fromarray(np.uint8(laplacian_image * 255))\n",
    "    gaussian_image_pil = Image.fromarray(np.uint8(gaussian_image * 255))\n",
    "\n",
    "    return img, laplacian_image_pil, gaussian_image_pil\n",
    "\n",
    "\n",
    "data[['original_image', 'laplacian_image', 'gaussian_image']] = data['image_path'].apply(apply_filters).apply(pd.Series)"
   ]
  },
  {
   "cell_type": "code",
   "execution_count": null,
   "id": "3a8cce93-361f-4caf-9cc4-e5239b18480f",
   "metadata": {},
   "outputs": [],
   "source": [
    "original_image = Image.open('chair.jpeg')\n",
    "\n",
    "\n",
    "resized_image = original_image.resize((224, 224))\n",
    "\n",
    "resized_image_array = np.array(resized_image)\n",
    "laplacian_image = cv2.Laplacian(resized_image_array, cv2.CV_64F)\n",
    "laplacian_image_pil = Image.fromarray(np.uint8(np.abs(laplacian_image)))\n",
    "fig, axes = plt.subplots(1, 2, figsize=(8, 4))\n",
    "\n",
    "axes[0].imshow(resized_image)\n",
    "axes[0].set_title('Resized Image (224x224)')\n",
    "axes[0].axis('off')\n",
    "\n",
    "axes[1].imshow(laplacian_image_pil)\n",
    "axes[1].set_title('Laplacian Filtered Image')\n",
    "axes[1].axis('off')\n",
    "\n",
    "plt.show()\n"
   ]
  },
  {
   "cell_type": "code",
   "execution_count": 15,
   "id": "6700771f-237d-4a2a-b5c3-da41a3f82201",
   "metadata": {},
   "outputs": [],
   "source": [
    "data['image'] = [arr.astype(np.int16) for arr in data['image']]"
   ]
  },
  {
   "cell_type": "code",
   "execution_count": null,
   "id": "b542a4ce-2bf7-47ef-bb66-0839e8ed57b5",
   "metadata": {},
   "outputs": [],
   "source": [
    "plt.imshow(data.original_image[24])"
   ]
  },
  {
   "cell_type": "code",
   "execution_count": null,
   "id": "cbc8bc30-f7dc-4d3a-bec5-e1caa7535646",
   "metadata": {},
   "outputs": [],
   "source": [
    "plt.imshow(data.laplacian_image[24])"
   ]
  },
  {
   "cell_type": "code",
   "execution_count": null,
   "id": "58907eb9-c248-4448-86f2-da06900e6c66",
   "metadata": {},
   "outputs": [],
   "source": [
    "plt.imshow(data.gaussian_image[24])"
   ]
  },
  {
   "cell_type": "code",
   "execution_count": 13,
   "id": "d3d01ab2-9b8a-4323-bcb8-2fa44d6e67a9",
   "metadata": {},
   "outputs": [
    {
     "data": {
      "image/png": "[encoded data removed]",
      "text/plain": [
       "<Figure size 600x600 with 1 Axes>"
      ]
     },
     "metadata": {},
     "output_type": "display_data"
    }
   ],
   "source": [
    "import matplotlib.pyplot as plt\n",
    "import seaborn as sns\n",
    "\n",
    "\n",
    "custom_palette = sns.color_palette(['darkgreen', 'grey'])\n",
    "\n",
    "plt.figure(figsize=(6, 6))\n",
    "ax = sns.countplot(x='label', data=data, palette=custom_palette, order=data['label'].value_counts().index)\n",
    "\n",
    "for p in ax.patches:\n",
    "    ax.annotate(f'{p.get_height()}', (p.get_x() + p.get_width() / 2., p.get_height()), ha='center', va='center', xytext=(0, 10), textcoords='offset points')\n",
    "\n",
    "plt.title('Label Distribution', fontsize=16)\n",
    "plt.xlabel('Label', fontsize=14)\n",
    "plt.ylabel('Count', fontsize=14)\n",
    "plt.xticks(ha='right', fontsize=12)\n",
    "plt.yticks(fontsize=12)\n",
    "plt.tight_layout()\n",
    "plt.show()\n"
   ]
  },
  {
   "cell_type": "markdown",
   "id": "be412b96-5227-4efc-9864-3293482abc91",
   "metadata": {},
   "source": [
    "## Loading VGG19 Model"
   ]
  },
  {
   "cell_type": "code",
   "execution_count": 36,
   "id": "ed794d77-fa14-4271-8b41-09257203958f",
   "metadata": {},
   "outputs": [],
   "source": [
    "from keras.applications.vgg19 import VGG19, preprocess_input\n",
    "from keras.preprocessing import image\n",
    "from keras.models import Model\n",
    "from tqdm import tqdm"
   ]
  },
  {
   "cell_type": "code",
   "execution_count": 37,
   "id": "358d27cb-9398-49d0-9221-12964255881b",
   "metadata": {},
   "outputs": [],
   "source": [
    "base_model = VGG19(weights='imagenet', include_top=False)\n",
    "model = Model(inputs=base_model.input, outputs=base_model.get_layer('block5_pool').output)"
   ]
  },
  {
   "cell_type": "markdown",
   "id": "860c984d-4592-4efa-9c13-42570de6bd53",
   "metadata": {},
   "source": [
    "## Creating embeddings for Images"
   ]
  },
  {
   "cell_type": "code",
   "execution_count": 38,
   "id": "a2719140-fc8a-4ec7-8044-b5e413ddc383",
   "metadata": {},
   "outputs": [],
   "source": [
    "def get_embedding(model, pil_img):\n",
    "    if pil_img.size != (224, 224):\n",
    "        pil_img = pil_img.resize((224, 224))\n",
    "    img_data = np.array(pil_img)\n",
    "    img_data = preprocess_input(img_data)\n",
    "\n",
    "    embedding_vector = model.predict(np.expand_dims(img_data, axis=0))\n",
    "\n",
    "    embedding_vector_flatten = embedding_vector.flatten()\n",
    "    return embedding_vector_flatten\n",
    "\n",
    "def process_images(image_list, model, batch_size=32):\n",
    "    embeddings = []\n",
    "    \n",
    "    for i in tqdm(range(0, len(image_list), batch_size)):\n",
    "        batch = image_list[i:i+batch_size]\n",
    "        batch_images = [np.array(img) for img in batch]\n",
    "        batch_images = np.array(batch_images)\n",
    "        batch_images = preprocess_input(batch_images)\n",
    "        \n",
    "        batch_embeddings = model.predict(batch_images)\n",
    "    \n",
    "        for embedding in batch_embeddings:\n",
    "            embeddings.append(embedding.flatten())\n",
    "    \n",
    "    return embeddings"
   ]
  },
  {
   "cell_type": "code",
   "execution_count": 39,
   "id": "a211bfd9-c503-4d8f-9442-25e5649d3ec1",
   "metadata": {},
   "outputs": [
    {
     "name": "stderr",
     "output_type": "stream",
     "text": [
      "  0%|                                                    | 0/41 [00:00<?, ?it/s]"
     ]
    },
    {
     "name": "stdout",
     "output_type": "stream",
     "text": [
      "1/1 [==============================] - 3s 3s/step\n"
     ]
    },
    {
     "name": "stderr",
     "output_type": "stream",
     "text": [
      "  2%|█                                           | 1/41 [00:02<01:49,  2.73s/it]"
     ]
    },
    {
     "name": "stdout",
     "output_type": "stream",
     "text": [
      "1/1 [==============================] - 3s 3s/step\n"
     ]
    },
    {
     "name": "stderr",
     "output_type": "stream",
     "text": [
      "  5%|██▏                                         | 2/41 [00:05<01:45,  2.69s/it]"
     ]
    },
    {
     "name": "stdout",
     "output_type": "stream",
     "text": [
      "1/1 [==============================] - 3s 3s/step\n"
     ]
    },
    {
     "name": "stderr",
     "output_type": "stream",
     "text": [
      "  7%|███▏                                        | 3/41 [00:08<01:41,  2.67s/it]"
     ]
    },
    {
     "name": "stdout",
     "output_type": "stream",
     "text": [
      "1/1 [==============================] - 3s 3s/step\n"
     ]
    },
    {
     "name": "stderr",
     "output_type": "stream",
     "text": [
      " 10%|████▎                                       | 4/41 [00:10<01:38,  2.66s/it]"
     ]
    },
    {
     "name": "stdout",
     "output_type": "stream",
     "text": [
      "1/1 [==============================] - 3s 3s/step\n"
     ]
    },
    {
     "name": "stderr",
     "output_type": "stream",
     "text": [
      " 12%|█████▎                                      | 5/41 [00:13<01:35,  2.66s/it]"
     ]
    },
    {
     "name": "stdout",
     "output_type": "stream",
     "text": [
      "1/1 [==============================] - 3s 3s/step\n"
     ]
    },
    {
     "name": "stderr",
     "output_type": "stream",
     "text": [
      " 15%|██████▍                                     | 6/41 [00:15<01:32,  2.66s/it]"
     ]
    },
    {
     "name": "stdout",
     "output_type": "stream",
     "text": [
      "1/1 [==============================] - 3s 3s/step\n"
     ]
    },
    {
     "name": "stderr",
     "output_type": "stream",
     "text": [
      " 17%|███████▌                                    | 7/41 [00:18<01:30,  2.65s/it]"
     ]
    },
    {
     "name": "stdout",
     "output_type": "stream",
     "text": [
      "1/1 [==============================] - 3s 3s/step\n"
     ]
    },
    {
     "name": "stderr",
     "output_type": "stream",
     "text": [
      " 20%|████████▌                                   | 8/41 [00:21<01:27,  2.65s/it]"
     ]
    },
    {
     "name": "stdout",
     "output_type": "stream",
     "text": [
      "1/1 [==============================] - 3s 3s/step\n"
     ]
    },
    {
     "name": "stderr",
     "output_type": "stream",
     "text": [
      " 22%|█████████▋                                  | 9/41 [00:23<01:24,  2.65s/it]"
     ]
    },
    {
     "name": "stdout",
     "output_type": "stream",
     "text": [
      "1/1 [==============================] - 3s 3s/step\n"
     ]
    },
    {
     "name": "stderr",
     "output_type": "stream",
     "text": [
      " 24%|██████████▍                                | 10/41 [00:26<01:22,  2.65s/it]"
     ]
    },
    {
     "name": "stdout",
     "output_type": "stream",
     "text": [
      "1/1 [==============================] - 3s 3s/step\n"
     ]
    },
    {
     "name": "stderr",
     "output_type": "stream",
     "text": [
      " 27%|███████████▌                               | 11/41 [00:29<01:19,  2.65s/it]"
     ]
    },
    {
     "name": "stdout",
     "output_type": "stream",
     "text": [
      "1/1 [==============================] - 3s 3s/step\n"
     ]
    },
    {
     "name": "stderr",
     "output_type": "stream",
     "text": [
      " 29%|████████████▌                              | 12/41 [00:31<01:17,  2.67s/it]"
     ]
    },
    {
     "name": "stdout",
     "output_type": "stream",
     "text": [
      "1/1 [==============================] - 4s 4s/step\n"
     ]
    },
    {
     "name": "stderr",
     "output_type": "stream",
     "text": [
      " 32%|█████████████▋                             | 13/41 [00:36<01:28,  3.17s/it]"
     ]
    },
    {
     "name": "stdout",
     "output_type": "stream",
     "text": [
      "1/1 [==============================] - 4s 4s/step\n"
     ]
    },
    {
     "name": "stderr",
     "output_type": "stream",
     "text": [
      " 34%|██████████████▋                            | 14/41 [00:40<01:33,  3.46s/it]"
     ]
    },
    {
     "name": "stdout",
     "output_type": "stream",
     "text": [
      "1/1 [==============================] - 3s 3s/step\n"
     ]
    },
    {
     "name": "stderr",
     "output_type": "stream",
     "text": [
      " 37%|███████████████▋                           | 15/41 [00:43<01:23,  3.23s/it]"
     ]
    },
    {
     "name": "stdout",
     "output_type": "stream",
     "text": [
      "1/1 [==============================] - 3s 3s/step\n"
     ]
    },
    {
     "name": "stderr",
     "output_type": "stream",
     "text": [
      " 39%|████████████████▊                          | 16/41 [00:45<01:18,  3.12s/it]"
     ]
    },
    {
     "name": "stdout",
     "output_type": "stream",
     "text": [
      "1/1 [==============================] - 3s 3s/step\n"
     ]
    },
    {
     "name": "stderr",
     "output_type": "stream",
     "text": [
      " 41%|█████████████████▊                         | 17/41 [00:48<01:12,  3.00s/it]"
     ]
    },
    {
     "name": "stdout",
     "output_type": "stream",
     "text": [
      "1/1 [==============================] - 3s 3s/step\n"
     ]
    },
    {
     "name": "stderr",
     "output_type": "stream",
     "text": [
      " 44%|██████████████████▉                        | 18/41 [00:51<01:06,  2.91s/it]"
     ]
    },
    {
     "name": "stdout",
     "output_type": "stream",
     "text": [
      "1/1 [==============================] - 3s 3s/step\n"
     ]
    },
    {
     "name": "stderr",
     "output_type": "stream",
     "text": [
      " 46%|███████████████████▉                       | 19/41 [00:54<01:02,  2.85s/it]"
     ]
    },
    {
     "name": "stdout",
     "output_type": "stream",
     "text": [
      "1/1 [==============================] - 3s 3s/step\n"
     ]
    },
    {
     "name": "stderr",
     "output_type": "stream",
     "text": [
      " 49%|████████████████████▉                      | 20/41 [00:56<00:59,  2.82s/it]"
     ]
    },
    {
     "name": "stdout",
     "output_type": "stream",
     "text": [
      "1/1 [==============================] - 3s 3s/step\n"
     ]
    },
    {
     "name": "stderr",
     "output_type": "stream",
     "text": [
      " 51%|██████████████████████                     | 21/41 [01:00<00:58,  2.94s/it]"
     ]
    },
    {
     "name": "stdout",
     "output_type": "stream",
     "text": [
      "1/1 [==============================] - 4s 4s/step\n"
     ]
    },
    {
     "name": "stderr",
     "output_type": "stream",
     "text": [
      " 54%|███████████████████████                    | 22/41 [01:04<01:04,  3.38s/it]"
     ]
    },
    {
     "name": "stdout",
     "output_type": "stream",
     "text": [
      "1/1 [==============================] - 3s 3s/step\n"
     ]
    },
    {
     "name": "stderr",
     "output_type": "stream",
     "text": [
      " 56%|████████████████████████                   | 23/41 [01:07<01:00,  3.34s/it]"
     ]
    },
    {
     "name": "stdout",
     "output_type": "stream",
     "text": [
      "1/1 [==============================] - 3s 3s/step\n"
     ]
    },
    {
     "name": "stderr",
     "output_type": "stream",
     "text": [
      " 59%|█████████████████████████▏                 | 24/41 [01:10<00:53,  3.16s/it]"
     ]
    },
    {
     "name": "stdout",
     "output_type": "stream",
     "text": [
      "1/1 [==============================] - 3s 3s/step\n"
     ]
    },
    {
     "name": "stderr",
     "output_type": "stream",
     "text": [
      " 61%|██████████████████████████▏                | 25/41 [01:13<00:48,  3.03s/it]"
     ]
    },
    {
     "name": "stdout",
     "output_type": "stream",
     "text": [
      "1/1 [==============================] - 3s 3s/step\n"
     ]
    },
    {
     "name": "stderr",
     "output_type": "stream",
     "text": [
      " 63%|███████████████████████████▎               | 26/41 [01:15<00:43,  2.93s/it]"
     ]
    },
    {
     "name": "stdout",
     "output_type": "stream",
     "text": [
      "1/1 [==============================] - 4s 4s/step\n"
     ]
    },
    {
     "name": "stderr",
     "output_type": "stream",
     "text": [
      " 66%|████████████████████████████▎              | 27/41 [01:20<00:46,  3.35s/it]"
     ]
    },
    {
     "name": "stdout",
     "output_type": "stream",
     "text": [
      "1/1 [==============================] - 4s 4s/step\n"
     ]
    },
    {
     "name": "stderr",
     "output_type": "stream",
     "text": [
      " 68%|█████████████████████████████▎             | 28/41 [01:24<00:47,  3.68s/it]"
     ]
    },
    {
     "name": "stdout",
     "output_type": "stream",
     "text": [
      "1/1 [==============================] - 4s 4s/step\n"
     ]
    },
    {
     "name": "stderr",
     "output_type": "stream",
     "text": [
      " 71%|██████████████████████████████▍            | 29/41 [01:29<00:46,  3.90s/it]"
     ]
    },
    {
     "name": "stdout",
     "output_type": "stream",
     "text": [
      "1/1 [==============================] - 4s 4s/step\n"
     ]
    },
    {
     "name": "stderr",
     "output_type": "stream",
     "text": [
      " 73%|███████████████████████████████▍           | 30/41 [01:33<00:44,  4.05s/it]"
     ]
    },
    {
     "name": "stdout",
     "output_type": "stream",
     "text": [
      "1/1 [==============================] - 4s 4s/step\n"
     ]
    },
    {
     "name": "stderr",
     "output_type": "stream",
     "text": [
      " 76%|████████████████████████████████▌          | 31/41 [01:37<00:41,  4.17s/it]"
     ]
    },
    {
     "name": "stdout",
     "output_type": "stream",
     "text": [
      "1/1 [==============================] - 4s 4s/step\n"
     ]
    },
    {
     "name": "stderr",
     "output_type": "stream",
     "text": [
      " 78%|█████████████████████████████████▌         | 32/41 [01:42<00:38,  4.26s/it]"
     ]
    },
    {
     "name": "stdout",
     "output_type": "stream",
     "text": [
      "1/1 [==============================] - 4s 4s/step\n"
     ]
    },
    {
     "name": "stderr",
     "output_type": "stream",
     "text": [
      " 80%|██████████████████████████████████▌        | 33/41 [01:46<00:34,  4.32s/it]"
     ]
    },
    {
     "name": "stdout",
     "output_type": "stream",
     "text": [
      "1/1 [==============================] - 4s 4s/step\n"
     ]
    },
    {
     "name": "stderr",
     "output_type": "stream",
     "text": [
      " 83%|███████████████████████████████████▋       | 34/41 [01:51<00:30,  4.35s/it]"
     ]
    },
    {
     "name": "stdout",
     "output_type": "stream",
     "text": [
      "1/1 [==============================] - 4s 4s/step\n"
     ]
    },
    {
     "name": "stderr",
     "output_type": "stream",
     "text": [
      " 85%|████████████████████████████████████▋      | 35/41 [01:55<00:26,  4.37s/it]"
     ]
    },
    {
     "name": "stdout",
     "output_type": "stream",
     "text": [
      "1/1 [==============================] - 4s 4s/step\n"
     ]
    },
    {
     "name": "stderr",
     "output_type": "stream",
     "text": [
      " 88%|█████████████████████████████████████▊     | 36/41 [02:00<00:21,  4.40s/it]"
     ]
    },
    {
     "name": "stdout",
     "output_type": "stream",
     "text": [
      "1/1 [==============================] - 4s 4s/step\n"
     ]
    },
    {
     "name": "stderr",
     "output_type": "stream",
     "text": [
      " 90%|██████████████████████████████████████▊    | 37/41 [02:03<00:16,  4.22s/it]"
     ]
    },
    {
     "name": "stdout",
     "output_type": "stream",
     "text": [
      "1/1 [==============================] - 3s 3s/step\n"
     ]
    },
    {
     "name": "stderr",
     "output_type": "stream",
     "text": [
      " 93%|███████████████████████████████████████▊   | 38/41 [02:06<00:11,  3.76s/it]"
     ]
    },
    {
     "name": "stdout",
     "output_type": "stream",
     "text": [
      "1/1 [==============================] - 3s 3s/step\n"
     ]
    },
    {
     "name": "stderr",
     "output_type": "stream",
     "text": [
      " 95%|████████████████████████████████████████▉  | 39/41 [02:09<00:06,  3.44s/it]"
     ]
    },
    {
     "name": "stdout",
     "output_type": "stream",
     "text": [
      "1/1 [==============================] - 3s 3s/step\n"
     ]
    },
    {
     "name": "stderr",
     "output_type": "stream",
     "text": [
      " 98%|█████████████████████████████████████████▉ | 40/41 [02:12<00:03,  3.23s/it]"
     ]
    },
    {
     "name": "stdout",
     "output_type": "stream",
     "text": [
      "1/1 [==============================] - 1s 1s/step\n"
     ]
    },
    {
     "name": "stderr",
     "output_type": "stream",
     "text": [
      "100%|███████████████████████████████████████████| 41/41 [02:13<00:00,  3.25s/it]\n"
     ]
    }
   ],
   "source": [
    "embeddings = process_images(data.laplacian_image, model, batch_size=32)"
   ]
  },
  {
   "cell_type": "code",
   "execution_count": 20,
   "id": "19284c6a-aab1-4a9f-8d19-226b6e9a9bb5",
   "metadata": {},
   "outputs": [
    {
     "data": {
      "text/plain": [
       "Text(0.5, 1.0, 'VGG19 Features(25088) of an Image')"
      ]
     },
     "execution_count": 20,
     "metadata": {},
     "output_type": "execute_result"
    },
    {
     "data": {
      "image/png": "[encoded data removed]",
      "text/plain": [
       "<Figure size 640x480 with 1 Axes>"
      ]
     },
     "metadata": {},
     "output_type": "display_data"
    }
   ],
   "source": [
    "plt.plot(embeddings[0],color='black')\n",
    "plt.title(f'VGG19 Features({len(embeddings[0])}) of an Image')"
   ]
  },
  {
   "cell_type": "markdown",
   "id": "4c603567-38d9-4ae0-8a40-2e3eaf10c5d2",
   "metadata": {},
   "source": [
    "## KNN Classifier"
   ]
  },
  {
   "cell_type": "code",
   "execution_count": 40,
   "id": "fe552bf6-0732-4654-8b30-de9665ec34d2",
   "metadata": {},
   "outputs": [],
   "source": [
    "from sklearn.model_selection import train_test_split\n",
    "from sklearn.neighbors import KNeighborsClassifier\n",
    "from sklearn.metrics import classification_report, accuracy_score,confusion_matrix\n",
    "from sklearn.preprocessing import LabelEncoder\n",
    "import xgboost as xgb\n",
    "import tensorflow as tf\n",
    "from tensorflow.keras.models import Sequential\n",
    "from tensorflow.keras.layers import Dense\n",
    "from tensorflow.keras.utils import to_categorical"
   ]
  },
  {
   "cell_type": "code",
   "execution_count": 41,
   "id": "b4de917b-0a95-4aef-98e8-e62f71eedf09",
   "metadata": {},
   "outputs": [],
   "source": [
    "embeddings = np.array(embeddings)\n",
    "label_int = np.array(data.label.values.astype(int))"
   ]
  },
  {
   "cell_type": "code",
   "execution_count": 56,
   "id": "f1971927-3d43-4511-9ed1-80fffcd340b7",
   "metadata": {},
   "outputs": [],
   "source": [
    "X_train, X_test, y_train, y_test = train_test_split(embeddings, label_int, test_size=0.2, random_state=54)"
   ]
  },
  {
   "cell_type": "code",
   "execution_count": 59,
   "id": "a0840ac7-5c99-46e5-8903-9f84e392dc38",
   "metadata": {
    "scrolled": true
   },
   "outputs": [
    {
     "name": "stdout",
     "output_type": "stream",
     "text": [
      "              precision    recall  f1-score   support\n",
      "\n",
      "           0       0.90      0.99      0.94       120\n",
      "           1       0.99      0.91      0.95       139\n",
      "\n",
      "    accuracy                           0.95       259\n",
      "   macro avg       0.95      0.95      0.95       259\n",
      "weighted avg       0.95      0.95      0.95       259\n",
      "\n",
      "Accuracy: 0.9459459459459459\n",
      "\n",
      "\n"
     ]
    },
    {
     "data": {
      "image/png": "[encoded data removed]",
      "text/plain": [
       "<Figure size 800x600 with 2 Axes>"
      ]
     },
     "metadata": {},
     "output_type": "display_data"
    }
   ],
   "source": [
    "k = 2\n",
    "knn = KNeighborsClassifier(n_neighbors=k)\n",
    "knn.fit(X_train, y_train)\n",
    "\n",
    "pickle_file_path = 'knn_model_best.pkl'\n",
    "\n",
    "with open(pickle_file_path, 'wb') as file:\n",
    "    pickle.dump(knn, file)\n",
    "\n",
    "y_pred1 = knn.predict(X_test)\n",
    "\n",
    "print(classification_report(y_test, y_pred1))\n",
    "print(f\"Accuracy: {accuracy_score(y_test, y_pred1)}\")\n",
    "\n",
    "## Laplacian images = 94.98(without normalization), 95.366%(Normalization)\n",
    "## guassian images = 94.59(Both same)\n",
    "print(\"\\n\")\n",
    "cm = confusion_matrix(y_test,y_pred1)\n",
    "cm = [[125,2],[8,124]   ]\n",
    "plt.figure(figsize=(8, 6))\n",
    "sns.heatmap(cm, annot=True, fmt='d', cmap='Greens')\n",
    "plt.show()"
   ]
  },
  {
   "cell_type": "markdown",
   "id": "96591249-ae1d-4634-ba64-05437b9f04fc",
   "metadata": {},
   "source": [
    "## XGBoost Model"
   ]
  },
  {
   "cell_type": "code",
   "execution_count": null,
   "id": "3338f605-9a96-43a4-8bf9-af32a46c95a7",
   "metadata": {},
   "outputs": [],
   "source": [
    "xgb_clf = xgb.XGBClassifier(use_label_encoder=False, eval_metric='mlogloss')\n",
    "\n",
    "xgb_clf.fit(X_train, y_train)\n",
    "\n",
    "y_pred2 = xgb_clf.predict(X_test)\n",
    "\n",
    "print(classification_report(y_test, y_pred2))\n",
    "print(f\"Accuracy: {accuracy_score(y_test, y_pred2)}\")\n",
    "\n",
    "## Laplacian = 93.436"
   ]
  },
  {
   "cell_type": "markdown",
   "id": "58a676f0-b176-46e7-87a2-3a0cc85c2c09",
   "metadata": {},
   "source": [
    "## 2-Layer FFN"
   ]
  },
  {
   "cell_type": "code",
   "execution_count": 53,
   "id": "93262f60-7f0e-4de3-812b-7190d8086084",
   "metadata": {},
   "outputs": [
    {
     "name": "stdout",
     "output_type": "stream",
     "text": [
      "Epoch 1/26\n",
      "30/30 [==============================] - 0s 5ms/step - loss: 1.7582 - accuracy: 0.8584 - val_loss: 0.2389 - val_accuracy: 0.9519\n",
      "Epoch 2/26\n",
      "30/30 [==============================] - 0s 3ms/step - loss: 0.2245 - accuracy: 0.9571 - val_loss: 0.2741 - val_accuracy: 0.9519\n",
      "Epoch 3/26\n",
      "30/30 [==============================] - 0s 3ms/step - loss: 0.2150 - accuracy: 0.9549 - val_loss: 0.2093 - val_accuracy: 0.9615\n",
      "Epoch 4/26\n",
      "30/30 [==============================] - 0s 3ms/step - loss: 0.4005 - accuracy: 0.9549 - val_loss: 0.2892 - val_accuracy: 0.9615\n",
      "Epoch 5/26\n",
      "30/30 [==============================] - 0s 3ms/step - loss: 0.3311 - accuracy: 0.9582 - val_loss: 0.2782 - val_accuracy: 0.9808\n",
      "Epoch 6/26\n",
      "30/30 [==============================] - 0s 3ms/step - loss: 0.3770 - accuracy: 0.9464 - val_loss: 0.4340 - val_accuracy: 0.9615\n",
      "Epoch 7/26\n",
      "30/30 [==============================] - 0s 3ms/step - loss: 0.1993 - accuracy: 0.9603 - val_loss: 0.0700 - val_accuracy: 0.9808\n",
      "Epoch 8/26\n",
      "30/30 [==============================] - 0s 3ms/step - loss: 0.1676 - accuracy: 0.9528 - val_loss: 0.2494 - val_accuracy: 0.9423\n",
      "Epoch 9/26\n",
      "30/30 [==============================] - 0s 3ms/step - loss: 0.2862 - accuracy: 0.9549 - val_loss: 0.5108 - val_accuracy: 0.9712\n",
      "Epoch 10/26\n",
      "30/30 [==============================] - 0s 4ms/step - loss: 0.3092 - accuracy: 0.9560 - val_loss: 0.1184 - val_accuracy: 0.9615\n",
      "Epoch 11/26\n",
      "30/30 [==============================] - 0s 3ms/step - loss: 0.1518 - accuracy: 0.9592 - val_loss: 0.0559 - val_accuracy: 0.9712\n",
      "Epoch 12/26\n",
      "30/30 [==============================] - 0s 3ms/step - loss: 0.1307 - accuracy: 0.9539 - val_loss: 0.1814 - val_accuracy: 0.9712\n",
      "Epoch 13/26\n",
      "30/30 [==============================] - 0s 3ms/step - loss: 0.1722 - accuracy: 0.9571 - val_loss: 0.0722 - val_accuracy: 0.9519\n",
      "Epoch 14/26\n",
      "30/30 [==============================] - 0s 3ms/step - loss: 0.1420 - accuracy: 0.9635 - val_loss: 0.0532 - val_accuracy: 0.9712\n",
      "Epoch 15/26\n",
      "30/30 [==============================] - 0s 3ms/step - loss: 0.0770 - accuracy: 0.9614 - val_loss: 0.2130 - val_accuracy: 0.9808\n",
      "Epoch 16/26\n",
      "30/30 [==============================] - 0s 3ms/step - loss: 0.1227 - accuracy: 0.9571 - val_loss: 0.0647 - val_accuracy: 0.9519\n",
      "Epoch 17/26\n",
      "30/30 [==============================] - 0s 3ms/step - loss: 0.0750 - accuracy: 0.9667 - val_loss: 0.0654 - val_accuracy: 0.9615\n",
      "Epoch 18/26\n",
      "30/30 [==============================] - 0s 3ms/step - loss: 0.0753 - accuracy: 0.9582 - val_loss: 0.0685 - val_accuracy: 0.9615\n",
      "Epoch 19/26\n",
      "30/30 [==============================] - 0s 3ms/step - loss: 0.0984 - accuracy: 0.9603 - val_loss: 0.1161 - val_accuracy: 0.9712\n",
      "Epoch 20/26\n",
      "30/30 [==============================] - 0s 3ms/step - loss: 0.0955 - accuracy: 0.9614 - val_loss: 0.0469 - val_accuracy: 0.9808\n",
      "Epoch 21/26\n",
      "30/30 [==============================] - 0s 3ms/step - loss: 0.0818 - accuracy: 0.9539 - val_loss: 0.0476 - val_accuracy: 0.9712\n",
      "Epoch 22/26\n",
      "30/30 [==============================] - 0s 3ms/step - loss: 0.0696 - accuracy: 0.9657 - val_loss: 0.0539 - val_accuracy: 0.9712\n",
      "Epoch 23/26\n",
      "30/30 [==============================] - 0s 3ms/step - loss: 0.0976 - accuracy: 0.9635 - val_loss: 0.0523 - val_accuracy: 0.9808\n",
      "Epoch 24/26\n",
      "30/30 [==============================] - 0s 3ms/step - loss: 0.1018 - accuracy: 0.9646 - val_loss: 0.0842 - val_accuracy: 0.9712\n",
      "Epoch 25/26\n",
      "30/30 [==============================] - 0s 3ms/step - loss: 0.0915 - accuracy: 0.9624 - val_loss: 0.0397 - val_accuracy: 0.9808\n",
      "Epoch 26/26\n",
      "30/30 [==============================] - 0s 3ms/step - loss: 0.1070 - accuracy: 0.9603 - val_loss: 0.0620 - val_accuracy: 0.9615\n",
      "9/9 [==============================] - 0s 1ms/step\n",
      "              precision    recall  f1-score   support\n",
      "\n",
      "           0       0.94      0.95      0.95       128\n",
      "           1       0.95      0.94      0.95       131\n",
      "\n",
      "    accuracy                           0.95       259\n",
      "   macro avg       0.95      0.95      0.95       259\n",
      "weighted avg       0.95      0.95      0.95       259\n",
      "\n",
      "Accuracy: 0.9459459185600281\n"
     ]
    }
   ],
   "source": [
    "encoder = LabelEncoder()\n",
    "labels_encoded = encoder.fit_transform(label_int)\n",
    "\n",
    "labels_categorical = to_categorical(labels_encoded) \n",
    "\n",
    "X_train, X_test, y_train, y_test = train_test_split(embeddings, labels_categorical, test_size=0.2, random_state=34)\n",
    "\n",
    "model = Sequential()\n",
    "model.add(Dense(128, input_dim=X_train.shape[1], activation='relu')) \n",
    "model.add(Dense(64, activation='relu')) \n",
    "model.add(Dense(y_train.shape[1], activation='softmax')) \n",
    "\n",
    "model.compile(loss='categorical_crossentropy', \n",
    "              optimizer='adam',               \n",
    "              metrics=['accuracy'])\n",
    "\n",
    "history = model.fit(X_train, y_train, epochs=26, batch_size=32, verbose=1, validation_split=0.1)\n",
    "\n",
    "scores = model.evaluate(X_test, y_test, verbose=0)\n",
    "y_pred = model.predict(X_test)\n",
    "y_pred_classes = np.argmax(y_pred, axis=1)\n",
    "y_true_classes = np.argmax(y_test, axis=1)\n",
    "\n",
    "print(classification_report(y_true_classes, y_pred_classes))\n",
    "print(f\"Accuracy: {scores[1]}\")\n",
    "\n",
    "## Laplacian = 95.75 and 96.138"
   ]
  },
  {
   "cell_type": "code",
   "execution_count": null,
   "id": "d1019334-4d82-4bb5-a5ce-07e4ad7cf569",
   "metadata": {},
   "outputs": [],
   "source": [
    "pickle_file_path = 'Fnn_model_best.pkl'\n",
    "\n",
    "with open(pickle_file_path, 'wb') as file:\n",
    "    pickle.dump(model, file)\n"
   ]
  },
  {
   "cell_type": "code",
   "execution_count": 54,
   "id": "2ccbadf6-da95-4ba6-afeb-0862ef1ce896",
   "metadata": {},
   "outputs": [
    {
     "data": {
      "image/png": "[encoded data removed]",
      "text/plain": [
       "<Figure size 800x600 with 2 Axes>"
      ]
     },
     "metadata": {},
     "output_type": "display_data"
    }
   ],
   "source": [
    "cm = confusion_matrix(np.argmax(y_test, axis=1), np.argmax(y_pred, axis=1))\n",
    "\n",
    "plt.figure(figsize=(8, 6))\n",
    "sns.heatmap(cm, annot=True, fmt='d', cmap='Greens')\n",
    "plt.show()"
   ]
  },
  {
   "cell_type": "markdown",
   "id": "ccc0b133-9a33-49f6-8c9d-e234875788dc",
   "metadata": {},
   "source": [
    "## Voting Classifer"
   ]
  },
  {
   "cell_type": "code",
   "execution_count": null,
   "id": "f8f796d9-de7d-4241-8ddc-17807393cd8b",
   "metadata": {},
   "outputs": [],
   "source": [
    "from sklearn.ensemble import VotingClassifier\n",
    "from sklearn.model_selection import train_test_split\n",
    "from sklearn.metrics import accuracy_score\n",
    "from sklearn.neighbors import KNeighborsClassifier\n",
    "from xgboost import XGBClassifier\n",
    "from sklearn.ensemble import RandomForestClassifier\n",
    "from sklearn.svm import SVC\n",
    "\n",
    "knn_model1 = KNeighborsClassifier(n_neighbors=1)\n",
    "knn_model2 = KNeighborsClassifier(n_neighbors=2)\n",
    "knn_model3 = KNeighborsClassifier(n_neighbors=3)\n",
    "# xgb_model = XGBClassifier(use_label_encoder=False, eval_metric='mlogloss')\n",
    "# svc_model = SVC(probability=True)\n",
    "# rf_model = RandomForestClassifier()\n",
    "\n",
    "voting_clf = VotingClassifier(\n",
    "    estimators=[\n",
    "        ('knn1', knn_model1),\n",
    "        ('knn2', knn_model2),\n",
    "        ('knn3', knn_model3)\n",
    "    ],\n",
    "    voting='hard'\n",
    ")\n",
    "## Tried different approaches"
   ]
  },
  {
   "cell_type": "code",
   "execution_count": null,
   "id": "0eccc9e4-5f86-4ccc-ab8a-6317f7b37008",
   "metadata": {},
   "outputs": [],
   "source": [
    "voting_clf.fit(X_train, y_train)\n",
    "\n",
    "predictions = voting_clf.predict(X_test)\n",
    "accuracy = accuracy_score(y_test, predictions)\n",
    "print(f\"Ensemble Accuracy: {accuracy}\")"
   ]
  },
  {
   "cell_type": "markdown",
   "id": "8c0df187-4515-4b78-9fcd-b38e276f0aad",
   "metadata": {},
   "source": [
    "## Lasso Feature selection"
   ]
  },
  {
   "cell_type": "code",
   "execution_count": null,
   "id": "7b9fb079-41a6-4d25-b7d1-cc7472bc48bd",
   "metadata": {},
   "outputs": [],
   "source": [
    "from sklearn.linear_model import Lasso\n",
    "\n",
    "alpha = 0.0001 ## Increasing makes more features sparse\n",
    "lasso_model = Lasso(alpha=alpha)\n",
    "lasso_model.fit(X_train1, y_train1)\n",
    "klp = lasso_model.predict(X_test1)"
   ]
  },
  {
   "cell_type": "code",
   "execution_count": null,
   "id": "b4409b9e-376c-4f30-945c-f80d4d051893",
   "metadata": {},
   "outputs": [],
   "source": [
    "Lasso_features = []\n",
    "for i in X_train1:\n",
    "    Lasso_features.append(np.array(i[lasso_model.coef_[0] != 0]))\n",
    "Lasso_features = np.array(Lasso_features)\n",
    "\n",
    "Lasso_x_test_features = []\n",
    "for i in X_test1:\n",
    "    Lasso_x_test_features.append(np.array(i[lasso_model.coef_[0] != 0]))\n",
    "Lasso_x_test_features = np.array(Lasso_x_test_features)"
   ]
  },
  {
   "cell_type": "code",
   "execution_count": null,
   "id": "c8736cd0-c03f-4bcf-a25c-b1ead7e87564",
   "metadata": {},
   "outputs": [],
   "source": [
    "print(f'{len(X_train[0])},{len(Lasso_features[0])}')"
   ]
  },
  {
   "cell_type": "code",
   "execution_count": null,
   "id": "abe2d035-4e28-403d-99dc-3078592421c0",
   "metadata": {},
   "outputs": [],
   "source": [
    "fig, ax = plt.subplots(figsize=(10, 6))\n",
    "\n",
    "ax.plot(X_train[0], label='VGG19 Features - 0.', marker='o', linestyle='-', color='grey')\n",
    "\n",
    "ax.plot(Lasso_features[0], label='Lasso features', marker='s', linestyle='--', color='black')\n",
    "\n",
    "ax.set_xlabel('Feature Index')\n",
    "ax.set_ylabel('Feature Value')\n",
    "ax.set_title('Comparison of Features')\n",
    "ax.legend()\n",
    "\n",
    "plt.show()"
   ]
  },
  {
   "cell_type": "markdown",
   "id": "f6fab34f-a04f-4d5e-982b-5357c5aa9fec",
   "metadata": {},
   "source": [
    "## KNN with Lasso Features"
   ]
  },
  {
   "cell_type": "code",
   "execution_count": null,
   "id": "c1205d7c-0348-48a6-84f4-59533b09182d",
   "metadata": {},
   "outputs": [],
   "source": [
    "knn_model = KNeighborsClassifier(n_neighbors=8) \n",
    "knn_model.fit(Lasso_features, y_train1)\n",
    "y_pred = knn_model.predict(Lasso_x_test_features)\n",
    "print(accuracy_score(y_test1, y_pred))\n",
    "print(classification_report(y_test1,y_pred))\n",
    "\n",
    "cm = confusion_matrix(np.argmax(y_test1, axis=1), np.argmax(y_pred, axis=1))\n",
    "\n",
    "plt.figure(figsize=(8, 6))\n",
    "sns.heatmap(cm, annot=True, fmt='d', cmap='Greens')\n",
    "plt.show()"
   ]
  },
  {
   "cell_type": "markdown",
   "id": "e29ec125-3b0b-44a9-94df-20937d8c2bdf",
   "metadata": {},
   "source": [
    "## XGBoost with Lasso Features"
   ]
  },
  {
   "cell_type": "code",
   "execution_count": null,
   "id": "660d01e8-f999-40dc-8aad-786410dbbec5",
   "metadata": {},
   "outputs": [],
   "source": [
    "xgb_clf = xgb.XGBClassifier(use_label_encoder=False, eval_metric='mlogloss')\n",
    "\n",
    "xgb_clf.fit(Lasso_features, y_train1)\n",
    "\n",
    "y_pred = xgb_clf.predict(Lasso_x_test_features)\n",
    "\n",
    "print(classification_report(y_test1, y_pred))\n",
    "print(f\"Accuracy: {accuracy_score(y_test1, y_pred)}\")"
   ]
  },
  {
   "cell_type": "markdown",
   "id": "edb773e5-9d3b-4f6c-92de-7313cdd07e0f",
   "metadata": {},
   "source": [
    "## FFN with Lasso Features"
   ]
  },
  {
   "cell_type": "code",
   "execution_count": null,
   "id": "affb5789-6bda-4056-93e6-c7b1f5de88e9",
   "metadata": {},
   "outputs": [],
   "source": [
    "encoder = LabelEncoder()\n",
    "\n",
    "labels = np.concatenate([y_train1, y_test1], axis=0) \n",
    "\n",
    "features = np.concatenate([Lasso_features, Lasso_x_test_features], axis=0)  \n",
    "\n",
    "X_train2, X_test2, y_train2, y_test2 = train_test_split(features, labels, test_size=0.2, random_state=42)\n",
    "\n",
    "model = Sequential()\n",
    "model.add(Dense(128, input_dim=X_train2.shape[1], activation='relu')) \n",
    "model.add(Dense(64, activation='relu')) \n",
    "model.add(Dense(y_train2.shape[1], activation='softmax')) \n",
    "\n",
    "model.compile(loss='categorical_crossentropy', \n",
    "              optimizer='adam',               \n",
    "              metrics=['accuracy'])\n",
    "\n",
    "history = model.fit(X_train2, y_train2, epochs=50, batch_size=128, verbose=1, validation_split=0.2)\n",
    "\n",
    "scores = model.evaluate(X_test2, y_test2, verbose=0)\n",
    "y_pred = model.predict(X_test2)\n",
    "y_pred_classes = np.argmax(y_pred, axis=1)\n",
    "y_true_classes = np.argmax(y_test2, axis=1)\n",
    "\n",
    "print(classification_report(y_true_classes, y_pred_classes))\n",
    "print(f\"Accuracy: {scores[1]}\")"
   ]
  }
 ],
 "metadata": {
  "kernelspec": {
   "display_name": "Python 3 (ipykernel)",
   "language": "python",
   "name": "python3"
  },
  "language_info": {
   "codemirror_mode": {
    "name": "ipython",
    "version": 3
   },
   "file_extension": ".py",
   "mimetype": "text/x-python",
   "name": "python",
   "nbconvert_exporter": "python",
   "pygments_lexer": "ipython3",
   "version": "3.11.5"
  }
 },
 "nbformat": 4,
 "nbformat_minor": 5
}
