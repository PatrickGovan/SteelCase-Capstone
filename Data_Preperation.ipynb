{
 "cells": [
  {
   "cell_type": "code",
   "execution_count": 9,
   "id": "aca6e151-1d47-4771-a85e-ecc417579f0c",
   "metadata": {},
   "outputs": [],
   "source": [
    "import pandas as pd\n",
    "import numpy as np\n",
    "import seaborn as sns\n",
    "import matplotlib.pyplot as plt\n",
    "from PIL import Image\n",
    "import os"
   ]
  },
  {
   "cell_type": "markdown",
   "id": "a9994b32-9b96-49a1-9be4-f31da2e8d8d0",
   "metadata": {},
   "source": [
    "## Loading Data"
   ]
  },
  {
   "cell_type": "code",
   "execution_count": 10,
   "id": "1f13bdb3-17e5-4235-ad58-78e6d1a908b2",
   "metadata": {},
   "outputs": [],
   "source": [
    "data = pd.read_csv(\"~/Desktop/Capstone_Steelcase/labelled_floorplan_dataset_updated.csv\")"
   ]
  },
  {
   "cell_type": "code",
   "execution_count": 11,
   "id": "1ec9b86d-46d8-4e23-9ab9-cf86cc9e9d16",
   "metadata": {},
   "outputs": [],
   "source": [
    "def image_path(key):\n",
    "    return f\"Total_Images/{key}/{key}_Top.png\"\n",
    "\n",
    "data['image_path'] = data['key'].apply(image_path)"
   ]
  },
  {
   "cell_type": "code",
   "execution_count": 12,
   "id": "44fd81b9-6159-469a-ae1e-43a90872084c",
   "metadata": {},
   "outputs": [
    {
     "name": "stdout",
     "output_type": "stream",
     "text": [
      "0.11251098740111339\n",
      "0.8874890125988866\n"
     ]
    }
   ],
   "source": [
    "print(sum(data.label==1)/len(data.label))\n",
    "print(sum(data.label==-1)/len(data.label))"
   ]
  },
  {
   "cell_type": "code",
   "execution_count": 13,
   "id": "8125895b",
   "metadata": {},
   "outputs": [
    {
     "data": {
      "text/html": [
       "<div>\n",
       "<style scoped>\n",
       "    .dataframe tbody tr th:only-of-type {\n",
       "        vertical-align: middle;\n",
       "    }\n",
       "\n",
       "    .dataframe tbody tr th {\n",
       "        vertical-align: top;\n",
       "    }\n",
       "\n",
       "    .dataframe thead th {\n",
       "        text-align: right;\n",
       "    }\n",
       "</style>\n",
       "<table border=\"1\" class=\"dataframe\">\n",
       "  <thead>\n",
       "    <tr style=\"text-align: right;\">\n",
       "      <th></th>\n",
       "      <th>key</th>\n",
       "      <th>label</th>\n",
       "      <th>image_path</th>\n",
       "    </tr>\n",
       "  </thead>\n",
       "  <tbody>\n",
       "    <tr>\n",
       "      <th>0</th>\n",
       "      <td>006a2d3bb2b7435fb6d96e7f320efe42</td>\n",
       "      <td>-1.0</td>\n",
       "      <td>Total_Images/006a2d3bb2b7435fb6d96e7f320efe42/...</td>\n",
       "    </tr>\n",
       "    <tr>\n",
       "      <th>1</th>\n",
       "      <td>00e22bea176c4792a53d5132364ecd52</td>\n",
       "      <td>1.0</td>\n",
       "      <td>Total_Images/00e22bea176c4792a53d5132364ecd52/...</td>\n",
       "    </tr>\n",
       "    <tr>\n",
       "      <th>2</th>\n",
       "      <td>01bd5ab8fa0c4a7ab183f9f30f8c9a3a</td>\n",
       "      <td>-1.0</td>\n",
       "      <td>Total_Images/01bd5ab8fa0c4a7ab183f9f30f8c9a3a/...</td>\n",
       "    </tr>\n",
       "    <tr>\n",
       "      <th>3</th>\n",
       "      <td>01c1ac1113dc4770a2690dc9e7218859</td>\n",
       "      <td>-1.0</td>\n",
       "      <td>Total_Images/01c1ac1113dc4770a2690dc9e7218859/...</td>\n",
       "    </tr>\n",
       "    <tr>\n",
       "      <th>4</th>\n",
       "      <td>034515138be34df3a780bb878eda204d</td>\n",
       "      <td>1.0</td>\n",
       "      <td>Total_Images/034515138be34df3a780bb878eda204d/...</td>\n",
       "    </tr>\n",
       "    <tr>\n",
       "      <th>...</th>\n",
       "      <td>...</td>\n",
       "      <td>...</td>\n",
       "      <td>...</td>\n",
       "    </tr>\n",
       "    <tr>\n",
       "      <th>3408</th>\n",
       "      <td>0c5ebff3c81849faa7116d1379a6f975</td>\n",
       "      <td>-1.0</td>\n",
       "      <td>Total_Images/0c5ebff3c81849faa7116d1379a6f975/...</td>\n",
       "    </tr>\n",
       "    <tr>\n",
       "      <th>3409</th>\n",
       "      <td>0c63ab679de6427cbdbb05f1ba841204</td>\n",
       "      <td>-1.0</td>\n",
       "      <td>Total_Images/0c63ab679de6427cbdbb05f1ba841204/...</td>\n",
       "    </tr>\n",
       "    <tr>\n",
       "      <th>3410</th>\n",
       "      <td>0c655ec5de1845ee9981d156a46a827b</td>\n",
       "      <td>-1.0</td>\n",
       "      <td>Total_Images/0c655ec5de1845ee9981d156a46a827b/...</td>\n",
       "    </tr>\n",
       "    <tr>\n",
       "      <th>3411</th>\n",
       "      <td>0c65e370201249aab3a237a30b96aad8</td>\n",
       "      <td>-1.0</td>\n",
       "      <td>Total_Images/0c65e370201249aab3a237a30b96aad8/...</td>\n",
       "    </tr>\n",
       "    <tr>\n",
       "      <th>3412</th>\n",
       "      <td>0c6793a4728a41e88bc1676bc08a0489</td>\n",
       "      <td>-1.0</td>\n",
       "      <td>Total_Images/0c6793a4728a41e88bc1676bc08a0489/...</td>\n",
       "    </tr>\n",
       "  </tbody>\n",
       "</table>\n",
       "<p>3413 rows × 3 columns</p>\n",
       "</div>"
      ],
      "text/plain": [
       "                                   key  label  \\\n",
       "0     006a2d3bb2b7435fb6d96e7f320efe42   -1.0   \n",
       "1     00e22bea176c4792a53d5132364ecd52    1.0   \n",
       "2     01bd5ab8fa0c4a7ab183f9f30f8c9a3a   -1.0   \n",
       "3     01c1ac1113dc4770a2690dc9e7218859   -1.0   \n",
       "4     034515138be34df3a780bb878eda204d    1.0   \n",
       "...                                ...    ...   \n",
       "3408  0c5ebff3c81849faa7116d1379a6f975   -1.0   \n",
       "3409  0c63ab679de6427cbdbb05f1ba841204   -1.0   \n",
       "3410  0c655ec5de1845ee9981d156a46a827b   -1.0   \n",
       "3411  0c65e370201249aab3a237a30b96aad8   -1.0   \n",
       "3412  0c6793a4728a41e88bc1676bc08a0489   -1.0   \n",
       "\n",
       "                                             image_path  \n",
       "0     Total_Images/006a2d3bb2b7435fb6d96e7f320efe42/...  \n",
       "1     Total_Images/00e22bea176c4792a53d5132364ecd52/...  \n",
       "2     Total_Images/01bd5ab8fa0c4a7ab183f9f30f8c9a3a/...  \n",
       "3     Total_Images/01c1ac1113dc4770a2690dc9e7218859/...  \n",
       "4     Total_Images/034515138be34df3a780bb878eda204d/...  \n",
       "...                                                 ...  \n",
       "3408  Total_Images/0c5ebff3c81849faa7116d1379a6f975/...  \n",
       "3409  Total_Images/0c63ab679de6427cbdbb05f1ba841204/...  \n",
       "3410  Total_Images/0c655ec5de1845ee9981d156a46a827b/...  \n",
       "3411  Total_Images/0c65e370201249aab3a237a30b96aad8/...  \n",
       "3412  Total_Images/0c6793a4728a41e88bc1676bc08a0489/...  \n",
       "\n",
       "[3413 rows x 3 columns]"
      ]
     },
     "execution_count": 13,
     "metadata": {},
     "output_type": "execute_result"
    }
   ],
   "source": [
    "data"
   ]
  },
  {
   "cell_type": "markdown",
   "id": "549cde57-ba22-42ab-a794-1c276c3f2e5d",
   "metadata": {},
   "source": [
    "- Map Images\n",
    "- Resize them\n",
    "- Greyscale/RGB\n",
    "- Any filters - Lanczos,bilinear,bicubic\n",
    "- Reduce memory (int16)"
   ]
  },
  {
   "cell_type": "markdown",
   "id": "04c44931-16e5-4bc9-bd73-1256bd42b3d7",
   "metadata": {},
   "source": [
    "## Loading Images"
   ]
  },
  {
   "cell_type": "code",
   "execution_count": 18,
   "id": "3b297758-413e-415b-ac64-0a43335ce88d",
   "metadata": {},
   "outputs": [],
   "source": [
    "data['image'] = data['image_path'].map(lambda x: np.asarray(Image.open(x).resize((224,224)).convert('L'))) #.convert('L') for greyscale #.convert('RGB') for Color\n",
    "data['image'] = [arr.astype(np.int16) for arr in data['image']]  #int16  #int8 \n",
    "\n",
    "# RGB with 16 - default\n",
    "# RGB with 8\n",
    "# L with 16 and 8"
   ]
  },
  {
   "cell_type": "code",
   "execution_count": 19,
   "id": "201ff2b5-55ae-4080-8b5e-1dee2788c4fa",
   "metadata": {},
   "outputs": [],
   "source": [
    "with open('Processed_data_GS_224x224.pkl', 'wb') as file:\n",
    "    pickle.dump(data, file)"
   ]
  },
  {
   "cell_type": "code",
   "execution_count": 20,
   "id": "b3afecb8-73b1-4678-aedd-d12e34550d04",
   "metadata": {},
   "outputs": [],
   "source": [
    "import pickle\n",
    "with open('Processed_data_GS_224x224.pkl', 'rb') as file:\n",
    "    data = pickle.load(file)"
   ]
  },
  {
   "cell_type": "code",
   "execution_count": 26,
   "id": "77830ac4-5c34-4c7f-8f11-29a994ee396e",
   "metadata": {},
   "outputs": [
    {
     "data": {
      "text/plain": [
       "(224, 224)"
      ]
     },
     "execution_count": 26,
     "metadata": {},
     "output_type": "execute_result"
    },
    {
     "data": {
      "image/png": "[encoded data removed]",
      "text/plain": [
       "<Figure size 640x480 with 1 Axes>"
      ]
     },
     "metadata": {},
     "output_type": "display_data"
    }
   ],
   "source": [
    "plt.imshow(data.image[12])\n",
    "data.image[12].shape"
   ]
  },
  {
   "cell_type": "code",
   "execution_count": 24,
   "id": "fdfbd6c9-aa57-4ab3-8eb9-33c011419d0d",
   "metadata": {},
   "outputs": [
    {
     "name": "stdout",
     "output_type": "stream",
     "text": [
      "<class 'pandas.core.series.Series'>\n",
      "RangeIndex: 3413 entries, 0 to 3412\n",
      "Series name: image\n",
      "Non-Null Count  Dtype \n",
      "--------------  ----- \n",
      "3413 non-null   object\n",
      "dtypes: object(1)\n",
      "memory usage: 26.8+ KB\n"
     ]
    }
   ],
   "source": [
    "data['image'].info()"
   ]
  }
 ],
 "metadata": {
  "kernelspec": {
   "display_name": "Python 3 (ipykernel)",
   "language": "python",
   "name": "python3"
  },
  "language_info": {
   "codemirror_mode": {
    "name": "ipython",
    "version": 3
   },
   "file_extension": ".py",
   "mimetype": "text/x-python",
   "name": "python",
   "nbconvert_exporter": "python",
   "pygments_lexer": "ipython3",
   "version": "3.11.5"
  }
 },
 "nbformat": 4,
 "nbformat_minor": 5
}
