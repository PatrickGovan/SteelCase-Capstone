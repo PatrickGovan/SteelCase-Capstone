{
 "cells": [
  {
   "cell_type": "code",
   "execution_count": 1,
   "id": "fbcc3a30-7675-4c02-9e82-fc2e942fce1b",
   "metadata": {},
   "outputs": [],
   "source": [
    "import pandas as pd\n",
    "import numpy as np\n",
    "import seaborn as sns\n",
    "import matplotlib.pyplot as plt\n",
    "from PIL import Image\n",
    "import os\n",
    "from tensorflow.keras.utils import to_categorical\n",
    "from sklearn.preprocessing import LabelEncoder\n",
    "from sklearn.model_selection import train_test_split\n",
    "from sklearn.metrics import f1_score"
   ]
  },
  {
   "cell_type": "markdown",
   "id": "e1a72a2e-3ce8-49ec-95b4-5c8197c258ca",
   "metadata": {},
   "source": [
    "## Loading Data"
   ]
  },
  {
   "cell_type": "code",
   "execution_count": 2,
   "id": "5470d796-1ade-4457-99fd-fe07e0cebfa0",
   "metadata": {},
   "outputs": [],
   "source": [
    "import pickle\n",
    "with open('Processed_data_RGB_224x224.pkl', 'rb') as file:\n",
    "    data = pickle.load(file)"
   ]
  },
  {
   "cell_type": "code",
   "execution_count": 3,
   "id": "fd010ae9-5e2b-4d34-a188-33eee1c2a885",
   "metadata": {},
   "outputs": [],
   "source": [
    "Features = np.stack(data['image'].values)\n",
    "Target = data['label']"
   ]
  },
  {
   "cell_type": "markdown",
   "id": "69edacf2-e98d-4e87-aac0-f6ebc95e7582",
   "metadata": {},
   "source": [
    "## Splitting Data"
   ]
  },
  {
   "cell_type": "code",
   "execution_count": 6,
   "id": "06d8deea-c27b-4914-8978-40646cd96e50",
   "metadata": {},
   "outputs": [],
   "source": [
    "x_train, x_test, y_train_o, y_test_o = train_test_split(Features, Target, test_size=0.3,random_state=666)"
   ]
  },
  {
   "cell_type": "code",
   "execution_count": 7,
   "id": "50c93945-144b-4dc1-8758-12ee72c68d52",
   "metadata": {},
   "outputs": [],
   "source": [
    "label_encoder = LabelEncoder()\n",
    "y_train_o = label_encoder.fit_transform(y_train_o)\n",
    "y_test_o = label_encoder.transform(y_test_o)\n",
    "y_train = to_categorical(y_train_o, num_classes = 2)\n",
    "y_test = to_categorical(y_test_o, num_classes = 2)"
   ]
  },
  {
   "cell_type": "code",
   "execution_count": 8,
   "id": "ba95510d-89eb-4ad9-bc93-b6cdcdf8727a",
   "metadata": {},
   "outputs": [],
   "source": [
    "x_train = x_train.reshape(x_train.shape[0], *(224, 224, 3))\n",
    "x_test = x_test.reshape(x_test.shape[0], *(224, 224, 3))"
   ]
  },
  {
   "cell_type": "markdown",
   "id": "6a1b73d7-4d4f-4c0c-8448-1a74d01a5962",
   "metadata": {},
   "source": [
    "## Loading EfficientNetB7 Model"
   ]
  },
  {
   "cell_type": "code",
   "execution_count": 9,
   "id": "1425eee1-b4ae-4f1f-adc5-7e25c18a4c07",
   "metadata": {},
   "outputs": [],
   "source": [
    "import tensorflow as tf\n",
    "from tensorflow.keras import layers, models\n",
    "from efficientnet.tfkeras import EfficientNetB7\n",
    "from tensorflow.keras.preprocessing import image\n",
    "\n",
    "base_model = EfficientNetB7(weights='imagenet', include_top=False, input_shape=(224, 224, 3))\n",
    "base_model.trainable = False\n"
   ]
  },
  {
   "cell_type": "code",
   "execution_count": 10,
   "id": "7970728e-e05e-4f30-a1d5-af9983c72330",
   "metadata": {},
   "outputs": [
    {
     "name": "stdout",
     "output_type": "stream",
     "text": [
      "Model: \"sequential\"\n",
      "_________________________________________________________________\n",
      " Layer (type)                Output Shape              Param #   \n",
      "=================================================================\n",
      " efficientnet-b7 (Functiona  (None, 7, 7, 2560)        64097680  \n",
      " l)                                                              \n",
      "                                                                 \n",
      " max_pooling2d (MaxPooling2  (None, 3, 3, 2560)        0         \n",
      " D)                                                              \n",
      "                                                                 \n",
      "=================================================================\n",
      "Total params: 64097680 (244.51 MB)\n",
      "Trainable params: 0 (0.00 Byte)\n",
      "Non-trainable params: 64097680 (244.51 MB)\n",
      "_________________________________________________________________\n"
     ]
    }
   ],
   "source": [
    "model = models.Sequential([\n",
    "    base_model,\n",
    "    layers.MaxPooling2D(),\n",
    "])\n",
    "\n",
    "model.compile(optimizer='adam', loss='categorical_crossentropy', metrics=['accuracy'])\n",
    "model.summary()"
   ]
  },
  {
   "cell_type": "code",
   "execution_count": 13,
   "id": "f6e187f9-3b57-4cc3-9279-9fc75e12937f",
   "metadata": {},
   "outputs": [
    {
     "name": "stdout",
     "output_type": "stream",
     "text": [
      "75/75 [==============================] - 116s 2s/step\n",
      "32/32 [==============================] - 49s 2s/step\n"
     ]
    }
   ],
   "source": [
    "features = model.predict(x_train)\n",
    "x_test_features = model.predict(x_test)"
   ]
  },
  {
   "cell_type": "code",
   "execution_count": 14,
   "id": "31c73dcd-72b3-4697-aece-dfface5c7be3",
   "metadata": {},
   "outputs": [
    {
     "data": {
      "text/plain": [
       "[<matplotlib.lines.Line2D at 0x2c6ecf850>]"
      ]
     },
     "execution_count": 14,
     "metadata": {},
     "output_type": "execute_result"
    },
    {
     "data": {
      "image/png": "[encoded data removed]",
      "text/plain": [
       "<Figure size 640x480 with 1 Axes>"
      ]
     },
     "metadata": {},
     "output_type": "display_data"
    }
   ],
   "source": [
    "features = features.reshape((features.shape[0], -1))\n",
    "x_test_features = x_test_features.reshape((x_test_features.shape[0], -1))\n",
    "plt.plot(features[121])"
   ]
  },
  {
   "cell_type": "code",
   "execution_count": 15,
   "id": "fb1e90de-d788-4508-a7a5-3f4d5fe787c5",
   "metadata": {},
   "outputs": [
    {
     "data": {
      "text/plain": [
       "(2389, 23040)"
      ]
     },
     "execution_count": 15,
     "metadata": {},
     "output_type": "execute_result"
    }
   ],
   "source": [
    "features.shape"
   ]
  },
  {
   "cell_type": "markdown",
   "id": "217734ee-551d-4901-999a-015d6768b76e",
   "metadata": {},
   "source": [
    "## KNN Classifier"
   ]
  },
  {
   "cell_type": "code",
   "execution_count": 16,
   "id": "c38a5658-4dbc-4d56-bc42-30898a7c20ee",
   "metadata": {},
   "outputs": [],
   "source": [
    "from sklearn.neighbors import KNeighborsClassifier\n",
    "from sklearn.metrics import f1_score"
   ]
  },
  {
   "cell_type": "code",
   "execution_count": 18,
   "id": "e4903f95-b68f-4831-98ab-fe799d7ec51a",
   "metadata": {},
   "outputs": [
    {
     "name": "stdout",
     "output_type": "stream",
     "text": [
      "[0.8684872310599134, 0.8156316381356992, 0.8578404536122789, 0.8387123967772254, 0.8572402811993031, 0.8383964988269266, 0.8500253292806484]\n"
     ]
    }
   ],
   "source": [
    "fs =[]\n",
    "for i in range(1,8):\n",
    "    knn_model = KNeighborsClassifier(n_neighbors=i) \n",
    "    knn_model.fit(features, y_train)\n",
    "    y_pred = knn_model.predict(x_test_features)\n",
    "    fs.append(f1_score(y_test, y_pred, average='weighted'))\n",
    "print(fs)"
   ]
  },
  {
   "cell_type": "code",
   "execution_count": 54,
   "id": "dc9cda2c-bdc2-4b97-9dd3-6611c7600450",
   "metadata": {},
   "outputs": [
    {
     "data": {
      "text/plain": [
       "0.8572402811993031"
      ]
     },
     "execution_count": 54,
     "metadata": {},
     "output_type": "execute_result"
    }
   ],
   "source": [
    "knn_model = KNeighborsClassifier(n_neighbors=5) \n",
    "knn_model.fit(features, y_train)\n",
    "y_pred = knn_model.predict(x_test_features)\n",
    "f1_score(y_test, y_pred, average='weighted')"
   ]
  },
  {
   "cell_type": "code",
   "execution_count": 55,
   "id": "9d601c99-65e7-42ac-b3a0-7edae414e302",
   "metadata": {},
   "outputs": [],
   "source": [
    "pt = knn_model.kneighbors(features)"
   ]
  },
  {
   "cell_type": "code",
   "execution_count": 62,
   "id": "16f2ec9f-02a4-4864-acb8-4e1e5fa56f69",
   "metadata": {},
   "outputs": [
    {
     "data": {
      "text/plain": [
       "array([[   0,  101, 1857, 1396,  697],\n",
       "       [   1, 1129, 1431,  622,   64],\n",
       "       [   2, 1432, 2360,  589, 2120],\n",
       "       ...,\n",
       "       [2386,  487, 1767,  686, 1619],\n",
       "       [2387, 2076, 1710,  896,  436],\n",
       "       [2388, 1300, 1313,  754,  476]])"
      ]
     },
     "execution_count": 62,
     "metadata": {},
     "output_type": "execute_result"
    }
   ],
   "source": [
    "pt[1]"
   ]
  },
  {
   "cell_type": "code",
   "execution_count": 20,
   "id": "bba7def8-186a-4ce9-9c15-8d3811449e70",
   "metadata": {},
   "outputs": [
    {
     "data": {
      "image/png": "[encoded data removed]",
      "text/plain": [
       "<Figure size 800x600 with 2 Axes>"
      ]
     },
     "metadata": {},
     "output_type": "display_data"
    }
   ],
   "source": [
    "from sklearn.metrics import confusion_matrix\n",
    "import seaborn as sns\n",
    "import matplotlib.pyplot as plt\n",
    "\n",
    "y_test_labels = np.argmax(y_test, axis=1)\n",
    "y_pred_labels = np.argmax(y_pred, axis=1)\n",
    "\n",
    "cm = confusion_matrix(y_test_labels, y_pred_labels)\n",
    "\n",
    "plt.figure(figsize=(8, 6))\n",
    "sns.heatmap(cm, annot=True, fmt='d', cmap='Blues', xticklabels=['Class 0', 'Class 1'], yticklabels=['Class 0', 'Class 1'])\n",
    "plt.xlabel('Predicted Label')\n",
    "plt.ylabel('True Label')\n",
    "plt.title('Confusion Matrix')\n",
    "plt.show()"
   ]
  },
  {
   "cell_type": "code",
   "execution_count": 21,
   "id": "1fef98ee-c83e-4600-94b9-e6c63854df27",
   "metadata": {},
   "outputs": [
    {
     "name": "stdout",
     "output_type": "stream",
     "text": [
      "              precision    recall  f1-score   support\n",
      "\n",
      "     Class 0       0.90      0.98      0.93       896\n",
      "     Class 1       0.56      0.22      0.31       128\n",
      "\n",
      "    accuracy                           0.88      1024\n",
      "   macro avg       0.73      0.60      0.62      1024\n",
      "weighted avg       0.86      0.88      0.86      1024\n",
      "\n"
     ]
    }
   ],
   "source": [
    "from sklearn.metrics import classification_report\n",
    "report = classification_report(y_test_labels, y_pred_labels, target_names=['Class 0', 'Class 1'])\n",
    "print(report)"
   ]
  },
  {
   "cell_type": "markdown",
   "id": "c2d203f1-8d20-4e8c-98ad-7f65e3b79f12",
   "metadata": {},
   "source": [
    "## XGBoost Model"
   ]
  },
  {
   "cell_type": "code",
   "execution_count": 22,
   "id": "2056dc38-fd5b-462b-98ee-d77587cd53e1",
   "metadata": {},
   "outputs": [],
   "source": [
    "import xgboost as xgb\n",
    "\n",
    "y_train_labels = np.argmax(y_train, axis=1)\n",
    "dtrain = xgb.DMatrix(features, label=y_train_labels)\n",
    "dtest = xgb.DMatrix(x_test_features)"
   ]
  },
  {
   "cell_type": "code",
   "execution_count": 23,
   "id": "9a79e725-65ef-4178-af27-02fcdad25f1f",
   "metadata": {},
   "outputs": [
    {
     "name": "stderr",
     "output_type": "stream",
     "text": [
      "/Users/harishneelam/anaconda3/lib/python3.11/site-packages/xgboost/core.py:160: UserWarning: [16:07:02] WARNING: /Users/runner/work/xgboost/xgboost/src/learner.cc:742: \n",
      "Parameters: { \"n_estimators\" } are not used.\n",
      "\n",
      "  warnings.warn(smsg, UserWarning)\n"
     ]
    },
    {
     "name": "stdout",
     "output_type": "stream",
     "text": [
      "              precision    recall  f1-score   support\n",
      "\n",
      "           0       0.88      0.99      0.93       896\n",
      "           1       0.50      0.09      0.15       128\n",
      "\n",
      "    accuracy                           0.88      1024\n",
      "   macro avg       0.69      0.54      0.54      1024\n",
      "weighted avg       0.84      0.88      0.83      1024\n",
      "\n"
     ]
    },
    {
     "data": {
      "text/plain": [
       "0.8343238496663155"
      ]
     },
     "execution_count": 23,
     "metadata": {},
     "output_type": "execute_result"
    }
   ],
   "source": [
    "params = {\n",
    "    'objective': 'binary:logistic',\n",
    "    'eval_metric': 'logloss',\n",
    "    'max_depth': 4,\n",
    "    'learning_rate': 0.05,\n",
    "    'n_estimators': 100,\n",
    "    'subsample': 0.6,\n",
    "    'colsample_bytree': 0.6\n",
    "}\n",
    "\n",
    "model = xgb.train(params, dtrain, num_boost_round=100)\n",
    "\n",
    "y_pred_prob = model.predict(dtest)\n",
    "y_pred = [1 if p > 0.5 else 0 for p in y_pred_prob]\n",
    "print(classification_report(y_test_labels, y_pred))\n",
    "f1_score(y_test_labels, y_pred, average='weighted')"
   ]
  },
  {
   "cell_type": "code",
   "execution_count": 24,
   "id": "4b61555c-deb1-48f8-95bc-1a077c280a37",
   "metadata": {
    "scrolled": true
   },
   "outputs": [
    {
     "data": {
      "image/png": "[encoded data removed]",
      "text/plain": [
       "<Figure size 800x600 with 2 Axes>"
      ]
     },
     "metadata": {},
     "output_type": "display_data"
    }
   ],
   "source": [
    "cm = confusion_matrix(y_test_labels, y_pred)\n",
    "plt.figure(figsize=(8, 6))\n",
    "sns.heatmap(cm, annot=True, fmt='d', cmap='Blues', xticklabels=['Class 0', 'Class 1'], yticklabels=['Class 0', 'Class 1'])\n",
    "plt.xlabel('Predicted Label')\n",
    "plt.ylabel('True Label')\n",
    "plt.title('Confusion Matrix')\n",
    "plt.show()"
   ]
  },
  {
   "cell_type": "markdown",
   "id": "297605ba-e73a-4768-9343-7a3f53de6e80",
   "metadata": {},
   "source": [
    "## 2-Layer FFN"
   ]
  },
  {
   "cell_type": "code",
   "execution_count": 25,
   "id": "7f21df54-a739-4d63-9a51-4b529600b6e9",
   "metadata": {},
   "outputs": [
    {
     "name": "stdout",
     "output_type": "stream",
     "text": [
      "Epoch 1/30\n",
      "120/120 [==============================] - 1s 3ms/step - loss: 0.6704 - accuracy: 0.6452 - val_loss: 0.3486 - val_accuracy: 0.8849\n",
      "Epoch 2/30\n",
      "120/120 [==============================] - 0s 2ms/step - loss: 0.4432 - accuracy: 0.7938 - val_loss: 0.2960 - val_accuracy: 0.8787\n",
      "Epoch 3/30\n",
      "120/120 [==============================] - 0s 2ms/step - loss: 0.3342 - accuracy: 0.8619 - val_loss: 0.2646 - val_accuracy: 0.8870\n",
      "Epoch 4/30\n",
      "120/120 [==============================] - 0s 2ms/step - loss: 0.2906 - accuracy: 0.8760 - val_loss: 0.2628 - val_accuracy: 0.8828\n",
      "Epoch 5/30\n",
      "120/120 [==============================] - 0s 2ms/step - loss: 0.2872 - accuracy: 0.8791 - val_loss: 0.2679 - val_accuracy: 0.8912\n",
      "Epoch 6/30\n",
      "120/120 [==============================] - 0s 2ms/step - loss: 0.2725 - accuracy: 0.8844 - val_loss: 0.2572 - val_accuracy: 0.8912\n",
      "Epoch 7/30\n",
      "120/120 [==============================] - 0s 2ms/step - loss: 0.2641 - accuracy: 0.8864 - val_loss: 0.2569 - val_accuracy: 0.8891\n",
      "Epoch 8/30\n",
      "120/120 [==============================] - 0s 2ms/step - loss: 0.2473 - accuracy: 0.8844 - val_loss: 0.2514 - val_accuracy: 0.9017\n",
      "Epoch 9/30\n",
      "120/120 [==============================] - 0s 2ms/step - loss: 0.2533 - accuracy: 0.8896 - val_loss: 0.2536 - val_accuracy: 0.8975\n",
      "Epoch 10/30\n",
      "120/120 [==============================] - 0s 2ms/step - loss: 0.2368 - accuracy: 0.8922 - val_loss: 0.2649 - val_accuracy: 0.8954\n",
      "Epoch 11/30\n",
      "120/120 [==============================] - 0s 2ms/step - loss: 0.2366 - accuracy: 0.8980 - val_loss: 0.2658 - val_accuracy: 0.8912\n",
      "Epoch 12/30\n",
      "120/120 [==============================] - 0s 2ms/step - loss: 0.2327 - accuracy: 0.8990 - val_loss: 0.2530 - val_accuracy: 0.8996\n",
      "Epoch 13/30\n",
      "120/120 [==============================] - 0s 2ms/step - loss: 0.2246 - accuracy: 0.9016 - val_loss: 0.2705 - val_accuracy: 0.8954\n",
      "Epoch 14/30\n",
      "120/120 [==============================] - 0s 2ms/step - loss: 0.2095 - accuracy: 0.9074 - val_loss: 0.2708 - val_accuracy: 0.8996\n",
      "Epoch 15/30\n",
      "120/120 [==============================] - 0s 2ms/step - loss: 0.2276 - accuracy: 0.9032 - val_loss: 0.2607 - val_accuracy: 0.8996\n",
      "Epoch 16/30\n",
      "120/120 [==============================] - 0s 2ms/step - loss: 0.1970 - accuracy: 0.9121 - val_loss: 0.2898 - val_accuracy: 0.8975\n",
      "Epoch 17/30\n",
      "120/120 [==============================] - 0s 2ms/step - loss: 0.1960 - accuracy: 0.9084 - val_loss: 0.2903 - val_accuracy: 0.8996\n",
      "Epoch 18/30\n",
      "120/120 [==============================] - 0s 2ms/step - loss: 0.1914 - accuracy: 0.9178 - val_loss: 0.2891 - val_accuracy: 0.9038\n",
      "Epoch 19/30\n",
      "120/120 [==============================] - 0s 2ms/step - loss: 0.2007 - accuracy: 0.9100 - val_loss: 0.2926 - val_accuracy: 0.8975\n",
      "Epoch 20/30\n",
      "120/120 [==============================] - 0s 2ms/step - loss: 0.1963 - accuracy: 0.9126 - val_loss: 0.2896 - val_accuracy: 0.9079\n",
      "Epoch 21/30\n",
      "120/120 [==============================] - 0s 2ms/step - loss: 0.1833 - accuracy: 0.9252 - val_loss: 0.2674 - val_accuracy: 0.8954\n",
      "Epoch 22/30\n",
      "120/120 [==============================] - 0s 2ms/step - loss: 0.1779 - accuracy: 0.9252 - val_loss: 0.2825 - val_accuracy: 0.8954\n",
      "Epoch 23/30\n",
      "120/120 [==============================] - 0s 2ms/step - loss: 0.1605 - accuracy: 0.9351 - val_loss: 0.2869 - val_accuracy: 0.8975\n",
      "Epoch 24/30\n",
      "120/120 [==============================] - 0s 2ms/step - loss: 0.1734 - accuracy: 0.9288 - val_loss: 0.3044 - val_accuracy: 0.8975\n",
      "Epoch 25/30\n",
      "120/120 [==============================] - 0s 2ms/step - loss: 0.1710 - accuracy: 0.9309 - val_loss: 0.2911 - val_accuracy: 0.9017\n",
      "Epoch 26/30\n",
      "120/120 [==============================] - 0s 2ms/step - loss: 0.1783 - accuracy: 0.9257 - val_loss: 0.2825 - val_accuracy: 0.8954\n",
      "Epoch 27/30\n",
      "120/120 [==============================] - 0s 2ms/step - loss: 0.1521 - accuracy: 0.9341 - val_loss: 0.3120 - val_accuracy: 0.8996\n",
      "Epoch 28/30\n",
      "120/120 [==============================] - 0s 3ms/step - loss: 0.1784 - accuracy: 0.9273 - val_loss: 0.3280 - val_accuracy: 0.8954\n",
      "Epoch 29/30\n",
      "120/120 [==============================] - 0s 2ms/step - loss: 0.1516 - accuracy: 0.9346 - val_loss: 0.3147 - val_accuracy: 0.8724\n",
      "Epoch 30/30\n",
      "120/120 [==============================] - 0s 2ms/step - loss: 0.1604 - accuracy: 0.9294 - val_loss: 0.3000 - val_accuracy: 0.8828\n",
      "32/32 [==============================] - 0s 1ms/step - loss: 0.3193 - accuracy: 0.8799\n",
      "32/32 [==============================] - 0s 1ms/step\n"
     ]
    },
    {
     "data": {
      "image/png": "[encoded data removed]",
      "text/plain": [
       "<Figure size 800x600 with 2 Axes>"
      ]
     },
     "metadata": {},
     "output_type": "display_data"
    },
    {
     "name": "stdout",
     "output_type": "stream",
     "text": [
      "0.8709508901488201\n"
     ]
    }
   ],
   "source": [
    "from keras import Sequential\n",
    "from keras.layers import Dense, Dropout, BatchNormalization\n",
    "ffnmodel = Sequential()\n",
    "ffnmodel.add(Dense(128, input_dim=features.shape[1], activation='relu')) \n",
    "ffnmodel.add(Dropout(0.5)),\n",
    "ffnmodel.add(BatchNormalization()),\n",
    "ffnmodel.add(Dense(32, activation='relu')) \n",
    "ffnmodel.add(Dropout(0.3)),\n",
    "ffnmodel.add(BatchNormalization()),\n",
    "ffnmodel.add(Dense(y_train.shape[1], activation='softmax')) \n",
    "\n",
    "ffnmodel.compile(loss='categorical_crossentropy', \n",
    "              optimizer='adam',               \n",
    "              metrics=['accuracy'])\n",
    "\n",
    "history = ffnmodel.fit(features, y_train, epochs=30, batch_size=16, verbose=1, validation_split=0.2)\n",
    "\n",
    "scores = ffnmodel.evaluate(x_test_features, y_test)\n",
    "y_pred = ffnmodel.predict(x_test_features)\n",
    "\n",
    "y_test_labels = np.argmax(y_test, axis=1)\n",
    "y_pred_labels = np.argmax(y_pred, axis=1)\n",
    "\n",
    "cm = confusion_matrix(y_test_labels, y_pred_labels)\n",
    "\n",
    "plt.figure(figsize=(8, 6))\n",
    "sns.heatmap(cm, annot=True, fmt='d', cmap='Blues', xticklabels=['Class 0', 'Class 1'], yticklabels=['Class 0', 'Class 1'])\n",
    "plt.xlabel('Predicted Label')\n",
    "plt.ylabel('True Label')\n",
    "plt.title('Confusion Matrix')\n",
    "plt.show()\n",
    "print(f1_score(y_test_labels, y_pred_labels, average='weighted'))"
   ]
  },
  {
   "cell_type": "code",
   "execution_count": 28,
   "id": "6de55a35-ed72-48f5-8952-8d38c1efff64",
   "metadata": {},
   "outputs": [
    {
     "data": {
      "image/png": "[encoded data removed]",
      "text/plain": [
       "<Figure size 800x600 with 2 Axes>"
      ]
     },
     "metadata": {},
     "output_type": "display_data"
    },
    {
     "name": "stdout",
     "output_type": "stream",
     "text": [
      "0.8709508901488201\n"
     ]
    }
   ],
   "source": [
    "y_test_labels = np.argmax(y_test, axis=1)\n",
    "y_pred_labels = np.argmax(y_pred, axis=1)\n",
    "\n",
    "cm = confusion_matrix(y_test_labels, y_pred_labels)\n",
    "\n",
    "plt.figure(figsize=(8, 6))\n",
    "sns.heatmap(cm, annot=True, fmt='d', cmap='Blues', xticklabels=['Class 0', 'Class 1'], yticklabels=['Class 0', 'Class 1'])\n",
    "plt.xlabel('Predicted Label')\n",
    "plt.ylabel('True Label')\n",
    "plt.title('Confusion Matrix')\n",
    "plt.show()\n",
    "print(f1_score(y_test_labels, y_pred_labels, average='weighted'))"
   ]
  },
  {
   "cell_type": "markdown",
   "id": "d4bf45d6-1def-433a-b103-10a7c4ee8791",
   "metadata": {},
   "source": [
    "## Feature Reduction Performance"
   ]
  },
  {
   "cell_type": "code",
   "execution_count": 31,
   "id": "27b75286-ffd4-4052-b304-4b22c4f789da",
   "metadata": {},
   "outputs": [],
   "source": [
    "from sklearn.decomposition import PCA\n",
    "\n",
    "n_components = 1000\n",
    "\n",
    "pca = PCA(n_components=n_components)\n",
    "features_pca = pca.fit_transform(features)\n",
    "x_test_features_pca = pca.fit_transform(x_test_features)"
   ]
  },
  {
   "cell_type": "code",
   "execution_count": 36,
   "id": "1d6bd2d8-fd03-4778-a852-c7c00b557d6e",
   "metadata": {},
   "outputs": [
    {
     "data": {
      "text/plain": [
       "0.8126259523224381"
      ]
     },
     "execution_count": 36,
     "metadata": {},
     "output_type": "execute_result"
    }
   ],
   "source": [
    "knn_model = KNeighborsClassifier(n_neighbors=4) \n",
    "knn_model.fit(features_pca, y_train)\n",
    "y_pred = knn_model.predict(x_test_features_pca)\n",
    "f1_score(y_test, y_pred, average='weighted')"
   ]
  },
  {
   "cell_type": "code",
   "execution_count": 37,
   "id": "16c43f27-bb22-4f1b-9fad-534accfa105b",
   "metadata": {},
   "outputs": [
    {
     "name": "stdout",
     "output_type": "stream",
     "text": [
      "0.8405091692873045\n",
      "0.8040642765450211\n",
      "0.8248133202269475\n",
      "0.8126259523224381\n",
      "0.82377553531873\n",
      "0.8213051743101717\n",
      "0.8254039144859537\n",
      "0.8192005638340717\n",
      "0.8180273327838106\n",
      "0.816515127132282\n",
      "0.8185289163391354\n",
      "0.8179805181763407\n",
      "0.8203327639653317\n",
      "0.8184532821240178\n",
      "0.8180273327838106\n",
      "0.8161189358372457\n",
      "0.8156934306569343\n",
      "0.8156934306569343\n",
      "0.8156934306569343\n"
     ]
    }
   ],
   "source": [
    "for i in range(1,20):\n",
    "    knn_model = KNeighborsClassifier(n_neighbors=i) \n",
    "    knn_model.fit(features_pca, y_train)\n",
    "    y_pred = knn_model.predict(x_test_features_pca)\n",
    "    print(f1_score(y_test, y_pred, average='weighted'))"
   ]
  },
  {
   "cell_type": "code",
   "execution_count": 38,
   "id": "c610c011-2ad9-42f7-a976-41c5e9bf37ea",
   "metadata": {},
   "outputs": [
    {
     "name": "stderr",
     "output_type": "stream",
     "text": [
      "/Users/harishneelam/anaconda3/lib/python3.11/site-packages/xgboost/core.py:160: UserWarning: [16:11:13] WARNING: /Users/runner/work/xgboost/xgboost/src/learner.cc:742: \n",
      "Parameters: { \"n_estimators\" } are not used.\n",
      "\n",
      "  warnings.warn(smsg, UserWarning)\n"
     ]
    },
    {
     "data": {
      "text/plain": [
       "0.8407667913481867"
      ]
     },
     "execution_count": 38,
     "metadata": {},
     "output_type": "execute_result"
    }
   ],
   "source": [
    "import xgboost as xgb\n",
    "\n",
    "y_train_labels = np.argmax(y_train, axis=1)\n",
    "dtrain = xgb.DMatrix(features, label=y_train_labels)\n",
    "dtest = xgb.DMatrix(x_test_features)\n",
    "\n",
    "params = {\n",
    "    'objective': 'binary:logistic',\n",
    "    'eval_metric': 'logloss',\n",
    "    'max_depth': 10,\n",
    "    'learning_rate': 0.1,\n",
    "    'n_estimators': 200,\n",
    "    'subsample': 0.8,\n",
    "    'colsample_bytree': 0.8\n",
    "}\n",
    "\n",
    "model = xgb.train(params, dtrain, num_boost_round=100)\n",
    "\n",
    "y_pred_prob = model.predict(dtest)\n",
    "y_pred = [1 if p > 0.5 else 0 for p in y_pred_prob]\n",
    "\n",
    "f1_score(y_test_labels, y_pred, average='weighted')"
   ]
  },
  {
   "cell_type": "markdown",
   "id": "238333c9-8d94-413f-a09e-bad3288d2ba9",
   "metadata": {},
   "source": [
    "## Hyperparameter Tuning"
   ]
  },
  {
   "cell_type": "code",
   "execution_count": 229,
   "id": "4ff51f1d-01f7-494a-9880-e07ebb77c8b7",
   "metadata": {},
   "outputs": [
    {
     "name": "stdout",
     "output_type": "stream",
     "text": [
      "Best Parameters: {'colsample_bytree': 0.8807787738117816, 'learning_rate': 0.2000518901377601, 'max_depth': 3, 'n_estimators': 151, 'subsample': 0.7039138165593433}\n"
     ]
    }
   ],
   "source": [
    "from sklearn.model_selection import GridSearchCV\n",
    "from sklearn.model_selection import RandomizedSearchCV\n",
    "from sklearn.metrics import make_scorer, f1_score\n",
    "from scipy.stats import randint, uniform\n",
    "\n",
    "param_dist = {\n",
    "    'max_depth': randint(3, 11),\n",
    "    'learning_rate': uniform(0.01, 0.2),\n",
    "    'n_estimators': randint(50, 201),\n",
    "    'subsample': uniform(0.6, 0.4),  \n",
    "    'colsample_bytree': uniform(0.6, 0.4)  \n",
    "}\n",
    "xgb_model = xgb.XGBClassifier(objective='binary:logistic', eval_metric='logloss')\n",
    "f1_scorer = make_scorer(f1_score, average='weighted')\n",
    "random_search = RandomizedSearchCV(xgb_model, param_distributions=param_dist, n_iter=50, scoring=f1_scorer, cv=3)\n",
    "random_search.fit(features, y_train_labels)\n",
    "\n",
    "best_params = random_search.best_params_\n",
    "print(\"Best Parameters:\", best_params)"
   ]
  },
  {
   "cell_type": "code",
   "execution_count": 39,
   "id": "f02d7345-f0de-4b33-9eba-d1ef7003c5d4",
   "metadata": {},
   "outputs": [
    {
     "name": "stderr",
     "output_type": "stream",
     "text": [
      "/Users/harishneelam/anaconda3/lib/python3.11/site-packages/xgboost/core.py:160: UserWarning: [16:12:56] WARNING: /Users/runner/work/xgboost/xgboost/src/learner.cc:742: \n",
      "Parameters: { \"n_estimators\" } are not used.\n",
      "\n",
      "  warnings.warn(smsg, UserWarning)\n"
     ]
    },
    {
     "name": "stdout",
     "output_type": "stream",
     "text": [
      "F1 Score: 0.8528030303030303\n"
     ]
    }
   ],
   "source": [
    "best_params = {'colsample_bytree': 0.8807787738117816, 'learning_rate': 0.2000518901377601, 'max_depth': 3, 'n_estimators': 151, 'subsample': 0.7039138165593433}\n",
    "best_model = xgb.train(best_params, dtrain, num_boost_round=100)\n",
    "\n",
    "y_pred_prob = best_model.predict(dtest)\n",
    "y_pred = [1 if p > 0.5 else 0 for p in y_pred_prob]\n",
    "\n",
    "f1 = f1_score(y_test_labels, y_pred, average='weighted')\n",
    "print(\"F1 Score:\", f1)"
   ]
  },
  {
   "cell_type": "code",
   "execution_count": 43,
   "id": "c3f6449e-26ef-4409-891e-66a97c6bfdbb",
   "metadata": {},
   "outputs": [
    {
     "name": "stdout",
     "output_type": "stream",
     "text": [
      "Epoch 1/30\n",
      "30/30 [==============================] - 0s 3ms/step - loss: 0.8441 - accuracy: 0.5521 - val_loss: 0.3850 - val_accuracy: 0.8326\n",
      "Epoch 2/30\n",
      "30/30 [==============================] - 0s 1ms/step - loss: 0.6126 - accuracy: 0.6960 - val_loss: 0.3901 - val_accuracy: 0.8661\n",
      "Epoch 3/30\n",
      "30/30 [==============================] - 0s 2ms/step - loss: 0.4957 - accuracy: 0.7698 - val_loss: 0.3555 - val_accuracy: 0.8787\n",
      "Epoch 4/30\n",
      "30/30 [==============================] - 0s 1ms/step - loss: 0.4212 - accuracy: 0.8174 - val_loss: 0.3289 - val_accuracy: 0.8828\n",
      "Epoch 5/30\n",
      "30/30 [==============================] - 0s 1ms/step - loss: 0.3541 - accuracy: 0.8603 - val_loss: 0.3008 - val_accuracy: 0.8849\n",
      "Epoch 6/30\n",
      "30/30 [==============================] - 0s 1ms/step - loss: 0.3172 - accuracy: 0.8776 - val_loss: 0.2783 - val_accuracy: 0.8870\n",
      "Epoch 7/30\n",
      "30/30 [==============================] - 0s 1ms/step - loss: 0.2636 - accuracy: 0.9074 - val_loss: 0.2695 - val_accuracy: 0.8933\n",
      "Epoch 8/30\n",
      "30/30 [==============================] - 0s 1ms/step - loss: 0.2375 - accuracy: 0.9163 - val_loss: 0.2682 - val_accuracy: 0.8849\n",
      "Epoch 9/30\n",
      "30/30 [==============================] - 0s 1ms/step - loss: 0.1986 - accuracy: 0.9246 - val_loss: 0.2559 - val_accuracy: 0.9100\n",
      "Epoch 10/30\n",
      "30/30 [==============================] - 0s 1ms/step - loss: 0.1852 - accuracy: 0.9362 - val_loss: 0.2594 - val_accuracy: 0.9038\n",
      "Epoch 11/30\n",
      "30/30 [==============================] - 0s 1ms/step - loss: 0.1761 - accuracy: 0.9351 - val_loss: 0.2640 - val_accuracy: 0.9017\n",
      "Epoch 12/30\n",
      "30/30 [==============================] - 0s 1ms/step - loss: 0.1614 - accuracy: 0.9393 - val_loss: 0.2720 - val_accuracy: 0.8975\n",
      "Epoch 13/30\n",
      "30/30 [==============================] - 0s 1ms/step - loss: 0.1457 - accuracy: 0.9414 - val_loss: 0.2798 - val_accuracy: 0.8996\n",
      "Epoch 14/30\n",
      "30/30 [==============================] - 0s 1ms/step - loss: 0.1353 - accuracy: 0.9545 - val_loss: 0.2971 - val_accuracy: 0.8975\n",
      "Epoch 15/30\n",
      "30/30 [==============================] - 0s 1ms/step - loss: 0.1334 - accuracy: 0.9566 - val_loss: 0.3030 - val_accuracy: 0.8975\n",
      "Epoch 16/30\n",
      "30/30 [==============================] - 0s 1ms/step - loss: 0.1250 - accuracy: 0.9519 - val_loss: 0.3192 - val_accuracy: 0.9017\n",
      "Epoch 17/30\n",
      "30/30 [==============================] - 0s 2ms/step - loss: 0.1017 - accuracy: 0.9644 - val_loss: 0.3303 - val_accuracy: 0.8975\n",
      "Epoch 18/30\n",
      "30/30 [==============================] - 0s 1ms/step - loss: 0.0965 - accuracy: 0.9634 - val_loss: 0.3421 - val_accuracy: 0.8954\n",
      "Epoch 19/30\n",
      "30/30 [==============================] - 0s 1ms/step - loss: 0.0971 - accuracy: 0.9618 - val_loss: 0.3525 - val_accuracy: 0.8975\n",
      "Epoch 20/30\n",
      "30/30 [==============================] - 0s 1ms/step - loss: 0.0926 - accuracy: 0.9655 - val_loss: 0.3625 - val_accuracy: 0.8954\n",
      "Epoch 21/30\n",
      "30/30 [==============================] - 0s 1ms/step - loss: 0.0707 - accuracy: 0.9733 - val_loss: 0.3744 - val_accuracy: 0.8912\n",
      "Epoch 22/30\n",
      "30/30 [==============================] - 0s 1ms/step - loss: 0.0634 - accuracy: 0.9770 - val_loss: 0.3743 - val_accuracy: 0.8954\n",
      "Epoch 23/30\n",
      "30/30 [==============================] - 0s 1ms/step - loss: 0.0644 - accuracy: 0.9775 - val_loss: 0.3990 - val_accuracy: 0.8975\n",
      "Epoch 24/30\n",
      "30/30 [==============================] - 0s 1ms/step - loss: 0.0672 - accuracy: 0.9749 - val_loss: 0.4140 - val_accuracy: 0.8891\n",
      "Epoch 25/30\n",
      "30/30 [==============================] - 0s 1ms/step - loss: 0.0600 - accuracy: 0.9754 - val_loss: 0.4155 - val_accuracy: 0.8912\n",
      "Epoch 26/30\n",
      "30/30 [==============================] - 0s 1ms/step - loss: 0.0553 - accuracy: 0.9806 - val_loss: 0.4252 - val_accuracy: 0.8954\n",
      "Epoch 27/30\n",
      "30/30 [==============================] - 0s 1ms/step - loss: 0.0563 - accuracy: 0.9791 - val_loss: 0.4309 - val_accuracy: 0.8954\n",
      "Epoch 28/30\n",
      "30/30 [==============================] - 0s 1ms/step - loss: 0.0460 - accuracy: 0.9833 - val_loss: 0.4301 - val_accuracy: 0.8912\n",
      "Epoch 29/30\n",
      "30/30 [==============================] - 0s 1ms/step - loss: 0.0467 - accuracy: 0.9838 - val_loss: 0.4499 - val_accuracy: 0.8954\n",
      "Epoch 30/30\n",
      "30/30 [==============================] - 0s 1ms/step - loss: 0.0467 - accuracy: 0.9822 - val_loss: 0.4671 - val_accuracy: 0.8808\n",
      "32/32 [==============================] - 0s 389us/step - loss: 0.5844 - accuracy: 0.8711\n",
      "32/32 [==============================] - 0s 422us/step\n"
     ]
    },
    {
     "data": {
      "image/png": "[encoded data removed]",
      "text/plain": [
       "<Figure size 800x600 with 2 Axes>"
      ]
     },
     "metadata": {},
     "output_type": "display_data"
    },
    {
     "name": "stdout",
     "output_type": "stream",
     "text": [
      "0.8344585091420533\n"
     ]
    }
   ],
   "source": [
    "from keras import Sequential\n",
    "from keras.layers import Dense, Dropout, BatchNormalization\n",
    "model = Sequential()\n",
    "model.add(Dense(128, input_dim=features_pca.shape[1], activation='relu')) \n",
    "model.add(Dropout(0.5)),\n",
    "model.add(BatchNormalization()),\n",
    "model.add(Dense(64, activation='relu')) \n",
    "model.add(Dropout(0.3)),\n",
    "model.add(BatchNormalization()),\n",
    "model.add(Dense(y_train.shape[1], activation='sigmoid')) \n",
    "\n",
    "model.compile(loss='categorical_crossentropy', \n",
    "              optimizer='adam',               \n",
    "              metrics=['accuracy'])\n",
    "\n",
    "history = model.fit(features_pca, y_train, epochs=30, batch_size=64, verbose=1, validation_split=0.2)\n",
    "\n",
    "scores = model.evaluate(x_test_features_pca, y_test)\n",
    "y_pred = model.predict(x_test_features_pca)\n",
    "\n",
    "y_test_labels = np.argmax(y_test, axis=1)\n",
    "y_pred_labels = np.argmax(y_pred, axis=1)\n",
    "\n",
    "cm = confusion_matrix(y_test_labels, y_pred_labels)\n",
    "\n",
    "plt.figure(figsize=(8, 6))\n",
    "sns.heatmap(cm, annot=True, fmt='d', cmap='Blues', xticklabels=['Class 0', 'Class 1'], yticklabels=['Class 0', 'Class 1'])\n",
    "plt.xlabel('Predicted Label')\n",
    "plt.ylabel('True Label')\n",
    "plt.title('Confusion Matrix')\n",
    "plt.show()\n",
    "print(f1_score(y_test_labels, y_pred_labels, average='weighted'))"
   ]
  }
 ],
 "metadata": {
  "kernelspec": {
   "display_name": "Python 3 (ipykernel)",
   "language": "python",
   "name": "python3"
  },
  "language_info": {
   "codemirror_mode": {
    "name": "ipython",
    "version": 3
   },
   "file_extension": ".py",
   "mimetype": "text/x-python",
   "name": "python",
   "nbconvert_exporter": "python",
   "pygments_lexer": "ipython3",
   "version": "3.11.5"
  }
 },
 "nbformat": 4,
 "nbformat_minor": 5
}
