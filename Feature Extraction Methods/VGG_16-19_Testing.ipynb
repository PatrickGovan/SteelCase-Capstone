{
 "cells": [
  {
   "cell_type": "markdown",
   "id": "da23b5f2",
   "metadata": {},
   "source": [
    "## Image Imports"
   ]
  },
  {
   "cell_type": "code",
   "execution_count": null,
   "id": "b6da04b8",
   "metadata": {},
   "outputs": [],
   "source": [
    "import pandas as pd\n",
    "import numpy as np\n",
    "import seaborn as sns\n",
    "import matplotlib.pyplot as plt\n",
    "from PIL import Image\n",
    "import os\n",
    "import pickle"
   ]
  },
  {
   "cell_type": "markdown",
   "id": "9e0d5b42",
   "metadata": {},
   "source": [
    "# Read in Data"
   ]
  },
  {
   "cell_type": "code",
   "execution_count": 13,
   "id": "1e3eebb0",
   "metadata": {},
   "outputs": [],
   "source": [
    "data = pd.read_csv(\"labelled_floorplan_dataset_updated.csv\")"
   ]
  },
  {
   "cell_type": "code",
   "execution_count": 14,
   "id": "5c453936",
   "metadata": {
    "scrolled": false
   },
   "outputs": [
    {
     "data": {
      "text/html": [
       "<div>\n",
       "<style scoped>\n",
       "    .dataframe tbody tr th:only-of-type {\n",
       "        vertical-align: middle;\n",
       "    }\n",
       "\n",
       "    .dataframe tbody tr th {\n",
       "        vertical-align: top;\n",
       "    }\n",
       "\n",
       "    .dataframe thead th {\n",
       "        text-align: right;\n",
       "    }\n",
       "</style>\n",
       "<table border=\"1\" class=\"dataframe\">\n",
       "  <thead>\n",
       "    <tr style=\"text-align: right;\">\n",
       "      <th></th>\n",
       "      <th>key</th>\n",
       "      <th>label</th>\n",
       "    </tr>\n",
       "  </thead>\n",
       "  <tbody>\n",
       "    <tr>\n",
       "      <th>0</th>\n",
       "      <td>006a2d3bb2b7435fb6d96e7f320efe42</td>\n",
       "      <td>-1.0</td>\n",
       "    </tr>\n",
       "    <tr>\n",
       "      <th>1</th>\n",
       "      <td>00e22bea176c4792a53d5132364ecd52</td>\n",
       "      <td>1.0</td>\n",
       "    </tr>\n",
       "    <tr>\n",
       "      <th>2</th>\n",
       "      <td>01bd5ab8fa0c4a7ab183f9f30f8c9a3a</td>\n",
       "      <td>-1.0</td>\n",
       "    </tr>\n",
       "    <tr>\n",
       "      <th>3</th>\n",
       "      <td>01c1ac1113dc4770a2690dc9e7218859</td>\n",
       "      <td>-1.0</td>\n",
       "    </tr>\n",
       "    <tr>\n",
       "      <th>4</th>\n",
       "      <td>034515138be34df3a780bb878eda204d</td>\n",
       "      <td>1.0</td>\n",
       "    </tr>\n",
       "    <tr>\n",
       "      <th>...</th>\n",
       "      <td>...</td>\n",
       "      <td>...</td>\n",
       "    </tr>\n",
       "    <tr>\n",
       "      <th>3408</th>\n",
       "      <td>0c5ebff3c81849faa7116d1379a6f975</td>\n",
       "      <td>-1.0</td>\n",
       "    </tr>\n",
       "    <tr>\n",
       "      <th>3409</th>\n",
       "      <td>0c63ab679de6427cbdbb05f1ba841204</td>\n",
       "      <td>-1.0</td>\n",
       "    </tr>\n",
       "    <tr>\n",
       "      <th>3410</th>\n",
       "      <td>0c655ec5de1845ee9981d156a46a827b</td>\n",
       "      <td>-1.0</td>\n",
       "    </tr>\n",
       "    <tr>\n",
       "      <th>3411</th>\n",
       "      <td>0c65e370201249aab3a237a30b96aad8</td>\n",
       "      <td>-1.0</td>\n",
       "    </tr>\n",
       "    <tr>\n",
       "      <th>3412</th>\n",
       "      <td>0c6793a4728a41e88bc1676bc08a0489</td>\n",
       "      <td>-1.0</td>\n",
       "    </tr>\n",
       "  </tbody>\n",
       "</table>\n",
       "<p>3413 rows × 2 columns</p>\n",
       "</div>"
      ],
      "text/plain": [
       "                                   key  label\n",
       "0     006a2d3bb2b7435fb6d96e7f320efe42   -1.0\n",
       "1     00e22bea176c4792a53d5132364ecd52    1.0\n",
       "2     01bd5ab8fa0c4a7ab183f9f30f8c9a3a   -1.0\n",
       "3     01c1ac1113dc4770a2690dc9e7218859   -1.0\n",
       "4     034515138be34df3a780bb878eda204d    1.0\n",
       "...                                ...    ...\n",
       "3408  0c5ebff3c81849faa7116d1379a6f975   -1.0\n",
       "3409  0c63ab679de6427cbdbb05f1ba841204   -1.0\n",
       "3410  0c655ec5de1845ee9981d156a46a827b   -1.0\n",
       "3411  0c65e370201249aab3a237a30b96aad8   -1.0\n",
       "3412  0c6793a4728a41e88bc1676bc08a0489   -1.0\n",
       "\n",
       "[3413 rows x 2 columns]"
      ]
     },
     "execution_count": 14,
     "metadata": {},
     "output_type": "execute_result"
    }
   ],
   "source": [
    "data"
   ]
  },
  {
   "cell_type": "markdown",
   "id": "edacc564",
   "metadata": {},
   "source": [
    "# Update Data with Path"
   ]
  },
  {
   "cell_type": "code",
   "execution_count": 15,
   "id": "241afa31",
   "metadata": {},
   "outputs": [],
   "source": [
    "def image_path(key):\n",
    "    return f\"Total_Images/{key}/{key}_Top.png\"\n",
    "\n",
    "data['image_path'] = data['key'].apply(image_path)"
   ]
  },
  {
   "cell_type": "code",
   "execution_count": 16,
   "id": "00a20734",
   "metadata": {
    "scrolled": true
   },
   "outputs": [
    {
     "data": {
      "text/html": [
       "<div>\n",
       "<style scoped>\n",
       "    .dataframe tbody tr th:only-of-type {\n",
       "        vertical-align: middle;\n",
       "    }\n",
       "\n",
       "    .dataframe tbody tr th {\n",
       "        vertical-align: top;\n",
       "    }\n",
       "\n",
       "    .dataframe thead th {\n",
       "        text-align: right;\n",
       "    }\n",
       "</style>\n",
       "<table border=\"1\" class=\"dataframe\">\n",
       "  <thead>\n",
       "    <tr style=\"text-align: right;\">\n",
       "      <th></th>\n",
       "      <th>key</th>\n",
       "      <th>label</th>\n",
       "      <th>image_path</th>\n",
       "    </tr>\n",
       "  </thead>\n",
       "  <tbody>\n",
       "    <tr>\n",
       "      <th>0</th>\n",
       "      <td>006a2d3bb2b7435fb6d96e7f320efe42</td>\n",
       "      <td>-1.0</td>\n",
       "      <td>Total_Images/006a2d3bb2b7435fb6d96e7f320efe42/...</td>\n",
       "    </tr>\n",
       "    <tr>\n",
       "      <th>1</th>\n",
       "      <td>00e22bea176c4792a53d5132364ecd52</td>\n",
       "      <td>1.0</td>\n",
       "      <td>Total_Images/00e22bea176c4792a53d5132364ecd52/...</td>\n",
       "    </tr>\n",
       "    <tr>\n",
       "      <th>2</th>\n",
       "      <td>01bd5ab8fa0c4a7ab183f9f30f8c9a3a</td>\n",
       "      <td>-1.0</td>\n",
       "      <td>Total_Images/01bd5ab8fa0c4a7ab183f9f30f8c9a3a/...</td>\n",
       "    </tr>\n",
       "    <tr>\n",
       "      <th>3</th>\n",
       "      <td>01c1ac1113dc4770a2690dc9e7218859</td>\n",
       "      <td>-1.0</td>\n",
       "      <td>Total_Images/01c1ac1113dc4770a2690dc9e7218859/...</td>\n",
       "    </tr>\n",
       "    <tr>\n",
       "      <th>4</th>\n",
       "      <td>034515138be34df3a780bb878eda204d</td>\n",
       "      <td>1.0</td>\n",
       "      <td>Total_Images/034515138be34df3a780bb878eda204d/...</td>\n",
       "    </tr>\n",
       "    <tr>\n",
       "      <th>...</th>\n",
       "      <td>...</td>\n",
       "      <td>...</td>\n",
       "      <td>...</td>\n",
       "    </tr>\n",
       "    <tr>\n",
       "      <th>3408</th>\n",
       "      <td>0c5ebff3c81849faa7116d1379a6f975</td>\n",
       "      <td>-1.0</td>\n",
       "      <td>Total_Images/0c5ebff3c81849faa7116d1379a6f975/...</td>\n",
       "    </tr>\n",
       "    <tr>\n",
       "      <th>3409</th>\n",
       "      <td>0c63ab679de6427cbdbb05f1ba841204</td>\n",
       "      <td>-1.0</td>\n",
       "      <td>Total_Images/0c63ab679de6427cbdbb05f1ba841204/...</td>\n",
       "    </tr>\n",
       "    <tr>\n",
       "      <th>3410</th>\n",
       "      <td>0c655ec5de1845ee9981d156a46a827b</td>\n",
       "      <td>-1.0</td>\n",
       "      <td>Total_Images/0c655ec5de1845ee9981d156a46a827b/...</td>\n",
       "    </tr>\n",
       "    <tr>\n",
       "      <th>3411</th>\n",
       "      <td>0c65e370201249aab3a237a30b96aad8</td>\n",
       "      <td>-1.0</td>\n",
       "      <td>Total_Images/0c65e370201249aab3a237a30b96aad8/...</td>\n",
       "    </tr>\n",
       "    <tr>\n",
       "      <th>3412</th>\n",
       "      <td>0c6793a4728a41e88bc1676bc08a0489</td>\n",
       "      <td>-1.0</td>\n",
       "      <td>Total_Images/0c6793a4728a41e88bc1676bc08a0489/...</td>\n",
       "    </tr>\n",
       "  </tbody>\n",
       "</table>\n",
       "<p>3413 rows × 3 columns</p>\n",
       "</div>"
      ],
      "text/plain": [
       "                                   key  label  \\\n",
       "0     006a2d3bb2b7435fb6d96e7f320efe42   -1.0   \n",
       "1     00e22bea176c4792a53d5132364ecd52    1.0   \n",
       "2     01bd5ab8fa0c4a7ab183f9f30f8c9a3a   -1.0   \n",
       "3     01c1ac1113dc4770a2690dc9e7218859   -1.0   \n",
       "4     034515138be34df3a780bb878eda204d    1.0   \n",
       "...                                ...    ...   \n",
       "3408  0c5ebff3c81849faa7116d1379a6f975   -1.0   \n",
       "3409  0c63ab679de6427cbdbb05f1ba841204   -1.0   \n",
       "3410  0c655ec5de1845ee9981d156a46a827b   -1.0   \n",
       "3411  0c65e370201249aab3a237a30b96aad8   -1.0   \n",
       "3412  0c6793a4728a41e88bc1676bc08a0489   -1.0   \n",
       "\n",
       "                                             image_path  \n",
       "0     Total_Images/006a2d3bb2b7435fb6d96e7f320efe42/...  \n",
       "1     Total_Images/00e22bea176c4792a53d5132364ecd52/...  \n",
       "2     Total_Images/01bd5ab8fa0c4a7ab183f9f30f8c9a3a/...  \n",
       "3     Total_Images/01c1ac1113dc4770a2690dc9e7218859/...  \n",
       "4     Total_Images/034515138be34df3a780bb878eda204d/...  \n",
       "...                                                 ...  \n",
       "3408  Total_Images/0c5ebff3c81849faa7116d1379a6f975/...  \n",
       "3409  Total_Images/0c63ab679de6427cbdbb05f1ba841204/...  \n",
       "3410  Total_Images/0c655ec5de1845ee9981d156a46a827b/...  \n",
       "3411  Total_Images/0c65e370201249aab3a237a30b96aad8/...  \n",
       "3412  Total_Images/0c6793a4728a41e88bc1676bc08a0489/...  \n",
       "\n",
       "[3413 rows x 3 columns]"
      ]
     },
     "execution_count": 16,
     "metadata": {},
     "output_type": "execute_result"
    }
   ],
   "source": [
    "data"
   ]
  },
  {
   "cell_type": "code",
   "execution_count": null,
   "id": "dc02f408",
   "metadata": {},
   "outputs": [],
   "source": [
    "#data.to_csv(r'D:\\School\\Steelcase Capstone\\floorplan_dataset.csv')"
   ]
  },
  {
   "cell_type": "markdown",
   "id": "8d61e8bd",
   "metadata": {},
   "source": [
    "# Preprocess Data for Embedding"
   ]
  },
  {
   "cell_type": "code",
   "execution_count": 17,
   "id": "23c55094",
   "metadata": {},
   "outputs": [],
   "source": [
    "data['image'] = data['image_path'].map(lambda x: np.asarray(Image.open(x).resize((224,224)).convert('RGB'))) #.convert('L') for greyscale #.convert('RGB') for Color"
   ]
  },
  {
   "cell_type": "code",
   "execution_count": 18,
   "id": "3d5a6f1d",
   "metadata": {},
   "outputs": [],
   "source": [
    "data['image'] = [arr.astype(np.int16) for arr in data['image']]  #int16  #int8"
   ]
  },
  {
   "cell_type": "code",
   "execution_count": 19,
   "id": "8039127d",
   "metadata": {},
   "outputs": [
    {
     "data": {
      "text/html": [
       "<div>\n",
       "<style scoped>\n",
       "    .dataframe tbody tr th:only-of-type {\n",
       "        vertical-align: middle;\n",
       "    }\n",
       "\n",
       "    .dataframe tbody tr th {\n",
       "        vertical-align: top;\n",
       "    }\n",
       "\n",
       "    .dataframe thead th {\n",
       "        text-align: right;\n",
       "    }\n",
       "</style>\n",
       "<table border=\"1\" class=\"dataframe\">\n",
       "  <thead>\n",
       "    <tr style=\"text-align: right;\">\n",
       "      <th></th>\n",
       "      <th>key</th>\n",
       "      <th>label</th>\n",
       "      <th>image_path</th>\n",
       "      <th>image</th>\n",
       "    </tr>\n",
       "  </thead>\n",
       "  <tbody>\n",
       "    <tr>\n",
       "      <th>0</th>\n",
       "      <td>006a2d3bb2b7435fb6d96e7f320efe42</td>\n",
       "      <td>-1.0</td>\n",
       "      <td>Total_Images/006a2d3bb2b7435fb6d96e7f320efe42/...</td>\n",
       "      <td>[[[128, 128, 128], [128, 128, 128], [128, 128,...</td>\n",
       "    </tr>\n",
       "    <tr>\n",
       "      <th>1</th>\n",
       "      <td>00e22bea176c4792a53d5132364ecd52</td>\n",
       "      <td>1.0</td>\n",
       "      <td>Total_Images/00e22bea176c4792a53d5132364ecd52/...</td>\n",
       "      <td>[[[128, 128, 128], [128, 128, 128], [128, 128,...</td>\n",
       "    </tr>\n",
       "    <tr>\n",
       "      <th>2</th>\n",
       "      <td>01bd5ab8fa0c4a7ab183f9f30f8c9a3a</td>\n",
       "      <td>-1.0</td>\n",
       "      <td>Total_Images/01bd5ab8fa0c4a7ab183f9f30f8c9a3a/...</td>\n",
       "      <td>[[[128, 128, 128], [128, 128, 128], [128, 128,...</td>\n",
       "    </tr>\n",
       "    <tr>\n",
       "      <th>3</th>\n",
       "      <td>01c1ac1113dc4770a2690dc9e7218859</td>\n",
       "      <td>-1.0</td>\n",
       "      <td>Total_Images/01c1ac1113dc4770a2690dc9e7218859/...</td>\n",
       "      <td>[[[128, 128, 128], [128, 128, 128], [128, 128,...</td>\n",
       "    </tr>\n",
       "    <tr>\n",
       "      <th>4</th>\n",
       "      <td>034515138be34df3a780bb878eda204d</td>\n",
       "      <td>1.0</td>\n",
       "      <td>Total_Images/034515138be34df3a780bb878eda204d/...</td>\n",
       "      <td>[[[128, 128, 128], [128, 128, 128], [128, 128,...</td>\n",
       "    </tr>\n",
       "    <tr>\n",
       "      <th>...</th>\n",
       "      <td>...</td>\n",
       "      <td>...</td>\n",
       "      <td>...</td>\n",
       "      <td>...</td>\n",
       "    </tr>\n",
       "    <tr>\n",
       "      <th>3408</th>\n",
       "      <td>0c5ebff3c81849faa7116d1379a6f975</td>\n",
       "      <td>-1.0</td>\n",
       "      <td>Total_Images/0c5ebff3c81849faa7116d1379a6f975/...</td>\n",
       "      <td>[[[128, 128, 128], [128, 128, 128], [128, 128,...</td>\n",
       "    </tr>\n",
       "    <tr>\n",
       "      <th>3409</th>\n",
       "      <td>0c63ab679de6427cbdbb05f1ba841204</td>\n",
       "      <td>-1.0</td>\n",
       "      <td>Total_Images/0c63ab679de6427cbdbb05f1ba841204/...</td>\n",
       "      <td>[[[128, 128, 128], [128, 128, 128], [128, 128,...</td>\n",
       "    </tr>\n",
       "    <tr>\n",
       "      <th>3410</th>\n",
       "      <td>0c655ec5de1845ee9981d156a46a827b</td>\n",
       "      <td>-1.0</td>\n",
       "      <td>Total_Images/0c655ec5de1845ee9981d156a46a827b/...</td>\n",
       "      <td>[[[128, 128, 128], [128, 128, 128], [128, 128,...</td>\n",
       "    </tr>\n",
       "    <tr>\n",
       "      <th>3411</th>\n",
       "      <td>0c65e370201249aab3a237a30b96aad8</td>\n",
       "      <td>-1.0</td>\n",
       "      <td>Total_Images/0c65e370201249aab3a237a30b96aad8/...</td>\n",
       "      <td>[[[128, 128, 128], [128, 128, 128], [128, 128,...</td>\n",
       "    </tr>\n",
       "    <tr>\n",
       "      <th>3412</th>\n",
       "      <td>0c6793a4728a41e88bc1676bc08a0489</td>\n",
       "      <td>-1.0</td>\n",
       "      <td>Total_Images/0c6793a4728a41e88bc1676bc08a0489/...</td>\n",
       "      <td>[[[128, 128, 128], [128, 128, 128], [128, 128,...</td>\n",
       "    </tr>\n",
       "  </tbody>\n",
       "</table>\n",
       "<p>3413 rows × 4 columns</p>\n",
       "</div>"
      ],
      "text/plain": [
       "                                   key  label  \\\n",
       "0     006a2d3bb2b7435fb6d96e7f320efe42   -1.0   \n",
       "1     00e22bea176c4792a53d5132364ecd52    1.0   \n",
       "2     01bd5ab8fa0c4a7ab183f9f30f8c9a3a   -1.0   \n",
       "3     01c1ac1113dc4770a2690dc9e7218859   -1.0   \n",
       "4     034515138be34df3a780bb878eda204d    1.0   \n",
       "...                                ...    ...   \n",
       "3408  0c5ebff3c81849faa7116d1379a6f975   -1.0   \n",
       "3409  0c63ab679de6427cbdbb05f1ba841204   -1.0   \n",
       "3410  0c655ec5de1845ee9981d156a46a827b   -1.0   \n",
       "3411  0c65e370201249aab3a237a30b96aad8   -1.0   \n",
       "3412  0c6793a4728a41e88bc1676bc08a0489   -1.0   \n",
       "\n",
       "                                             image_path  \\\n",
       "0     Total_Images/006a2d3bb2b7435fb6d96e7f320efe42/...   \n",
       "1     Total_Images/00e22bea176c4792a53d5132364ecd52/...   \n",
       "2     Total_Images/01bd5ab8fa0c4a7ab183f9f30f8c9a3a/...   \n",
       "3     Total_Images/01c1ac1113dc4770a2690dc9e7218859/...   \n",
       "4     Total_Images/034515138be34df3a780bb878eda204d/...   \n",
       "...                                                 ...   \n",
       "3408  Total_Images/0c5ebff3c81849faa7116d1379a6f975/...   \n",
       "3409  Total_Images/0c63ab679de6427cbdbb05f1ba841204/...   \n",
       "3410  Total_Images/0c655ec5de1845ee9981d156a46a827b/...   \n",
       "3411  Total_Images/0c65e370201249aab3a237a30b96aad8/...   \n",
       "3412  Total_Images/0c6793a4728a41e88bc1676bc08a0489/...   \n",
       "\n",
       "                                                  image  \n",
       "0     [[[128, 128, 128], [128, 128, 128], [128, 128,...  \n",
       "1     [[[128, 128, 128], [128, 128, 128], [128, 128,...  \n",
       "2     [[[128, 128, 128], [128, 128, 128], [128, 128,...  \n",
       "3     [[[128, 128, 128], [128, 128, 128], [128, 128,...  \n",
       "4     [[[128, 128, 128], [128, 128, 128], [128, 128,...  \n",
       "...                                                 ...  \n",
       "3408  [[[128, 128, 128], [128, 128, 128], [128, 128,...  \n",
       "3409  [[[128, 128, 128], [128, 128, 128], [128, 128,...  \n",
       "3410  [[[128, 128, 128], [128, 128, 128], [128, 128,...  \n",
       "3411  [[[128, 128, 128], [128, 128, 128], [128, 128,...  \n",
       "3412  [[[128, 128, 128], [128, 128, 128], [128, 128,...  \n",
       "\n",
       "[3413 rows x 4 columns]"
      ]
     },
     "execution_count": 19,
     "metadata": {},
     "output_type": "execute_result"
    }
   ],
   "source": [
    "data"
   ]
  },
  {
   "cell_type": "code",
   "execution_count": 20,
   "id": "6a4d9a4f",
   "metadata": {},
   "outputs": [],
   "source": [
    "#data.to_csv(r'D:\\School\\Steelcase Capstone\\floorplan_dataset_renewed.csv')"
   ]
  },
  {
   "cell_type": "code",
   "execution_count": null,
   "id": "bf7e4df5",
   "metadata": {},
   "outputs": [],
   "source": [
    "plt.imshow(data.image[3024])"
   ]
  },
  {
   "cell_type": "markdown",
   "id": "d2d8b008",
   "metadata": {},
   "source": [
    "## VGG Imports"
   ]
  },
  {
   "cell_type": "code",
   "execution_count": null,
   "id": "ee48eb2b",
   "metadata": {},
   "outputs": [],
   "source": [
    "from keras.applications.vgg19 import VGG19, preprocess_input\n",
    "from keras.preprocessing import image\n",
    "from keras.models import Model\n",
    "from tqdm import tqdm"
   ]
  },
  {
   "cell_type": "markdown",
   "id": "3ad6e9eb",
   "metadata": {},
   "source": [
    "## List of extraction points:\n",
    "* block1_conv1\n",
    "* block1_conv2\n",
    "* block1_pool\n",
    "* block2_conv1\n",
    "* block2_conv2\n",
    "* block2_pool\n",
    "* block3_conv1\n",
    "* block3_conv2\n",
    "* block3_conv3\n",
    "* block3_conv4\n",
    "* block3_pool\n",
    "* block4_conv1\n",
    "* block4_conv2\n",
    "* block4_conv3\n",
    "* block4_conv4\n",
    "* block4_pool\n",
    "* block5_conv1\n",
    "* block5_conv2\n",
    "* block5_conv3\n",
    "* block5_conv4\n",
    "* block5_pool"
   ]
  },
  {
   "cell_type": "markdown",
   "id": "b9befccd",
   "metadata": {},
   "source": [
    "## Load the VGG-19 model pre-trained on ImageNet data, excluding the top classification layer and choose the layer to get the embeddings"
   ]
  },
  {
   "cell_type": "code",
   "execution_count": 21,
   "id": "1a22dbdd",
   "metadata": {},
   "outputs": [],
   "source": [
    "base_model = VGG19(weights='imagenet', include_top=False)\n",
    "model = Model(inputs=base_model.input, outputs=base_model.get_layer('block5_pool').output)"
   ]
  },
  {
   "cell_type": "markdown",
   "id": "34a5c2bf",
   "metadata": {},
   "source": [
    "## Functions to preprocess the image and return the embedding as well as to process a list of images"
   ]
  },
  {
   "cell_type": "code",
   "execution_count": 22,
   "id": "3002b152",
   "metadata": {},
   "outputs": [],
   "source": [
    "def get_embedding(model, pil_img):\n",
    "    if pil_img.size != (224, 224):\n",
    "        pil_img = pil_img.resize((224, 224))#, Image.ANTIALIAS)\n",
    "    img_data = np.array(pil_img)\n",
    "    img_data = preprocess_input(img_data)\n",
    "\n",
    "    embedding_vector = model.predict(np.expand_dims(img_data, axis=0))\n",
    "\n",
    "    embedding_vector_flatten = embedding_vector.flatten()\n",
    "    return embedding_vector_flatten\n",
    "\n",
    "def process_images(image_list, model, batch_size=32):\n",
    "    embeddings = []\n",
    "    \n",
    "    for i in tqdm(range(0, len(image_list), batch_size)):\n",
    "        batch = image_list[i:i+batch_size]\n",
    "        batch_images = [np.array(img) for img in batch]\n",
    "        batch_images = np.array(batch_images)\n",
    "        batch_images = preprocess_input(batch_images)\n",
    "        \n",
    "        batch_embeddings = model.predict(batch_images)\n",
    "    \n",
    "        for embedding in batch_embeddings:\n",
    "            embeddings.append(embedding.flatten())\n",
    "    \n",
    "    return embeddings"
   ]
  },
  {
   "cell_type": "code",
   "execution_count": 12,
   "id": "e8b9910c",
   "metadata": {
    "collapsed": true
   },
   "outputs": [
    {
     "name": "stderr",
     "output_type": "stream",
     "text": [
      "  0%|                                                                                          | 0/107 [00:00<?, ?it/s]\n"
     ]
    },
    {
     "ename": "ValueError",
     "evalue": "could not convert string to float: '[[[128 128 128]\\n  [128 128 128]\\n  [128 128 128]\\n  ...\\n  [128 128 128]\\n  [128 128 128]\\n  [128 128 128]]\\n\\n [[128 128 128]\\n  [128 128 128]\\n  [128 128 128]\\n  ...\\n  [128 128 128]\\n  [128 128 128]\\n  [128 128 128]]\\n\\n [[128 128 128]\\n  [128 128 128]\\n  [128 128 128]\\n  ...\\n  [128 128 128]\\n  [128 128 128]\\n  [128 128 128]]\\n\\n ...\\n\\n [[128 128 128]\\n  [128 128 128]\\n  [128 128 128]\\n  ...\\n  [128 128 128]\\n  [128 128 128]\\n  [128 128 128]]\\n\\n [[128 128 128]\\n  [128 128 128]\\n  [128 128 128]\\n  ...\\n  [128 128 128]\\n  [128 128 128]\\n  [128 128 128]]\\n\\n [[128 128 128]\\n  [128 128 128]\\n  [128 128 128]\\n  ...\\n  [128 128 128]\\n  [128 128 128]\\n  [128 128 128]]]'",
     "output_type": "error",
     "traceback": [
      "\u001b[1;31m---------------------------------------------------------------------------\u001b[0m",
      "\u001b[1;31mValueError\u001b[0m                                Traceback (most recent call last)",
      "Cell \u001b[1;32mIn[12], line 1\u001b[0m\n\u001b[1;32m----> 1\u001b[0m embeddings \u001b[38;5;241m=\u001b[39m process_images(data\u001b[38;5;241m.\u001b[39mimage, model, batch_size\u001b[38;5;241m=\u001b[39m\u001b[38;5;241m32\u001b[39m)\n",
      "Cell \u001b[1;32mIn[7], line 19\u001b[0m, in \u001b[0;36mprocess_images\u001b[1;34m(image_list, model, batch_size)\u001b[0m\n\u001b[0;32m     17\u001b[0m batch_images \u001b[38;5;241m=\u001b[39m [np\u001b[38;5;241m.\u001b[39marray(img) \u001b[38;5;28;01mfor\u001b[39;00m img \u001b[38;5;129;01min\u001b[39;00m batch]\n\u001b[0;32m     18\u001b[0m batch_images \u001b[38;5;241m=\u001b[39m np\u001b[38;5;241m.\u001b[39marray(batch_images)\n\u001b[1;32m---> 19\u001b[0m batch_images \u001b[38;5;241m=\u001b[39m preprocess_input(batch_images)\n\u001b[0;32m     21\u001b[0m batch_embeddings \u001b[38;5;241m=\u001b[39m model\u001b[38;5;241m.\u001b[39mpredict(batch_images)\n\u001b[0;32m     23\u001b[0m \u001b[38;5;28;01mfor\u001b[39;00m embedding \u001b[38;5;129;01min\u001b[39;00m batch_embeddings:\n",
      "File \u001b[1;32m~\\AppData\\Roaming\\Python\\Python311\\site-packages\\keras\\src\\applications\\vgg19.py:265\u001b[0m, in \u001b[0;36mpreprocess_input\u001b[1;34m(x, data_format)\u001b[0m\n\u001b[0;32m    263\u001b[0m \u001b[38;5;129m@keras_export\u001b[39m(\u001b[38;5;124m\"\u001b[39m\u001b[38;5;124mkeras.applications.vgg19.preprocess_input\u001b[39m\u001b[38;5;124m\"\u001b[39m)\n\u001b[0;32m    264\u001b[0m \u001b[38;5;28;01mdef\u001b[39;00m \u001b[38;5;21mpreprocess_input\u001b[39m(x, data_format\u001b[38;5;241m=\u001b[39m\u001b[38;5;28;01mNone\u001b[39;00m):\n\u001b[1;32m--> 265\u001b[0m     \u001b[38;5;28;01mreturn\u001b[39;00m imagenet_utils\u001b[38;5;241m.\u001b[39mpreprocess_input(\n\u001b[0;32m    266\u001b[0m         x, data_format\u001b[38;5;241m=\u001b[39mdata_format, mode\u001b[38;5;241m=\u001b[39m\u001b[38;5;124m\"\u001b[39m\u001b[38;5;124mcaffe\u001b[39m\u001b[38;5;124m\"\u001b[39m\n\u001b[0;32m    267\u001b[0m     )\n",
      "File \u001b[1;32m~\\AppData\\Roaming\\Python\\Python311\\site-packages\\keras\\src\\applications\\imagenet_utils.py:122\u001b[0m, in \u001b[0;36mpreprocess_input\u001b[1;34m(x, data_format, mode)\u001b[0m\n\u001b[0;32m    116\u001b[0m     \u001b[38;5;28;01mraise\u001b[39;00m \u001b[38;5;167;01mValueError\u001b[39;00m(\n\u001b[0;32m    117\u001b[0m         \u001b[38;5;124m\"\u001b[39m\u001b[38;5;124mExpected data_format to be one of `channels_first` or \u001b[39m\u001b[38;5;124m\"\u001b[39m\n\u001b[0;32m    118\u001b[0m         \u001b[38;5;124mf\u001b[39m\u001b[38;5;124m\"\u001b[39m\u001b[38;5;124m`channels_last`. Received: data_format=\u001b[39m\u001b[38;5;132;01m{\u001b[39;00mdata_format\u001b[38;5;132;01m}\u001b[39;00m\u001b[38;5;124m\"\u001b[39m\n\u001b[0;32m    119\u001b[0m     )\n\u001b[0;32m    121\u001b[0m \u001b[38;5;28;01mif\u001b[39;00m \u001b[38;5;28misinstance\u001b[39m(x, np\u001b[38;5;241m.\u001b[39mndarray):\n\u001b[1;32m--> 122\u001b[0m     \u001b[38;5;28;01mreturn\u001b[39;00m _preprocess_numpy_input(x, data_format\u001b[38;5;241m=\u001b[39mdata_format, mode\u001b[38;5;241m=\u001b[39mmode)\n\u001b[0;32m    123\u001b[0m \u001b[38;5;28;01melse\u001b[39;00m:\n\u001b[0;32m    124\u001b[0m     \u001b[38;5;28;01mreturn\u001b[39;00m _preprocess_symbolic_input(x, data_format\u001b[38;5;241m=\u001b[39mdata_format, mode\u001b[38;5;241m=\u001b[39mmode)\n",
      "File \u001b[1;32m~\\AppData\\Roaming\\Python\\Python311\\site-packages\\keras\\src\\applications\\imagenet_utils.py:199\u001b[0m, in \u001b[0;36m_preprocess_numpy_input\u001b[1;34m(x, data_format, mode)\u001b[0m\n\u001b[0;32m    179\u001b[0m \u001b[38;5;250m\u001b[39m\u001b[38;5;124;03m\"\"\"Preprocesses a Numpy array encoding a batch of images.\u001b[39;00m\n\u001b[0;32m    180\u001b[0m \n\u001b[0;32m    181\u001b[0m \u001b[38;5;124;03mArgs:\u001b[39;00m\n\u001b[1;32m   (...)\u001b[0m\n\u001b[0;32m    196\u001b[0m \u001b[38;5;124;03m    Preprocessed Numpy array.\u001b[39;00m\n\u001b[0;32m    197\u001b[0m \u001b[38;5;124;03m\"\"\"\u001b[39;00m\n\u001b[0;32m    198\u001b[0m \u001b[38;5;28;01mif\u001b[39;00m \u001b[38;5;129;01mnot\u001b[39;00m \u001b[38;5;28missubclass\u001b[39m(x\u001b[38;5;241m.\u001b[39mdtype\u001b[38;5;241m.\u001b[39mtype, np\u001b[38;5;241m.\u001b[39mfloating):\n\u001b[1;32m--> 199\u001b[0m     x \u001b[38;5;241m=\u001b[39m x\u001b[38;5;241m.\u001b[39mastype(backend\u001b[38;5;241m.\u001b[39mfloatx(), copy\u001b[38;5;241m=\u001b[39m\u001b[38;5;28;01mFalse\u001b[39;00m)\n\u001b[0;32m    201\u001b[0m \u001b[38;5;28;01mif\u001b[39;00m mode \u001b[38;5;241m==\u001b[39m \u001b[38;5;124m\"\u001b[39m\u001b[38;5;124mtf\u001b[39m\u001b[38;5;124m\"\u001b[39m:\n\u001b[0;32m    202\u001b[0m     x \u001b[38;5;241m/\u001b[39m\u001b[38;5;241m=\u001b[39m \u001b[38;5;241m127.5\u001b[39m\n",
      "\u001b[1;31mValueError\u001b[0m: could not convert string to float: '[[[128 128 128]\\n  [128 128 128]\\n  [128 128 128]\\n  ...\\n  [128 128 128]\\n  [128 128 128]\\n  [128 128 128]]\\n\\n [[128 128 128]\\n  [128 128 128]\\n  [128 128 128]\\n  ...\\n  [128 128 128]\\n  [128 128 128]\\n  [128 128 128]]\\n\\n [[128 128 128]\\n  [128 128 128]\\n  [128 128 128]\\n  ...\\n  [128 128 128]\\n  [128 128 128]\\n  [128 128 128]]\\n\\n ...\\n\\n [[128 128 128]\\n  [128 128 128]\\n  [128 128 128]\\n  ...\\n  [128 128 128]\\n  [128 128 128]\\n  [128 128 128]]\\n\\n [[128 128 128]\\n  [128 128 128]\\n  [128 128 128]\\n  ...\\n  [128 128 128]\\n  [128 128 128]\\n  [128 128 128]]\\n\\n [[128 128 128]\\n  [128 128 128]\\n  [128 128 128]\\n  ...\\n  [128 128 128]\\n  [128 128 128]\\n  [128 128 128]]]'"
     ]
    }
   ],
   "source": [
    "embeddings = process_images(data.image, model, batch_size=32)"
   ]
  },
  {
   "cell_type": "code",
   "execution_count": null,
   "id": "5383c6b3",
   "metadata": {
    "scrolled": true
   },
   "outputs": [],
   "source": [
    "t_1 = type(embeddings)\n",
    "l_1 = len(embeddings)\n",
    "t_2 = type(embeddings[10])\n",
    "l_2 = len(embeddings[10])\n",
    "print('Type of embeddings:',t_1)\n",
    "print('Length of embeddings:',l_1)\n",
    "print('Type of embedding instance:',t_2)\n",
    "print('Length of embedding instance:',l_2)"
   ]
  },
  {
   "cell_type": "markdown",
   "id": "b629ce04",
   "metadata": {},
   "source": [
    "## Classification Imports"
   ]
  },
  {
   "cell_type": "code",
   "execution_count": null,
   "id": "e9e0c92c",
   "metadata": {},
   "outputs": [],
   "source": [
    "from sklearn.model_selection import train_test_split\n",
    "from sklearn.neighbors import KNeighborsClassifier\n",
    "from sklearn.metrics import classification_report, accuracy_score\n",
    "from sklearn.preprocessing import LabelEncoder\n",
    "import xgboost as xgb\n",
    "import tensorflow as tf\n",
    "from tensorflow.keras.models import Sequential\n",
    "from tensorflow.keras.layers import Dense\n",
    "from tensorflow.keras.utils import to_categorical"
   ]
  },
  {
   "cell_type": "markdown",
   "id": "5b45a2bb",
   "metadata": {},
   "source": [
    "## KNN"
   ]
  },
  {
   "cell_type": "code",
   "execution_count": null,
   "id": "64d1320c",
   "metadata": {},
   "outputs": [],
   "source": [
    "labels = pd.read_csv(\"labelled_floorplan_dataset_updated.csv\")"
   ]
  },
  {
   "cell_type": "code",
   "execution_count": null,
   "id": "3749da9b",
   "metadata": {},
   "outputs": [],
   "source": [
    "embeddings = np.array(embeddings)\n",
    "label_int = np.array(labels.iloc[:,1].values.astype(int))"
   ]
  },
  {
   "cell_type": "code",
   "execution_count": null,
   "id": "9012ef83",
   "metadata": {},
   "outputs": [],
   "source": [
    "X_train, X_test, y_train, y_test = train_test_split(embeddings, label_int, test_size=0.2, random_state=42)"
   ]
  },
  {
   "cell_type": "code",
   "execution_count": null,
   "id": "96038546",
   "metadata": {},
   "outputs": [],
   "source": [
    "k = 5\n",
    "knn = KNeighborsClassifier(n_neighbors=k)\n",
    "knn.fit(X_train, y_train)"
   ]
  },
  {
   "cell_type": "code",
   "execution_count": null,
   "id": "aaccd034",
   "metadata": {},
   "outputs": [],
   "source": [
    "y_pred = knn.predict(X_test)"
   ]
  },
  {
   "cell_type": "code",
   "execution_count": null,
   "id": "c37e2523",
   "metadata": {},
   "outputs": [],
   "source": [
    "print(classification_report(y_test, y_pred))\n",
    "print(f\"Accuracy: {accuracy_score(y_test, y_pred)}\")"
   ]
  },
  {
   "cell_type": "markdown",
   "id": "7fdf1593",
   "metadata": {},
   "source": [
    "## XGBoost"
   ]
  },
  {
   "cell_type": "code",
   "execution_count": null,
   "id": "a93c6c7a",
   "metadata": {},
   "outputs": [],
   "source": [
    "# Needed because XGBoost expects either a 0 or 1\n",
    "labels_mapped = np.where(labels == -1, 0, 1)\n",
    "\n",
    "X_train, X_test, y_train, y_test = train_test_split(embeddings, labels_mapped, test_size=0.2, random_state=42)\n",
    "\n",
    "xgb_clf = xgb.XGBClassifier(use_label_encoder=False, eval_metric='mlogloss')\n",
    "\n",
    "xgb_clf.fit(X_train, y_train)\n",
    "\n",
    "y_pred = xgb_clf.predict(X_test)"
   ]
  },
  {
   "cell_type": "code",
   "execution_count": null,
   "id": "ede64dda",
   "metadata": {},
   "outputs": [],
   "source": [
    "print(classification_report(y_test, y_pred))\n",
    "print(f\"Accuracy: {accuracy_score(y_test, y_pred)}\")"
   ]
  },
  {
   "cell_type": "markdown",
   "id": "e2739386",
   "metadata": {},
   "source": [
    "# 2-Layer FFN"
   ]
  },
  {
   "cell_type": "code",
   "execution_count": null,
   "id": "3e42a791",
   "metadata": {},
   "outputs": [],
   "source": [
    "encoder = LabelEncoder()\n",
    "labels_encoded = encoder.fit_transform(label_int)\n",
    "\n",
    "labels_categorical = to_categorical(labels_encoded) # One-Hot encoding\n",
    "\n",
    "X_train, X_test, y_train, y_test = train_test_split(embeddings, labels_categorical, test_size=0.2, random_state=42)\n",
    "\n",
    "model = Sequential()\n",
    "model.add(Dense(128, input_dim=X_train.shape[1], activation='relu')) \n",
    "model.add(Dense(64, activation='relu')) \n",
    "model.add(Dense(y_train.shape[1], activation='softmax')) \n",
    "\n",
    "model.compile(loss='categorical_crossentropy', \n",
    "              optimizer='adam',               \n",
    "              metrics=['accuracy'])\n",
    "\n",
    "history = model.fit(X_train, y_train, epochs=26, batch_size=32, verbose=1, validation_split=0.1)\n",
    "\n",
    "scores = model.evaluate(X_test, y_test, verbose=0)\n",
    "y_pred = model.predict(X_test)\n",
    "y_pred_classes = np.argmax(y_pred, axis=1)\n",
    "y_true_classes = np.argmax(y_test, axis=1)"
   ]
  },
  {
   "cell_type": "code",
   "execution_count": null,
   "id": "a34df7f6",
   "metadata": {},
   "outputs": [],
   "source": [
    "print(classification_report(y_true_classes, y_pred_classes))\n",
    "print(f\"Accuracy: {scores[1]}\")"
   ]
  },
  {
   "cell_type": "markdown",
   "id": "c9cd801b",
   "metadata": {},
   "source": [
    "# Convert Embeddings to DataFrame"
   ]
  },
  {
   "cell_type": "code",
   "execution_count": null,
   "id": "a234d9d4",
   "metadata": {},
   "outputs": [],
   "source": [
    "embeddings_df_2 = pd.DataFrame(embeddings)"
   ]
  },
  {
   "cell_type": "code",
   "execution_count": null,
   "id": "371cd12f",
   "metadata": {},
   "outputs": [],
   "source": [
    "embeddings_df_2"
   ]
  },
  {
   "cell_type": "markdown",
   "id": "fa2522a2",
   "metadata": {},
   "source": [
    "# Saving Embeddings as .csv File"
   ]
  },
  {
   "cell_type": "code",
   "execution_count": null,
   "id": "0dfb2aab",
   "metadata": {},
   "outputs": [],
   "source": [
    "#embeddings_df.to_csv(r'D:\\School\\Steelcase Capstone\\Embeddings.csv')"
   ]
  },
  {
   "cell_type": "markdown",
   "id": "b88cac71",
   "metadata": {},
   "source": [
    "### Checking data after reading it back in"
   ]
  },
  {
   "cell_type": "code",
   "execution_count": 3,
   "id": "bb3cb7bf",
   "metadata": {},
   "outputs": [],
   "source": [
    "embeddings_df = pd.read_csv('Embeddings.csv',index_col=0)"
   ]
  },
  {
   "cell_type": "code",
   "execution_count": 4,
   "id": "92085035",
   "metadata": {},
   "outputs": [
    {
     "data": {
      "text/plain": [
       "array([[0.       , 0.       , 0.       , ..., 0.       , 0.       ,\n",
       "        0.       ],\n",
       "       [0.       , 0.       , 0.       , ..., 0.       , 0.       ,\n",
       "        0.       ],\n",
       "       [0.       , 0.       , 0.       , ..., 0.       , 1.0518014,\n",
       "        0.       ],\n",
       "       ...,\n",
       "       [0.       , 0.       , 0.       , ..., 0.       , 0.       ,\n",
       "        0.       ],\n",
       "       [0.       , 0.       , 0.       , ..., 0.       , 0.       ,\n",
       "        0.       ],\n",
       "       [0.       , 0.       , 0.       , ..., 0.       , 0.       ,\n",
       "        0.       ]])"
      ]
     },
     "execution_count": 4,
     "metadata": {},
     "output_type": "execute_result"
    }
   ],
   "source": [
    "embed_df_nump = embeddings_df.to_numpy()\n",
    "embed_df_nump"
   ]
  },
  {
   "cell_type": "code",
   "execution_count": null,
   "id": "b3bb0421",
   "metadata": {},
   "outputs": [],
   "source": [
    "embed_df_nump_2 = embeddings_df_2.to_numpy()\n",
    "embed_df_nump_2"
   ]
  },
  {
   "cell_type": "code",
   "execution_count": null,
   "id": "b58d7b53",
   "metadata": {},
   "outputs": [],
   "source": [
    "print(embed_df_nump.shape)  # After reading back from CSV\n",
    "print(embed_df_nump_2.shape)  # Before CSV conversion"
   ]
  },
  {
   "cell_type": "markdown",
   "id": "e9357ad0",
   "metadata": {},
   "source": [
    "# Testing Streamlit Functions"
   ]
  },
  {
   "cell_type": "markdown",
   "id": "5bcc0473",
   "metadata": {},
   "source": [
    "### Imports for Streamlit"
   ]
  },
  {
   "cell_type": "code",
   "execution_count": 1,
   "id": "1259721e",
   "metadata": {},
   "outputs": [
    {
     "name": "stdout",
     "output_type": "stream",
     "text": [
      "WARNING:tensorflow:From C:\\Users\\Patrick\\AppData\\Roaming\\Python\\Python311\\site-packages\\keras\\src\\losses.py:2976: The name tf.losses.sparse_softmax_cross_entropy is deprecated. Please use tf.compat.v1.losses.sparse_softmax_cross_entropy instead.\n",
      "\n"
     ]
    }
   ],
   "source": [
    "import pandas as pd\n",
    "import numpy as np\n",
    "import seaborn as sns\n",
    "import matplotlib.pyplot as plt\n",
    "from PIL import Image\n",
    "import os\n",
    "import pickle\n",
    "from keras.applications.vgg19 import VGG19, preprocess_input\n",
    "from keras.preprocessing import image\n",
    "from keras.models import Model\n",
    "from tqdm import tqdm\n",
    "from sklearn.neighbors import NearestNeighbors, KNeighborsClassifier\n",
    "import matplotlib.image as mpimg"
   ]
  },
  {
   "cell_type": "code",
   "execution_count": 25,
   "id": "42995dc3",
   "metadata": {
    "scrolled": false
   },
   "outputs": [
    {
     "data": {
      "text/html": [
       "<div>\n",
       "<style scoped>\n",
       "    .dataframe tbody tr th:only-of-type {\n",
       "        vertical-align: middle;\n",
       "    }\n",
       "\n",
       "    .dataframe tbody tr th {\n",
       "        vertical-align: top;\n",
       "    }\n",
       "\n",
       "    .dataframe thead th {\n",
       "        text-align: right;\n",
       "    }\n",
       "</style>\n",
       "<table border=\"1\" class=\"dataframe\">\n",
       "  <thead>\n",
       "    <tr style=\"text-align: right;\">\n",
       "      <th></th>\n",
       "      <th>Unnamed: 0</th>\n",
       "      <th>key</th>\n",
       "      <th>label</th>\n",
       "      <th>image_path</th>\n",
       "      <th>image</th>\n",
       "    </tr>\n",
       "  </thead>\n",
       "  <tbody>\n",
       "    <tr>\n",
       "      <th>0</th>\n",
       "      <td>0</td>\n",
       "      <td>006a2d3bb2b7435fb6d96e7f320efe42</td>\n",
       "      <td>-1.0</td>\n",
       "      <td>Total_Images/006a2d3bb2b7435fb6d96e7f320efe42/...</td>\n",
       "      <td>[[[128 128 128]\\n  [128 128 128]\\n  [128 128 1...</td>\n",
       "    </tr>\n",
       "    <tr>\n",
       "      <th>1</th>\n",
       "      <td>1</td>\n",
       "      <td>00e22bea176c4792a53d5132364ecd52</td>\n",
       "      <td>1.0</td>\n",
       "      <td>Total_Images/00e22bea176c4792a53d5132364ecd52/...</td>\n",
       "      <td>[[[128 128 128]\\n  [128 128 128]\\n  [128 128 1...</td>\n",
       "    </tr>\n",
       "    <tr>\n",
       "      <th>2</th>\n",
       "      <td>2</td>\n",
       "      <td>01bd5ab8fa0c4a7ab183f9f30f8c9a3a</td>\n",
       "      <td>-1.0</td>\n",
       "      <td>Total_Images/01bd5ab8fa0c4a7ab183f9f30f8c9a3a/...</td>\n",
       "      <td>[[[128 128 128]\\n  [128 128 128]\\n  [128 128 1...</td>\n",
       "    </tr>\n",
       "    <tr>\n",
       "      <th>3</th>\n",
       "      <td>3</td>\n",
       "      <td>01c1ac1113dc4770a2690dc9e7218859</td>\n",
       "      <td>-1.0</td>\n",
       "      <td>Total_Images/01c1ac1113dc4770a2690dc9e7218859/...</td>\n",
       "      <td>[[[128 128 128]\\n  [128 128 128]\\n  [128 128 1...</td>\n",
       "    </tr>\n",
       "    <tr>\n",
       "      <th>4</th>\n",
       "      <td>4</td>\n",
       "      <td>034515138be34df3a780bb878eda204d</td>\n",
       "      <td>1.0</td>\n",
       "      <td>Total_Images/034515138be34df3a780bb878eda204d/...</td>\n",
       "      <td>[[[128 128 128]\\n  [128 128 128]\\n  [128 128 1...</td>\n",
       "    </tr>\n",
       "    <tr>\n",
       "      <th>...</th>\n",
       "      <td>...</td>\n",
       "      <td>...</td>\n",
       "      <td>...</td>\n",
       "      <td>...</td>\n",
       "      <td>...</td>\n",
       "    </tr>\n",
       "    <tr>\n",
       "      <th>3408</th>\n",
       "      <td>3408</td>\n",
       "      <td>0c5ebff3c81849faa7116d1379a6f975</td>\n",
       "      <td>-1.0</td>\n",
       "      <td>Total_Images/0c5ebff3c81849faa7116d1379a6f975/...</td>\n",
       "      <td>[[[128 128 128]\\n  [128 128 128]\\n  [128 128 1...</td>\n",
       "    </tr>\n",
       "    <tr>\n",
       "      <th>3409</th>\n",
       "      <td>3409</td>\n",
       "      <td>0c63ab679de6427cbdbb05f1ba841204</td>\n",
       "      <td>-1.0</td>\n",
       "      <td>Total_Images/0c63ab679de6427cbdbb05f1ba841204/...</td>\n",
       "      <td>[[[128 128 128]\\n  [128 128 128]\\n  [128 128 1...</td>\n",
       "    </tr>\n",
       "    <tr>\n",
       "      <th>3410</th>\n",
       "      <td>3410</td>\n",
       "      <td>0c655ec5de1845ee9981d156a46a827b</td>\n",
       "      <td>-1.0</td>\n",
       "      <td>Total_Images/0c655ec5de1845ee9981d156a46a827b/...</td>\n",
       "      <td>[[[128 128 128]\\n  [128 128 128]\\n  [128 128 1...</td>\n",
       "    </tr>\n",
       "    <tr>\n",
       "      <th>3411</th>\n",
       "      <td>3411</td>\n",
       "      <td>0c65e370201249aab3a237a30b96aad8</td>\n",
       "      <td>-1.0</td>\n",
       "      <td>Total_Images/0c65e370201249aab3a237a30b96aad8/...</td>\n",
       "      <td>[[[128 128 128]\\n  [128 128 128]\\n  [128 128 1...</td>\n",
       "    </tr>\n",
       "    <tr>\n",
       "      <th>3412</th>\n",
       "      <td>3412</td>\n",
       "      <td>0c6793a4728a41e88bc1676bc08a0489</td>\n",
       "      <td>-1.0</td>\n",
       "      <td>Total_Images/0c6793a4728a41e88bc1676bc08a0489/...</td>\n",
       "      <td>[[[128 128 128]\\n  [128 128 128]\\n  [128 128 1...</td>\n",
       "    </tr>\n",
       "  </tbody>\n",
       "</table>\n",
       "<p>3413 rows × 5 columns</p>\n",
       "</div>"
      ],
      "text/plain": [
       "      Unnamed: 0                               key  label  \\\n",
       "0              0  006a2d3bb2b7435fb6d96e7f320efe42   -1.0   \n",
       "1              1  00e22bea176c4792a53d5132364ecd52    1.0   \n",
       "2              2  01bd5ab8fa0c4a7ab183f9f30f8c9a3a   -1.0   \n",
       "3              3  01c1ac1113dc4770a2690dc9e7218859   -1.0   \n",
       "4              4  034515138be34df3a780bb878eda204d    1.0   \n",
       "...          ...                               ...    ...   \n",
       "3408        3408  0c5ebff3c81849faa7116d1379a6f975   -1.0   \n",
       "3409        3409  0c63ab679de6427cbdbb05f1ba841204   -1.0   \n",
       "3410        3410  0c655ec5de1845ee9981d156a46a827b   -1.0   \n",
       "3411        3411  0c65e370201249aab3a237a30b96aad8   -1.0   \n",
       "3412        3412  0c6793a4728a41e88bc1676bc08a0489   -1.0   \n",
       "\n",
       "                                             image_path  \\\n",
       "0     Total_Images/006a2d3bb2b7435fb6d96e7f320efe42/...   \n",
       "1     Total_Images/00e22bea176c4792a53d5132364ecd52/...   \n",
       "2     Total_Images/01bd5ab8fa0c4a7ab183f9f30f8c9a3a/...   \n",
       "3     Total_Images/01c1ac1113dc4770a2690dc9e7218859/...   \n",
       "4     Total_Images/034515138be34df3a780bb878eda204d/...   \n",
       "...                                                 ...   \n",
       "3408  Total_Images/0c5ebff3c81849faa7116d1379a6f975/...   \n",
       "3409  Total_Images/0c63ab679de6427cbdbb05f1ba841204/...   \n",
       "3410  Total_Images/0c655ec5de1845ee9981d156a46a827b/...   \n",
       "3411  Total_Images/0c65e370201249aab3a237a30b96aad8/...   \n",
       "3412  Total_Images/0c6793a4728a41e88bc1676bc08a0489/...   \n",
       "\n",
       "                                                  image  \n",
       "0     [[[128 128 128]\\n  [128 128 128]\\n  [128 128 1...  \n",
       "1     [[[128 128 128]\\n  [128 128 128]\\n  [128 128 1...  \n",
       "2     [[[128 128 128]\\n  [128 128 128]\\n  [128 128 1...  \n",
       "3     [[[128 128 128]\\n  [128 128 128]\\n  [128 128 1...  \n",
       "4     [[[128 128 128]\\n  [128 128 128]\\n  [128 128 1...  \n",
       "...                                                 ...  \n",
       "3408  [[[128 128 128]\\n  [128 128 128]\\n  [128 128 1...  \n",
       "3409  [[[128 128 128]\\n  [128 128 128]\\n  [128 128 1...  \n",
       "3410  [[[128 128 128]\\n  [128 128 128]\\n  [128 128 1...  \n",
       "3411  [[[128 128 128]\\n  [128 128 128]\\n  [128 128 1...  \n",
       "3412  [[[128 128 128]\\n  [128 128 128]\\n  [128 128 1...  \n",
       "\n",
       "[3413 rows x 5 columns]"
      ]
     },
     "execution_count": 25,
     "metadata": {},
     "output_type": "execute_result"
    }
   ],
   "source": [
    "old_data = pd.read_csv('floorplan_dataset.csv')\n",
    "old_data"
   ]
  },
  {
   "cell_type": "code",
   "execution_count": 41,
   "id": "4b1a97a5",
   "metadata": {},
   "outputs": [
    {
     "data": {
      "text/html": [
       "<div>\n",
       "<style scoped>\n",
       "    .dataframe tbody tr th:only-of-type {\n",
       "        vertical-align: middle;\n",
       "    }\n",
       "\n",
       "    .dataframe tbody tr th {\n",
       "        vertical-align: top;\n",
       "    }\n",
       "\n",
       "    .dataframe thead th {\n",
       "        text-align: right;\n",
       "    }\n",
       "</style>\n",
       "<table border=\"1\" class=\"dataframe\">\n",
       "  <thead>\n",
       "    <tr style=\"text-align: right;\">\n",
       "      <th></th>\n",
       "      <th>Unnamed: 0</th>\n",
       "      <th>key</th>\n",
       "      <th>label</th>\n",
       "      <th>image_path</th>\n",
       "      <th>image</th>\n",
       "    </tr>\n",
       "  </thead>\n",
       "  <tbody>\n",
       "    <tr>\n",
       "      <th>0</th>\n",
       "      <td>0</td>\n",
       "      <td>006a2d3bb2b7435fb6d96e7f320efe42</td>\n",
       "      <td>-1.0</td>\n",
       "      <td>Total_Images/006a2d3bb2b7435fb6d96e7f320efe42/...</td>\n",
       "      <td>[[[128 128 128]\\n  [128 128 128]\\n  [128 128 1...</td>\n",
       "    </tr>\n",
       "    <tr>\n",
       "      <th>1</th>\n",
       "      <td>1</td>\n",
       "      <td>00e22bea176c4792a53d5132364ecd52</td>\n",
       "      <td>1.0</td>\n",
       "      <td>Total_Images/00e22bea176c4792a53d5132364ecd52/...</td>\n",
       "      <td>[[[128 128 128]\\n  [128 128 128]\\n  [128 128 1...</td>\n",
       "    </tr>\n",
       "    <tr>\n",
       "      <th>2</th>\n",
       "      <td>2</td>\n",
       "      <td>01bd5ab8fa0c4a7ab183f9f30f8c9a3a</td>\n",
       "      <td>-1.0</td>\n",
       "      <td>Total_Images/01bd5ab8fa0c4a7ab183f9f30f8c9a3a/...</td>\n",
       "      <td>[[[128 128 128]\\n  [128 128 128]\\n  [128 128 1...</td>\n",
       "    </tr>\n",
       "    <tr>\n",
       "      <th>3</th>\n",
       "      <td>3</td>\n",
       "      <td>01c1ac1113dc4770a2690dc9e7218859</td>\n",
       "      <td>-1.0</td>\n",
       "      <td>Total_Images/01c1ac1113dc4770a2690dc9e7218859/...</td>\n",
       "      <td>[[[128 128 128]\\n  [128 128 128]\\n  [128 128 1...</td>\n",
       "    </tr>\n",
       "    <tr>\n",
       "      <th>4</th>\n",
       "      <td>4</td>\n",
       "      <td>034515138be34df3a780bb878eda204d</td>\n",
       "      <td>1.0</td>\n",
       "      <td>Total_Images/034515138be34df3a780bb878eda204d/...</td>\n",
       "      <td>[[[128 128 128]\\n  [128 128 128]\\n  [128 128 1...</td>\n",
       "    </tr>\n",
       "    <tr>\n",
       "      <th>...</th>\n",
       "      <td>...</td>\n",
       "      <td>...</td>\n",
       "      <td>...</td>\n",
       "      <td>...</td>\n",
       "      <td>...</td>\n",
       "    </tr>\n",
       "    <tr>\n",
       "      <th>3408</th>\n",
       "      <td>3408</td>\n",
       "      <td>0c5ebff3c81849faa7116d1379a6f975</td>\n",
       "      <td>-1.0</td>\n",
       "      <td>Total_Images/0c5ebff3c81849faa7116d1379a6f975/...</td>\n",
       "      <td>[[[128 128 128]\\n  [128 128 128]\\n  [128 128 1...</td>\n",
       "    </tr>\n",
       "    <tr>\n",
       "      <th>3409</th>\n",
       "      <td>3409</td>\n",
       "      <td>0c63ab679de6427cbdbb05f1ba841204</td>\n",
       "      <td>-1.0</td>\n",
       "      <td>Total_Images/0c63ab679de6427cbdbb05f1ba841204/...</td>\n",
       "      <td>[[[128 128 128]\\n  [128 128 128]\\n  [128 128 1...</td>\n",
       "    </tr>\n",
       "    <tr>\n",
       "      <th>3410</th>\n",
       "      <td>3410</td>\n",
       "      <td>0c655ec5de1845ee9981d156a46a827b</td>\n",
       "      <td>-1.0</td>\n",
       "      <td>Total_Images/0c655ec5de1845ee9981d156a46a827b/...</td>\n",
       "      <td>[[[128 128 128]\\n  [128 128 128]\\n  [128 128 1...</td>\n",
       "    </tr>\n",
       "    <tr>\n",
       "      <th>3411</th>\n",
       "      <td>3411</td>\n",
       "      <td>0c65e370201249aab3a237a30b96aad8</td>\n",
       "      <td>-1.0</td>\n",
       "      <td>Total_Images/0c65e370201249aab3a237a30b96aad8/...</td>\n",
       "      <td>[[[128 128 128]\\n  [128 128 128]\\n  [128 128 1...</td>\n",
       "    </tr>\n",
       "    <tr>\n",
       "      <th>3412</th>\n",
       "      <td>3412</td>\n",
       "      <td>0c6793a4728a41e88bc1676bc08a0489</td>\n",
       "      <td>-1.0</td>\n",
       "      <td>Total_Images/0c6793a4728a41e88bc1676bc08a0489/...</td>\n",
       "      <td>[[[128 128 128]\\n  [128 128 128]\\n  [128 128 1...</td>\n",
       "    </tr>\n",
       "  </tbody>\n",
       "</table>\n",
       "<p>3413 rows × 5 columns</p>\n",
       "</div>"
      ],
      "text/plain": [
       "      Unnamed: 0                               key  label  \\\n",
       "0              0  006a2d3bb2b7435fb6d96e7f320efe42   -1.0   \n",
       "1              1  00e22bea176c4792a53d5132364ecd52    1.0   \n",
       "2              2  01bd5ab8fa0c4a7ab183f9f30f8c9a3a   -1.0   \n",
       "3              3  01c1ac1113dc4770a2690dc9e7218859   -1.0   \n",
       "4              4  034515138be34df3a780bb878eda204d    1.0   \n",
       "...          ...                               ...    ...   \n",
       "3408        3408  0c5ebff3c81849faa7116d1379a6f975   -1.0   \n",
       "3409        3409  0c63ab679de6427cbdbb05f1ba841204   -1.0   \n",
       "3410        3410  0c655ec5de1845ee9981d156a46a827b   -1.0   \n",
       "3411        3411  0c65e370201249aab3a237a30b96aad8   -1.0   \n",
       "3412        3412  0c6793a4728a41e88bc1676bc08a0489   -1.0   \n",
       "\n",
       "                                             image_path  \\\n",
       "0     Total_Images/006a2d3bb2b7435fb6d96e7f320efe42/...   \n",
       "1     Total_Images/00e22bea176c4792a53d5132364ecd52/...   \n",
       "2     Total_Images/01bd5ab8fa0c4a7ab183f9f30f8c9a3a/...   \n",
       "3     Total_Images/01c1ac1113dc4770a2690dc9e7218859/...   \n",
       "4     Total_Images/034515138be34df3a780bb878eda204d/...   \n",
       "...                                                 ...   \n",
       "3408  Total_Images/0c5ebff3c81849faa7116d1379a6f975/...   \n",
       "3409  Total_Images/0c63ab679de6427cbdbb05f1ba841204/...   \n",
       "3410  Total_Images/0c655ec5de1845ee9981d156a46a827b/...   \n",
       "3411  Total_Images/0c65e370201249aab3a237a30b96aad8/...   \n",
       "3412  Total_Images/0c6793a4728a41e88bc1676bc08a0489/...   \n",
       "\n",
       "                                                  image  \n",
       "0     [[[128 128 128]\\n  [128 128 128]\\n  [128 128 1...  \n",
       "1     [[[128 128 128]\\n  [128 128 128]\\n  [128 128 1...  \n",
       "2     [[[128 128 128]\\n  [128 128 128]\\n  [128 128 1...  \n",
       "3     [[[128 128 128]\\n  [128 128 128]\\n  [128 128 1...  \n",
       "4     [[[128 128 128]\\n  [128 128 128]\\n  [128 128 1...  \n",
       "...                                                 ...  \n",
       "3408  [[[128 128 128]\\n  [128 128 128]\\n  [128 128 1...  \n",
       "3409  [[[128 128 128]\\n  [128 128 128]\\n  [128 128 1...  \n",
       "3410  [[[128 128 128]\\n  [128 128 128]\\n  [128 128 1...  \n",
       "3411  [[[128 128 128]\\n  [128 128 128]\\n  [128 128 1...  \n",
       "3412  [[[128 128 128]\\n  [128 128 128]\\n  [128 128 1...  \n",
       "\n",
       "[3413 rows x 5 columns]"
      ]
     },
     "execution_count": 41,
     "metadata": {},
     "output_type": "execute_result"
    }
   ],
   "source": [
    "new_data = pd.read_csv('floorplan_dataset_renewed.csv',sep=',')\n",
    "new_data"
   ]
  },
  {
   "cell_type": "markdown",
   "id": "5b0d184c",
   "metadata": {},
   "source": [
    "### Initializing VGG19"
   ]
  },
  {
   "cell_type": "code",
   "execution_count": 5,
   "id": "d7fcc47c",
   "metadata": {},
   "outputs": [
    {
     "name": "stdout",
     "output_type": "stream",
     "text": [
      "WARNING:tensorflow:From C:\\Users\\Patrick\\AppData\\Roaming\\Python\\Python311\\site-packages\\keras\\src\\backend.py:1398: The name tf.executing_eagerly_outside_functions is deprecated. Please use tf.compat.v1.executing_eagerly_outside_functions instead.\n",
      "\n",
      "WARNING:tensorflow:From C:\\Users\\Patrick\\AppData\\Roaming\\Python\\Python311\\site-packages\\keras\\src\\layers\\pooling\\max_pooling2d.py:161: The name tf.nn.max_pool is deprecated. Please use tf.nn.max_pool2d instead.\n",
      "\n"
     ]
    }
   ],
   "source": [
    "base_model = VGG19(weights='imagenet', include_top=False)\n",
    "model = Model(inputs=base_model.input, outputs=base_model.get_layer('block5_pool').output)"
   ]
  },
  {
   "cell_type": "markdown",
   "id": "6b256764",
   "metadata": {},
   "source": [
    "### Pre-training Knn"
   ]
  },
  {
   "cell_type": "code",
   "execution_count": 6,
   "id": "26edaa08",
   "metadata": {
    "scrolled": true
   },
   "outputs": [
    {
     "data": {
      "text/html": [
       "<style>#sk-container-id-1 {color: black;}#sk-container-id-1 pre{padding: 0;}#sk-container-id-1 div.sk-toggleable {background-color: white;}#sk-container-id-1 label.sk-toggleable__label {cursor: pointer;display: block;width: 100%;margin-bottom: 0;padding: 0.3em;box-sizing: border-box;text-align: center;}#sk-container-id-1 label.sk-toggleable__label-arrow:before {content: \"▸\";float: left;margin-right: 0.25em;color: #696969;}#sk-container-id-1 label.sk-toggleable__label-arrow:hover:before {color: black;}#sk-container-id-1 div.sk-estimator:hover label.sk-toggleable__label-arrow:before {color: black;}#sk-container-id-1 div.sk-toggleable__content {max-height: 0;max-width: 0;overflow: hidden;text-align: left;background-color: #f0f8ff;}#sk-container-id-1 div.sk-toggleable__content pre {margin: 0.2em;color: black;border-radius: 0.25em;background-color: #f0f8ff;}#sk-container-id-1 input.sk-toggleable__control:checked~div.sk-toggleable__content {max-height: 200px;max-width: 100%;overflow: auto;}#sk-container-id-1 input.sk-toggleable__control:checked~label.sk-toggleable__label-arrow:before {content: \"▾\";}#sk-container-id-1 div.sk-estimator input.sk-toggleable__control:checked~label.sk-toggleable__label {background-color: #d4ebff;}#sk-container-id-1 div.sk-label input.sk-toggleable__control:checked~label.sk-toggleable__label {background-color: #d4ebff;}#sk-container-id-1 input.sk-hidden--visually {border: 0;clip: rect(1px 1px 1px 1px);clip: rect(1px, 1px, 1px, 1px);height: 1px;margin: -1px;overflow: hidden;padding: 0;position: absolute;width: 1px;}#sk-container-id-1 div.sk-estimator {font-family: monospace;background-color: #f0f8ff;border: 1px dotted black;border-radius: 0.25em;box-sizing: border-box;margin-bottom: 0.5em;}#sk-container-id-1 div.sk-estimator:hover {background-color: #d4ebff;}#sk-container-id-1 div.sk-parallel-item::after {content: \"\";width: 100%;border-bottom: 1px solid gray;flex-grow: 1;}#sk-container-id-1 div.sk-label:hover label.sk-toggleable__label {background-color: #d4ebff;}#sk-container-id-1 div.sk-serial::before {content: \"\";position: absolute;border-left: 1px solid gray;box-sizing: border-box;top: 0;bottom: 0;left: 50%;z-index: 0;}#sk-container-id-1 div.sk-serial {display: flex;flex-direction: column;align-items: center;background-color: white;padding-right: 0.2em;padding-left: 0.2em;position: relative;}#sk-container-id-1 div.sk-item {position: relative;z-index: 1;}#sk-container-id-1 div.sk-parallel {display: flex;align-items: stretch;justify-content: center;background-color: white;position: relative;}#sk-container-id-1 div.sk-item::before, #sk-container-id-1 div.sk-parallel-item::before {content: \"\";position: absolute;border-left: 1px solid gray;box-sizing: border-box;top: 0;bottom: 0;left: 50%;z-index: -1;}#sk-container-id-1 div.sk-parallel-item {display: flex;flex-direction: column;z-index: 1;position: relative;background-color: white;}#sk-container-id-1 div.sk-parallel-item:first-child::after {align-self: flex-end;width: 50%;}#sk-container-id-1 div.sk-parallel-item:last-child::after {align-self: flex-start;width: 50%;}#sk-container-id-1 div.sk-parallel-item:only-child::after {width: 0;}#sk-container-id-1 div.sk-dashed-wrapped {border: 1px dashed gray;margin: 0 0.4em 0.5em 0.4em;box-sizing: border-box;padding-bottom: 0.4em;background-color: white;}#sk-container-id-1 div.sk-label label {font-family: monospace;font-weight: bold;display: inline-block;line-height: 1.2em;}#sk-container-id-1 div.sk-label-container {text-align: center;}#sk-container-id-1 div.sk-container {/* jupyter's `normalize.less` sets `[hidden] { display: none; }` but bootstrap.min.css set `[hidden] { display: none !important; }` so we also need the `!important` here to be able to override the default hidden behavior on the sphinx rendered scikit-learn.org. See: https://github.com/scikit-learn/scikit-learn/issues/21755 */display: inline-block !important;position: relative;}#sk-container-id-1 div.sk-text-repr-fallback {display: none;}</style><div id=\"sk-container-id-1\" class=\"sk-top-container\"><div class=\"sk-text-repr-fallback\"><pre>NearestNeighbors(algorithm=&#x27;ball_tree&#x27;, n_neighbors=6)</pre><b>In a Jupyter environment, please rerun this cell to show the HTML representation or trust the notebook. <br />On GitHub, the HTML representation is unable to render, please try loading this page with nbviewer.org.</b></div><div class=\"sk-container\" hidden><div class=\"sk-item\"><div class=\"sk-estimator sk-toggleable\"><input class=\"sk-toggleable__control sk-hidden--visually\" id=\"sk-estimator-id-1\" type=\"checkbox\" checked><label for=\"sk-estimator-id-1\" class=\"sk-toggleable__label sk-toggleable__label-arrow\">NearestNeighbors</label><div class=\"sk-toggleable__content\"><pre>NearestNeighbors(algorithm=&#x27;ball_tree&#x27;, n_neighbors=6)</pre></div></div></div></div></div>"
      ],
      "text/plain": [
       "NearestNeighbors(algorithm='ball_tree', n_neighbors=6)"
      ]
     },
     "execution_count": 6,
     "metadata": {},
     "output_type": "execute_result"
    }
   ],
   "source": [
    "knn = NearestNeighbors(n_neighbors=6, algorithm='ball_tree')\n",
    "knn.fit(embed_df_nump)"
   ]
  },
  {
   "cell_type": "markdown",
   "id": "2a01a994",
   "metadata": {},
   "source": [
    "### Pre-Training KNN valid"
   ]
  },
  {
   "cell_type": "code",
   "execution_count": 52,
   "id": "f533508e",
   "metadata": {},
   "outputs": [
    {
     "data": {
      "text/html": [
       "<style>#sk-container-id-2 {color: black;}#sk-container-id-2 pre{padding: 0;}#sk-container-id-2 div.sk-toggleable {background-color: white;}#sk-container-id-2 label.sk-toggleable__label {cursor: pointer;display: block;width: 100%;margin-bottom: 0;padding: 0.3em;box-sizing: border-box;text-align: center;}#sk-container-id-2 label.sk-toggleable__label-arrow:before {content: \"▸\";float: left;margin-right: 0.25em;color: #696969;}#sk-container-id-2 label.sk-toggleable__label-arrow:hover:before {color: black;}#sk-container-id-2 div.sk-estimator:hover label.sk-toggleable__label-arrow:before {color: black;}#sk-container-id-2 div.sk-toggleable__content {max-height: 0;max-width: 0;overflow: hidden;text-align: left;background-color: #f0f8ff;}#sk-container-id-2 div.sk-toggleable__content pre {margin: 0.2em;color: black;border-radius: 0.25em;background-color: #f0f8ff;}#sk-container-id-2 input.sk-toggleable__control:checked~div.sk-toggleable__content {max-height: 200px;max-width: 100%;overflow: auto;}#sk-container-id-2 input.sk-toggleable__control:checked~label.sk-toggleable__label-arrow:before {content: \"▾\";}#sk-container-id-2 div.sk-estimator input.sk-toggleable__control:checked~label.sk-toggleable__label {background-color: #d4ebff;}#sk-container-id-2 div.sk-label input.sk-toggleable__control:checked~label.sk-toggleable__label {background-color: #d4ebff;}#sk-container-id-2 input.sk-hidden--visually {border: 0;clip: rect(1px 1px 1px 1px);clip: rect(1px, 1px, 1px, 1px);height: 1px;margin: -1px;overflow: hidden;padding: 0;position: absolute;width: 1px;}#sk-container-id-2 div.sk-estimator {font-family: monospace;background-color: #f0f8ff;border: 1px dotted black;border-radius: 0.25em;box-sizing: border-box;margin-bottom: 0.5em;}#sk-container-id-2 div.sk-estimator:hover {background-color: #d4ebff;}#sk-container-id-2 div.sk-parallel-item::after {content: \"\";width: 100%;border-bottom: 1px solid gray;flex-grow: 1;}#sk-container-id-2 div.sk-label:hover label.sk-toggleable__label {background-color: #d4ebff;}#sk-container-id-2 div.sk-serial::before {content: \"\";position: absolute;border-left: 1px solid gray;box-sizing: border-box;top: 0;bottom: 0;left: 50%;z-index: 0;}#sk-container-id-2 div.sk-serial {display: flex;flex-direction: column;align-items: center;background-color: white;padding-right: 0.2em;padding-left: 0.2em;position: relative;}#sk-container-id-2 div.sk-item {position: relative;z-index: 1;}#sk-container-id-2 div.sk-parallel {display: flex;align-items: stretch;justify-content: center;background-color: white;position: relative;}#sk-container-id-2 div.sk-item::before, #sk-container-id-2 div.sk-parallel-item::before {content: \"\";position: absolute;border-left: 1px solid gray;box-sizing: border-box;top: 0;bottom: 0;left: 50%;z-index: -1;}#sk-container-id-2 div.sk-parallel-item {display: flex;flex-direction: column;z-index: 1;position: relative;background-color: white;}#sk-container-id-2 div.sk-parallel-item:first-child::after {align-self: flex-end;width: 50%;}#sk-container-id-2 div.sk-parallel-item:last-child::after {align-self: flex-start;width: 50%;}#sk-container-id-2 div.sk-parallel-item:only-child::after {width: 0;}#sk-container-id-2 div.sk-dashed-wrapped {border: 1px dashed gray;margin: 0 0.4em 0.5em 0.4em;box-sizing: border-box;padding-bottom: 0.4em;background-color: white;}#sk-container-id-2 div.sk-label label {font-family: monospace;font-weight: bold;display: inline-block;line-height: 1.2em;}#sk-container-id-2 div.sk-label-container {text-align: center;}#sk-container-id-2 div.sk-container {/* jupyter's `normalize.less` sets `[hidden] { display: none; }` but bootstrap.min.css set `[hidden] { display: none !important; }` so we also need the `!important` here to be able to override the default hidden behavior on the sphinx rendered scikit-learn.org. See: https://github.com/scikit-learn/scikit-learn/issues/21755 */display: inline-block !important;position: relative;}#sk-container-id-2 div.sk-text-repr-fallback {display: none;}</style><div id=\"sk-container-id-2\" class=\"sk-top-container\"><div class=\"sk-text-repr-fallback\"><pre>NearestNeighbors(algorithm=&#x27;ball_tree&#x27;, n_neighbors=6)</pre><b>In a Jupyter environment, please rerun this cell to show the HTML representation or trust the notebook. <br />On GitHub, the HTML representation is unable to render, please try loading this page with nbviewer.org.</b></div><div class=\"sk-container\" hidden><div class=\"sk-item\"><div class=\"sk-estimator sk-toggleable\"><input class=\"sk-toggleable__control sk-hidden--visually\" id=\"sk-estimator-id-2\" type=\"checkbox\" checked><label for=\"sk-estimator-id-2\" class=\"sk-toggleable__label sk-toggleable__label-arrow\">NearestNeighbors</label><div class=\"sk-toggleable__content\"><pre>NearestNeighbors(algorithm=&#x27;ball_tree&#x27;, n_neighbors=6)</pre></div></div></div></div></div>"
      ],
      "text/plain": [
       "NearestNeighbors(algorithm='ball_tree', n_neighbors=6)"
      ]
     },
     "execution_count": 52,
     "metadata": {},
     "output_type": "execute_result"
    }
   ],
   "source": [
    "knn = NearestNeighbors(n_neighbors=6, algorithm='ball_tree')\n",
    "knn.fit(embed_df_val_nump)"
   ]
  },
  {
   "cell_type": "markdown",
   "id": "47c17145",
   "metadata": {},
   "source": [
    "### Get user imput image embedding using vgg19"
   ]
  },
  {
   "cell_type": "code",
   "execution_count": 49,
   "id": "2e525065",
   "metadata": {},
   "outputs": [],
   "source": [
    "def get_user_image_embedding(image_path, model):\n",
    "    user_image = Image.open(image_path)\n",
    "    user_image_mod = user_image.resize((224,224))\n",
    "    user_image_mod2 = np.array(user_image_mod).astype(np.int16)\n",
    "    user_embedding = get_embedding(model, user_image_mod)\n",
    "    return user_embedding"
   ]
  },
  {
   "cell_type": "markdown",
   "id": "15145195",
   "metadata": {},
   "source": [
    "### Display most similar images"
   ]
  },
  {
   "cell_type": "code",
   "execution_count": 50,
   "id": "b9702fb3",
   "metadata": {},
   "outputs": [],
   "source": [
    "def calculate_nearest_neighbors(user_embedding, knn_model, image_paths, num_neighbors=5):\n",
    "    # Find nearest neighbors\n",
    "    distances, indices = knn_model.kneighbors([user_embedding], n_neighbors=num_neighbors + 1)\n",
    "    neighbor_indices = indices[0][1:]  # Exclude the first index (user's image)\n",
    "\n",
    "    # Retrieve the paths of the nearest images\n",
    "    nearest_images = [image_paths[i] for i in neighbor_indices]\n",
    "    \n",
    "\n",
    "    # Display images\n",
    "    plt.figure(figsize=(15, 10))\n",
    "    for i, path in enumerate(nearest_images):\n",
    "        img = mpimg.imread(path)\n",
    "        plt.subplot(1, num_neighbors, i + 1)\n",
    "        plt.imshow(img)\n",
    "        plt.axis('off')\n",
    "    plt.show()"
   ]
  },
  {
   "cell_type": "markdown",
   "id": "adb8c6a8",
   "metadata": {},
   "source": [
    "# Running the KNN algorithm"
   ]
  },
  {
   "cell_type": "code",
   "execution_count": 53,
   "id": "21583459",
   "metadata": {},
   "outputs": [
    {
     "name": "stdout",
     "output_type": "stream",
     "text": [
      "1/1 [==============================] - 0s 88ms/step\n"
     ]
    },
    {
     "data": {
      "image/png": "[encoded data removed]",
      "text/plain": [
       "<Figure size 640x480 with 1 Axes>"
      ]
     },
     "metadata": {},
     "output_type": "display_data"
    },
    {
     "data": {
      "image/png": "[encoded data removed]",
      "text/plain": [
       "<Figure size 1500x1000 with 5 Axes>"
      ]
     },
     "metadata": {},
     "output_type": "display_data"
    }
   ],
   "source": [
    "# User inputs an image\n",
    "image_paths = data_valid_na['image_path'].tolist()\n",
    "#user_image_path = input(\"Enter the path of your image: \")\n",
    "user_image_path = r'D:\\School\\Steelcase Capstone\\Total_Images\\0a14edbeff34447a88acda602f872614\\0a14edbeff34447a88acda602f872614_Top.png'\n",
    "\n",
    "# Generate embedding for the user image\n",
    "user_embedding = get_user_image_embedding(user_image_path, model)\n",
    "\n",
    "img2 = mpimg.imread(user_image_path)\n",
    "plt.imshow(img2)\n",
    "plt.axis('off')\n",
    "\n",
    "# Display the nearest neighbor images\n",
    "calculate_nearest_neighbors(user_embedding, knn, image_paths)"
   ]
  },
  {
   "cell_type": "markdown",
   "id": "7bf91043",
   "metadata": {},
   "source": [
    "### Gathering only valid class for streamlit demo"
   ]
  },
  {
   "cell_type": "code",
   "execution_count": 35,
   "id": "0b2eb3fd",
   "metadata": {
    "collapsed": true
   },
   "outputs": [
    {
     "data": {
      "text/plain": [
       "1       [[[128, 128, 128], [128, 128, 128], [128, 128,...\n",
       "4       [[[128, 128, 128], [128, 128, 128], [128, 128,...\n",
       "12      [[[128, 128, 128], [128, 128, 128], [128, 128,...\n",
       "20      [[[128, 128, 128], [128, 128, 128], [128, 128,...\n",
       "34      [[[128, 128, 128], [128, 128, 128], [128, 128,...\n",
       "                              ...                        \n",
       "3369    [[[128, 128, 128], [128, 128, 128], [128, 128,...\n",
       "3372    [[[128, 128, 128], [128, 128, 128], [128, 128,...\n",
       "3376    [[[128, 128, 128], [128, 128, 128], [128, 128,...\n",
       "3379    [[[128, 128, 128], [128, 128, 128], [128, 128,...\n",
       "3392    [[[128, 128, 128], [128, 128, 128], [128, 128,...\n",
       "Name: image, Length: 384, dtype: object"
      ]
     },
     "execution_count": 35,
     "metadata": {},
     "output_type": "execute_result"
    }
   ],
   "source": [
    "#data_valid = data.where(data['label']==1)\n",
    "#data_valid\n",
    "#data_valid_na = data_valid.dropna()\n",
    "data_valid_na.image"
   ]
  },
  {
   "cell_type": "code",
   "execution_count": 36,
   "id": "1948f0f2",
   "metadata": {
    "collapsed": true
   },
   "outputs": [
    {
     "data": {
      "text/plain": [
       "0       [[[128 128 128]\\n  [128 128 128]\\n  [128 128 1...\n",
       "1       [[[128 128 128]\\n  [128 128 128]\\n  [128 128 1...\n",
       "2       [[[128 128 128]\\n  [128 128 128]\\n  [128 128 1...\n",
       "3       [[[128 128 128]\\n  [128 128 128]\\n  [128 128 1...\n",
       "4       [[[128 128 128]\\n  [128 128 128]\\n  [128 128 1...\n",
       "                              ...                        \n",
       "3408    [[[128 128 128]\\n  [128 128 128]\\n  [128 128 1...\n",
       "3409    [[[128 128 128]\\n  [128 128 128]\\n  [128 128 1...\n",
       "3410    [[[128 128 128]\\n  [128 128 128]\\n  [128 128 1...\n",
       "3411    [[[128 128 128]\\n  [128 128 128]\\n  [128 128 1...\n",
       "3412    [[[128 128 128]\\n  [128 128 128]\\n  [128 128 1...\n",
       "Name: image, Length: 3413, dtype: object"
      ]
     },
     "execution_count": 36,
     "metadata": {},
     "output_type": "execute_result"
    }
   ],
   "source": [
    "new_data.image"
   ]
  },
  {
   "cell_type": "code",
   "execution_count": 28,
   "id": "05a25015",
   "metadata": {
    "collapsed": true
   },
   "outputs": [
    {
     "name": "stderr",
     "output_type": "stream",
     "text": [
      "\r",
      "  0%|                                                                                           | 0/12 [00:00<?, ?it/s]"
     ]
    },
    {
     "name": "stdout",
     "output_type": "stream",
     "text": [
      "1/1 [==============================] - 2s 2s/step\n"
     ]
    },
    {
     "name": "stderr",
     "output_type": "stream",
     "text": [
      "\r",
      "  8%|██████▉                                                                            | 1/12 [00:01<00:18,  1.64s/it]"
     ]
    },
    {
     "name": "stdout",
     "output_type": "stream",
     "text": [
      "1/1 [==============================] - 1s 1s/step\n"
     ]
    },
    {
     "name": "stderr",
     "output_type": "stream",
     "text": [
      "\r",
      " 17%|█████████████▊                                                                     | 2/12 [00:03<00:15,  1.58s/it]"
     ]
    },
    {
     "name": "stdout",
     "output_type": "stream",
     "text": [
      "1/1 [==============================] - 1s 1s/step\n"
     ]
    },
    {
     "name": "stderr",
     "output_type": "stream",
     "text": [
      "\r",
      " 25%|████████████████████▊                                                              | 3/12 [00:04<00:14,  1.56s/it]"
     ]
    },
    {
     "name": "stdout",
     "output_type": "stream",
     "text": [
      "1/1 [==============================] - 1s 1s/step\n"
     ]
    },
    {
     "name": "stderr",
     "output_type": "stream",
     "text": [
      "\r",
      " 33%|███████████████████████████▋                                                       | 4/12 [00:06<00:12,  1.54s/it]"
     ]
    },
    {
     "name": "stdout",
     "output_type": "stream",
     "text": [
      "1/1 [==============================] - 1s 1s/step\n"
     ]
    },
    {
     "name": "stderr",
     "output_type": "stream",
     "text": [
      "\r",
      " 42%|██████████████████████████████████▌                                                | 5/12 [00:07<00:10,  1.53s/it]"
     ]
    },
    {
     "name": "stdout",
     "output_type": "stream",
     "text": [
      "1/1 [==============================] - 1s 1s/step\n"
     ]
    },
    {
     "name": "stderr",
     "output_type": "stream",
     "text": [
      "\r",
      " 50%|█████████████████████████████████████████▌                                         | 6/12 [00:09<00:09,  1.53s/it]"
     ]
    },
    {
     "name": "stdout",
     "output_type": "stream",
     "text": [
      "1/1 [==============================] - 1s 1s/step\n"
     ]
    },
    {
     "name": "stderr",
     "output_type": "stream",
     "text": [
      "\r",
      " 58%|████████████████████████████████████████████████▍                                  | 7/12 [00:10<00:07,  1.52s/it]"
     ]
    },
    {
     "name": "stdout",
     "output_type": "stream",
     "text": [
      "1/1 [==============================] - 1s 1s/step\n"
     ]
    },
    {
     "name": "stderr",
     "output_type": "stream",
     "text": [
      "\r",
      " 67%|███████████████████████████████████████████████████████▎                           | 8/12 [00:12<00:06,  1.52s/it]"
     ]
    },
    {
     "name": "stdout",
     "output_type": "stream",
     "text": [
      "1/1 [==============================] - 1s 1s/step\n"
     ]
    },
    {
     "name": "stderr",
     "output_type": "stream",
     "text": [
      "\r",
      " 75%|██████████████████████████████████████████████████████████████▎                    | 9/12 [00:13<00:04,  1.52s/it]"
     ]
    },
    {
     "name": "stdout",
     "output_type": "stream",
     "text": [
      "1/1 [==============================] - 1s 1s/step\n"
     ]
    },
    {
     "name": "stderr",
     "output_type": "stream",
     "text": [
      "\r",
      " 83%|████████████████████████████████████████████████████████████████████▎             | 10/12 [00:15<00:03,  1.53s/it]"
     ]
    },
    {
     "name": "stdout",
     "output_type": "stream",
     "text": [
      "1/1 [==============================] - 1s 1s/step\n"
     ]
    },
    {
     "name": "stderr",
     "output_type": "stream",
     "text": [
      "\r",
      " 92%|███████████████████████████████████████████████████████████████████████████▏      | 11/12 [00:16<00:01,  1.53s/it]"
     ]
    },
    {
     "name": "stdout",
     "output_type": "stream",
     "text": [
      "1/1 [==============================] - 1s 1s/step\n"
     ]
    },
    {
     "name": "stderr",
     "output_type": "stream",
     "text": [
      "100%|██████████████████████████████████████████████████████████████████████████████████| 12/12 [00:18<00:00,  1.54s/it]\n"
     ]
    }
   ],
   "source": [
    "#embeddings_valid = process_images(data_valid_na.image, model, batch_size=32)"
   ]
  },
  {
   "cell_type": "code",
   "execution_count": 48,
   "id": "5c49cc03",
   "metadata": {},
   "outputs": [],
   "source": [
    "embeddings_df_valid = pd.DataFrame(embeddings_valid)\n",
    "embed_df_val_nump = embeddings_df_valid.to_numpy()"
   ]
  },
  {
   "cell_type": "code",
   "execution_count": 54,
   "id": "9f2968a5",
   "metadata": {},
   "outputs": [],
   "source": [
    "#embeddings_df_valid.to_csv(r'D:\\School\\Steelcase Capstone\\Embeddings_valid.csv')"
   ]
  },
  {
   "cell_type": "code",
   "execution_count": 55,
   "id": "00f6a02b",
   "metadata": {},
   "outputs": [],
   "source": [
    "data_valid_na.to_csv(r'D:\\School\\Steelcase Capstone\\floorplan_dataset_valid.csv')"
   ]
  },
  {
   "cell_type": "code",
   "execution_count": null,
   "id": "8e7c5ceb",
   "metadata": {},
   "outputs": [],
   "source": []
  }
 ],
 "metadata": {
  "kernelspec": {
   "display_name": "Python 3 (ipykernel)",
   "language": "python",
   "name": "python3"
  },
  "language_info": {
   "codemirror_mode": {
    "name": "ipython",
    "version": 3
   },
   "file_extension": ".py",
   "mimetype": "text/x-python",
   "name": "python",
   "nbconvert_exporter": "python",
   "pygments_lexer": "ipython3",
   "version": "3.11.5"
  }
 },
 "nbformat": 4,
 "nbformat_minor": 5
}
