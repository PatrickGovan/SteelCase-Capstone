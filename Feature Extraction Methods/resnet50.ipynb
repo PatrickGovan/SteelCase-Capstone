{
 "cells": [
  {
   "cell_type": "markdown",
   "id": "d289aebb",
   "metadata": {},
   "source": [
    "# Imports Part"
   ]
  },
  {
   "cell_type": "code",
   "execution_count": 37,
   "id": "f6a2f421",
   "metadata": {},
   "outputs": [],
   "source": [
    "import pandas as pd\n",
    "import numpy as np\n",
    "import torch\n",
    "from torch import nn\n",
    "from torchvision import models, transforms\n",
    "from torch.utils.data import Dataset, DataLoader\n",
    "from sklearn.neighbors import KNeighborsClassifier\n",
    "from sklearn.metrics import classification_report, f1_score\n",
    "from xgboost import XGBClassifier\n",
    "from sklearn.model_selection import train_test_split\n",
    "from PIL import Image\n",
    "from sklearn.metrics import classification_report, accuracy_score\n"
   ]
  },
  {
   "cell_type": "markdown",
   "id": "07e7410c",
   "metadata": {},
   "source": [
    "# Loading Labelled data"
   ]
  },
  {
   "cell_type": "code",
   "execution_count": 19,
   "id": "4ac8099f",
   "metadata": {},
   "outputs": [],
   "source": [
    "# Loading Labelled data\n",
    "data = pd.read_csv(\"C:/Users/47819/OneDrive/Desktop/STT 890/steelcase/labelled_floorplan_dataset.csv\")\n",
    "\n",
    "def image_path(key):\n",
    "    return f\"Total_Images/{key}/{key}_Top.png\"\n",
    "\n",
    "data['image_path'] = data['key'].apply(image_path)\n",
    "data\n",
    "\n",
    "image_paths = data['image_path'].values\n",
    "labels = data['label'].values\n",
    "\n",
    "image_paths = data['image_path'].values\n",
    "labels = data['label'].values\n",
    "\n",
    "# Define dataset class\n",
    "class FloorplanDataset(Dataset):\n",
    "    def __init__(self, image_paths, labels, transform=None):\n",
    "        self.image_paths = image_paths\n",
    "        self.labels = labels\n",
    "        self.transform = transform\n",
    "\n",
    "    def __len__(self):\n",
    "        return len(self.image_paths)\n",
    "\n",
    "    def __getitem__(self, idx):\n",
    "        image_path = self.image_paths[idx]\n",
    "        label = self.labels[idx]\n",
    "        image = Image.open(image_path).convert('RGB')\n",
    "        \n",
    "        if self.transform:\n",
    "            image = self.transform(image)\n",
    "        \n",
    "        return image, label\n",
    "\n",
    "# Define data transformations\n",
    "transform = transforms.Compose([\n",
    "    transforms.Resize((224, 224)),\n",
    "    transforms.ToTensor(),\n",
    "    transforms.Normalize(mean=[0.485, 0.456, 0.406], std=[0.229, 0.224, 0.225]),\n",
    "])\n",
    "\n",
    "# Create datasets and data loaders\n",
    "dataset = FloorplanDataset(image_paths, labels, transform=transform)\n",
    "train_loader = DataLoader(dataset, batch_size=32, shuffle=True)"
   ]
  },
  {
   "cell_type": "markdown",
   "id": "3dc8feb7",
   "metadata": {},
   "source": [
    "# Load the ResNet50 model pre-trained on image data"
   ]
  },
  {
   "cell_type": "code",
   "execution_count": 20,
   "id": "75bade50",
   "metadata": {},
   "outputs": [
    {
     "name": "stderr",
     "output_type": "stream",
     "text": [
      "C:\\Users\\47819\\anaconda3\\Lib\\site-packages\\torchvision\\models\\_utils.py:208: UserWarning: The parameter 'pretrained' is deprecated since 0.13 and may be removed in the future, please use 'weights' instead.\n",
      "  warnings.warn(\n",
      "C:\\Users\\47819\\anaconda3\\Lib\\site-packages\\torchvision\\models\\_utils.py:223: UserWarning: Arguments other than a weight enum or `None` for 'weights' are deprecated since 0.13 and may be removed in the future. The current behavior is equivalent to passing `weights=ResNet50_Weights.IMAGENET1K_V1`. You can also use `weights=ResNet50_Weights.DEFAULT` to get the most up-to-date weights.\n",
      "  warnings.warn(msg)\n"
     ]
    }
   ],
   "source": [
    "# 加载预训练的ResNet50模型\n",
    "resnet = models.resnet50(pretrained=True)\n",
    "resnet.fc = nn.Identity() \n"
   ]
  },
  {
   "cell_type": "markdown",
   "id": "93c2affa",
   "metadata": {},
   "source": [
    "# ResNet50 Extract Features"
   ]
  },
  {
   "cell_type": "code",
   "execution_count": 24,
   "id": "25dedd00",
   "metadata": {},
   "outputs": [],
   "source": [
    "# extract features by ResNet50\n",
    "def extract_features(data_loader, model):\n",
    "    model.eval()\n",
    "    features = []\n",
    "    labels = []\n",
    "\n",
    "    with torch.no_grad():\n",
    "        for inputs, labels_batch in data_loader:\n",
    "            outputs = model(inputs)\n",
    "            features.append(outputs)\n",
    "            labels.append(labels_batch)\n",
    "\n",
    "    features = torch.cat(features).numpy()\n",
    "    labels = torch.cat(labels).numpy()\n",
    "    return features, labels\n",
    "\n",
    "# Extract training set features\n",
    "features, labels = extract_features(train_loader, resnet)\n"
   ]
  },
  {
   "cell_type": "markdown",
   "id": "4d2fdf61",
   "metadata": {},
   "source": [
    "# Split the data set into training set and test set"
   ]
  },
  {
   "cell_type": "code",
   "execution_count": 25,
   "id": "a1fd9ae1",
   "metadata": {},
   "outputs": [],
   "source": [
    "X_train, X_test, y_train, y_test = train_test_split(features, labels, test_size=0.2, random_state=42)\n"
   ]
  },
  {
   "cell_type": "markdown",
   "id": "89ea88fc",
   "metadata": {},
   "source": [
    "# Classifier Part"
   ]
  },
  {
   "cell_type": "code",
   "execution_count": 29,
   "id": "5675d681",
   "metadata": {},
   "outputs": [
    {
     "name": "stdout",
     "output_type": "stream",
     "text": [
      "K-NN F1 Score: 0.7633603990871942\n",
      "XGBoost F1 Score: 0.7533875338753389\n"
     ]
    }
   ],
   "source": [
    "# K-NN\n",
    "knn = KNeighborsClassifier(n_neighbors=3)\n",
    "knn.fit(X_train, y_train)\n",
    "y_pred_knn = knn.predict(X_test)\n",
    "f1_knn = f1_score(y_test, y_pred_knn, average='macro')\n",
    "\n",
    "# XGBoost\n",
    "y_train_xgb = np.where(y_train == -1, 0, 1)\n",
    "y_test_xgb = np.where(y_test == -1, 0, 1)\n",
    "xgb = XGBClassifier()\n",
    "xgb.fit(X_train, y_train_xgb)\n",
    "y_pred_xgb = xgb.predict(X_test)\n",
    "f1_xgb = f1_score(y_test_xgb, y_pred_xgb, average='macro')\n",
    "\n",
    "print(f'K-NN F1 Score: {f1_knn}')\n",
    "print(f'XGBoost F1 Score: {f1_xgb}')\n"
   ]
  },
  {
   "cell_type": "code",
   "execution_count": 36,
   "id": "3992afff",
   "metadata": {},
   "outputs": [
    {
     "name": "stdout",
     "output_type": "stream",
     "text": [
      "              precision    recall  f1-score   support\n",
      "\n",
      "        -1.0       0.93      0.97      0.95       560\n",
      "         1.0       0.69      0.49      0.58        77\n",
      "\n",
      "    accuracy                           0.91       637\n",
      "   macro avg       0.81      0.73      0.76       637\n",
      "weighted avg       0.90      0.91      0.91       637\n",
      "\n",
      "Accuracy: 0.9120879120879121\n"
     ]
    }
   ],
   "source": [
    "print(classification_report(y_test, y_pred_knn))\n",
    "print(f\"Accuracy: {accuracy_score(y_test, y_pred_knn)}\")"
   ]
  },
  {
   "cell_type": "code",
   "execution_count": 35,
   "id": "d278d45a",
   "metadata": {},
   "outputs": [
    {
     "name": "stdout",
     "output_type": "stream",
     "text": [
      "              precision    recall  f1-score   support\n",
      "\n",
      "           0       0.93      0.97      0.95       560\n",
      "           1       0.71      0.45      0.56        77\n",
      "\n",
      "    accuracy                           0.91       637\n",
      "   macro avg       0.82      0.71      0.75       637\n",
      "weighted avg       0.90      0.91      0.90       637\n",
      "\n",
      "Accuracy: 0.9120879120879121\n"
     ]
    }
   ],
   "source": [
    "print(classification_report(y_test_xgb, y_pred_xgb))\n",
    "print(f\"Accuracy: {accuracy_score(y_test_xgb, y_pred_xgb)}\")"
   ]
  },
  {
   "cell_type": "code",
   "execution_count": null,
   "id": "b133657f",
   "metadata": {},
   "outputs": [],
   "source": []
  }
 ],
 "metadata": {
  "kernelspec": {
   "display_name": "Python 3 (ipykernel)",
   "language": "python",
   "name": "python3"
  },
  "language_info": {
   "codemirror_mode": {
    "name": "ipython",
    "version": 3
   },
   "file_extension": ".py",
   "mimetype": "text/x-python",
   "name": "python",
   "nbconvert_exporter": "python",
   "pygments_lexer": "ipython3",
   "version": "3.11.4"
  }
 },
 "nbformat": 4,
 "nbformat_minor": 5
}
