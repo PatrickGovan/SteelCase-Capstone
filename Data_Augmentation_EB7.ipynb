{
 "cells": [
  {
   "cell_type": "code",
   "execution_count": 121,
   "id": "475bdded-5a48-4ec7-8033-ffc91498ebfa",
   "metadata": {},
   "outputs": [],
   "source": [
    "import pandas as pd\n",
    "import seaborn as sns\n",
    "import matplotlib.pyplot as plt\n",
    "from PIL import Image\n",
    "import os\n",
    "from tensorflow.keras.utils import to_categorical\n",
    "from sklearn.preprocessing import LabelEncoder\n",
    "from sklearn.model_selection import train_test_split\n",
    "from sklearn.metrics import f1_score\n",
    "from tensorflow.keras.applications import EfficientNetB7\n",
    "from tensorflow.keras.preprocessing.image import ImageDataGenerator\n",
    "from tensorflow.keras import layers, models, optimizers\n",
    "from tensorflow.keras.applications.efficientnet import preprocess_input\n",
    "import numpy as np"
   ]
  },
  {
   "cell_type": "markdown",
   "id": "e4392a50-dc7f-4666-b927-f3c5e183e371",
   "metadata": {},
   "source": [
    "## Initializing the Model"
   ]
  },
  {
   "cell_type": "code",
   "execution_count": 248,
   "id": "5aac5b5c-14f5-475f-a1e9-f123eed63315",
   "metadata": {},
   "outputs": [
    {
     "name": "stdout",
     "output_type": "stream",
     "text": [
      "Model: \"sequential_15\"\n",
      "_________________________________________________________________\n",
      " Layer (type)                Output Shape              Param #   \n",
      "=================================================================\n",
      " efficientnetb7 (Functional  (None, 7, 7, 2560)        64097687  \n",
      " )                                                               \n",
      "                                                                 \n",
      " max_pooling2d_5 (MaxPoolin  (None, 3, 3, 2560)        0         \n",
      " g2D)                                                            \n",
      "                                                                 \n",
      "=================================================================\n",
      "Total params: 64097687 (244.51 MB)\n",
      "Trainable params: 0 (0.00 Byte)\n",
      "Non-trainable params: 64097687 (244.51 MB)\n",
      "_________________________________________________________________\n"
     ]
    }
   ],
   "source": [
    "base_model = EfficientNetB7(weights='imagenet', include_top=False, input_shape=(224, 224, 3))\n",
    "base_model.trainable = False\n",
    "model = models.Sequential([\n",
    "    base_model,\n",
    "    layers.MaxPooling2D(), \n",
    "    #layers.Dense(256, activation='relu'),\n",
    "])\n",
    "\n",
    "model.compile(optimizer='adam', loss='categorical_crossentropy', metrics=['accuracy'])\n",
    "model.summary()"
   ]
  },
  {
   "cell_type": "code",
   "execution_count": 265,
   "id": "b3e88531-e2e5-462e-bf2b-292cfeefa51c",
   "metadata": {},
   "outputs": [],
   "source": [
    "import pickle\n",
    "with open('Processed_data_RGB_224x224.pkl', 'rb') as file:\n",
    "    data = pickle.load(file)\n",
    "\n",
    "ADG_im = list(data.image)\n",
    "ADG_lb = list(data.label)"
   ]
  },
  {
   "cell_type": "markdown",
   "id": "ca5b5982-53e6-46a7-8286-6b92e40d2406",
   "metadata": {},
   "source": [
    "## Data Augmentation"
   ]
  },
  {
   "cell_type": "code",
   "execution_count": 266,
   "id": "1a619c8a-870e-4c5d-82c1-1ded94ff2d0c",
   "metadata": {},
   "outputs": [],
   "source": [
    "ADG_im = list(data.image)\n",
    "ADG_lb = list(data.label)\n",
    "\n",
    "datagen = ImageDataGenerator(\n",
    "    rescale=1./255,\n",
    "    rotation_range=20,\n",
    "    width_shift_range=0.2,\n",
    "    height_shift_range=0.2,\n",
    "    shear_range=0.2,\n",
    "    zoom_range=0.2,\n",
    "    horizontal_flip=True,\n",
    "    fill_mode='nearest'\n",
    ")\n",
    "\n",
    "\n",
    "image_arrays = np.array([np.array(img) for img in data['image']])\n",
    "\n",
    "batch_size = 32\n",
    "augmented_generator = datagen.flow(\n",
    "    x=image_arrays,\n",
    "    y=data.label,  \n",
    "    batch_size=batch_size,\n",
    "    shuffle=True, \n",
    ")\n",
    "\n",
    "num_batches = 100 \n",
    "for kl in range(num_batches):\n",
    "    batch_images, batch_labels = augmented_generator.next()\n",
    "    for i in range(batch_size):\n",
    "        \n",
    "        ADG_im.append(batch_images[i])\n",
    "        ADG_lb.append(batch_labels[i])"
   ]
  },
  {
   "cell_type": "code",
   "execution_count": 271,
   "id": "2a89e4ef-d655-4c5b-a246-ed992eceb16b",
   "metadata": {},
   "outputs": [],
   "source": [
    "ADG_im = np.asarray(ADG_im)"
   ]
  },
  {
   "cell_type": "code",
   "execution_count": 272,
   "id": "220d0d99-efd3-481d-8f22-189d4ee32be0",
   "metadata": {},
   "outputs": [
    {
     "data": {
      "text/plain": [
       "(6613, 224, 224, 3)"
      ]
     },
     "execution_count": 272,
     "metadata": {},
     "output_type": "execute_result"
    }
   ],
   "source": [
    "ADG_im.shape"
   ]
  },
  {
   "cell_type": "code",
   "execution_count": 275,
   "id": "f11a4b9b-bf93-4d55-8469-55a1c7521a8a",
   "metadata": {},
   "outputs": [
    {
     "data": {
      "text/plain": [
       "-1.0    5875\n",
       " 1.0     738\n",
       "Name: count, dtype: int64"
      ]
     },
     "execution_count": 275,
     "metadata": {},
     "output_type": "execute_result"
    }
   ],
   "source": [
    "pd.Series(ADG_lb).value_counts()"
   ]
  },
  {
   "cell_type": "code",
   "execution_count": 276,
   "id": "57735921-61b2-4954-b5a7-941ba1bf0ca3",
   "metadata": {},
   "outputs": [],
   "source": [
    "x_train, x_test, y_train, y_test = train_test_split(ADG_im, ADG_lb, test_size=0.3,random_state=666)"
   ]
  },
  {
   "cell_type": "code",
   "execution_count": 277,
   "id": "666fc758-2eb2-41a7-9130-9e9e32727e2f",
   "metadata": {},
   "outputs": [],
   "source": [
    "x_train = x_train.reshape(x_train.shape[0], *(224, 224, 3))\n",
    "x_test = x_test.reshape(x_test.shape[0], *(224, 224, 3))"
   ]
  },
  {
   "cell_type": "code",
   "execution_count": 278,
   "id": "dbfbec6a-1552-4fbf-bbc5-c43d85752c06",
   "metadata": {},
   "outputs": [
    {
     "name": "stdout",
     "output_type": "stream",
     "text": [
      "145/145 [==============================] - 230s 2s/step\n",
      "62/62 [==============================] - 98s 2s/step\n"
     ]
    }
   ],
   "source": [
    "features = model.predict(x_train)\n",
    "x_test_features = model.predict(x_test)"
   ]
  },
  {
   "cell_type": "code",
   "execution_count": 281,
   "id": "b2fafc2d-9a62-49f8-ab18-74d22f551f0f",
   "metadata": {},
   "outputs": [
    {
     "data": {
      "text/plain": [
       "[<matplotlib.lines.Line2D at 0x2970cc150>]"
      ]
     },
     "execution_count": 281,
     "metadata": {},
     "output_type": "execute_result"
    },
    {
     "data": {
      "image/png": "[encoded data removed]",
      "text/plain": [
       "<Figure size 640x480 with 1 Axes>"
      ]
     },
     "metadata": {},
     "output_type": "display_data"
    }
   ],
   "source": [
    "features = features.reshape((features.shape[0], -1))\n",
    "x_test_features = x_test_features.reshape((x_test_features.shape[0], -1))\n",
    "plt.plot(features[127])"
   ]
  },
  {
   "cell_type": "markdown",
   "id": "45b086d2-0492-4f31-87f9-f8fd9e22cf10",
   "metadata": {},
   "source": [
    "## KNN Classifier"
   ]
  },
  {
   "cell_type": "code",
   "execution_count": 282,
   "id": "a75c5a17-a431-4a11-a362-8b6ae0ace31a",
   "metadata": {},
   "outputs": [],
   "source": [
    "from sklearn.neighbors import KNeighborsClassifier\n",
    "from sklearn.metrics import f1_score"
   ]
  },
  {
   "cell_type": "code",
   "execution_count": 287,
   "id": "94f50221-75a6-4940-a0a4-bc31fc813768",
   "metadata": {},
   "outputs": [
    {
     "data": {
      "text/plain": [
       "0.8915889214944248"
      ]
     },
     "execution_count": 287,
     "metadata": {},
     "output_type": "execute_result"
    }
   ],
   "source": [
    "knn_model = KNeighborsClassifier(n_neighbors=7) \n",
    "knn_model.fit(features, y_train)\n",
    "y_pred = knn_model.predict(x_test_features)\n",
    "f1_score(y_test, y_pred, average='weighted')"
   ]
  },
  {
   "cell_type": "code",
   "execution_count": 286,
   "id": "8d5eb02b-61b7-448e-b470-cf29e8dc09d6",
   "metadata": {},
   "outputs": [
    {
     "name": "stdout",
     "output_type": "stream",
     "text": [
      "[0.8730743423390875, 0.8690706817259011, 0.8811985175104898, 0.8793280597366113, 0.8910818385947947, 0.8873448878687441, 0.8915889214944248, 0.8837412255948077, 0.8897883311311033]\n"
     ]
    }
   ],
   "source": [
    "fs =[]\n",
    "for i in range(1,10):\n",
    "    knn_model = KNeighborsClassifier(n_neighbors=i) \n",
    "    knn_model.fit(features, y_train)\n",
    "    y_pred = knn_model.predict(x_test_features)\n",
    "    fs.append(f1_score(y_test, y_pred, average='weighted'))\n",
    "print(fs)"
   ]
  },
  {
   "cell_type": "code",
   "execution_count": 289,
   "id": "7ef12ea6-07b5-420e-8046-624a026bb2ab",
   "metadata": {},
   "outputs": [
    {
     "data": {
      "image/png": "[encoded data removed]",
      "text/plain": [
       "<Figure size 800x600 with 2 Axes>"
      ]
     },
     "metadata": {},
     "output_type": "display_data"
    }
   ],
   "source": [
    "from sklearn.metrics import confusion_matrix\n",
    "import seaborn as sns\n",
    "import matplotlib.pyplot as plt\n",
    "\n",
    "\n",
    "cm = confusion_matrix(y_test, y_pred)\n",
    "\n",
    "plt.figure(figsize=(8, 6))\n",
    "sns.heatmap(cm, annot=True, fmt='d', cmap='Blues', xticklabels=['Class 0', 'Class 1'], yticklabels=['Class 0', 'Class 1'])\n",
    "plt.xlabel('Predicted Label')\n",
    "plt.ylabel('True Label')\n",
    "plt.title('Confusion Matrix')\n",
    "plt.show()"
   ]
  },
  {
   "cell_type": "markdown",
   "id": "4755603f-86c8-42fe-b0d8-4152f9e6baa8",
   "metadata": {},
   "source": [
    "## XGBoost Classifier"
   ]
  },
  {
   "cell_type": "code",
   "execution_count": 300,
   "id": "bf9e92ec-62e5-4eb8-a6d3-f13902b75416",
   "metadata": {},
   "outputs": [],
   "source": [
    "import xgboost as xgb\n",
    "\n",
    "y_train_labels = [1 if p > 0 else 0 for p in y_train]\n",
    "y_test_labels = [1 if p > 0 else 0 for p in y_test]\n",
    "dtrain = xgb.DMatrix(features, label = y_train_labels)\n",
    "dtest = xgb.DMatrix(x_test_features)"
   ]
  },
  {
   "cell_type": "code",
   "execution_count": 305,
   "id": "28f0dac5-7494-4447-a4b4-8e4d4253a203",
   "metadata": {},
   "outputs": [
    {
     "name": "stderr",
     "output_type": "stream",
     "text": [
      "/Users/harishneelam/anaconda3/lib/python3.11/site-packages/xgboost/core.py:160: UserWarning: [19:53:53] WARNING: /Users/runner/work/xgboost/xgboost/src/learner.cc:742: \n",
      "Parameters: { \"n_estimators\" } are not used.\n",
      "\n",
      "  warnings.warn(smsg, UserWarning)\n"
     ]
    }
   ],
   "source": [
    "params = {\n",
    "    'objective': 'binary:logistic',\n",
    "    'eval_metric': 'logloss',\n",
    "    'max_depth': 4,\n",
    "    'learning_rate': 0.05,\n",
    "    'n_estimators': 100,\n",
    "    'subsample': 0.6,\n",
    "    'colsample_bytree': 0.6\n",
    "}\n",
    "\n",
    "model = xgb.train(params, dtrain, num_boost_round=100)\n",
    "\n",
    "y_pred_prob = model.predict(dtest)\n",
    "y_pred = [1 if p > 0.5 else 0 for p in y_pred_prob]"
   ]
  },
  {
   "cell_type": "code",
   "execution_count": 306,
   "id": "4142a1f3-eba0-4bd9-b10f-56d47c075c93",
   "metadata": {},
   "outputs": [
    {
     "name": "stdout",
     "output_type": "stream",
     "text": [
      "              precision    recall  f1-score   support\n",
      "\n",
      "           0       0.92      0.98      0.95      1765\n",
      "           1       0.66      0.35      0.46       219\n",
      "\n",
      "    accuracy                           0.91      1984\n",
      "   macro avg       0.79      0.66      0.70      1984\n",
      "weighted avg       0.89      0.91      0.90      1984\n",
      "\n"
     ]
    },
    {
     "data": {
      "text/plain": [
       "0.8952968565771151"
      ]
     },
     "execution_count": 306,
     "metadata": {},
     "output_type": "execute_result"
    }
   ],
   "source": [
    "from sklearn.metrics import classification_report\n",
    "print(classification_report(y_test_labels, y_pred))\n",
    "f1_score(y_test_labels, y_pred, average='weighted')"
   ]
  }
 ],
 "metadata": {
  "kernelspec": {
   "display_name": "Python 3 (ipykernel)",
   "language": "python",
   "name": "python3"
  },
  "language_info": {
   "codemirror_mode": {
    "name": "ipython",
    "version": 3
   },
   "file_extension": ".py",
   "mimetype": "text/x-python",
   "name": "python",
   "nbconvert_exporter": "python",
   "pygments_lexer": "ipython3",
   "version": "3.11.5"
  }
 },
 "nbformat": 4,
 "nbformat_minor": 5
}
